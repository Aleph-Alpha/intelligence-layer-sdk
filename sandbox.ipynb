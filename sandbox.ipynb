{
 "cells": [
  {
   "cell_type": "code",
   "execution_count": 3,
   "metadata": {},
   "outputs": [],
   "source": [
    "from typing import Any, Sequence, TypeVar, Generic, get_args, get_origin\n",
    "\n",
    "\n",
    "T = TypeVar(\"T\")\n",
    "V = TypeVar(\"V\")\n",
    "U = TypeVar(\"U\")\n",
    "X = TypeVar(\"X\")\n",
    "Y = TypeVar(\"Y\")\n",
    "\n",
    "\n",
    "class BaseClass(Generic[T, U, V, X, Y]):\n",
    "    pass\n",
    "\n",
    "\n",
    "Z = TypeVar(\"Z\")\n",
    "\n",
    "\n",
    "class SecondBaseClass(Generic[Z]):\n",
    "    pass\n",
    "\n",
    "\n",
    "class ChildClass(BaseClass[T, str, V, X, dict]):\n",
    "    pass\n",
    "\n",
    "\n",
    "W = TypeVar(\"W\")\n",
    "\n",
    "\n",
    "class GrandChildClass(ChildClass[T, W, list], SecondBaseClass):\n",
    "    pass\n",
    "    \n",
    "\n",
    "class GrandGrandChildClass(GrandChildClass[float, int]):\n",
    "    pass\n"
   ]
  },
  {
   "cell_type": "code",
   "execution_count": 18,
   "metadata": {},
   "outputs": [
    {
     "data": {
      "text/plain": [
       "[float, str, int, list, dict]"
      ]
     },
     "execution_count": 18,
     "metadata": {},
     "output_type": "execute_result"
    }
   ],
   "source": [
    "from typing import Union\n",
    "\n",
    "\n",
    "def get_types(cls: type, superclass: type) -> Sequence[type]:\n",
    "    def is_not_type_var(object: Any) -> bool:\n",
    "        return type(object) != TypeVar\n",
    "\n",
    "    def types_of_base(orig_bases: Any) -> Sequence[Union[type, TypeVar]]:\n",
    "        return list(get_args(orig_bases))\n",
    "\n",
    "    def is_eligible_subclass(superclass: type, parent: type):\n",
    "        return hasattr(parent, '__orig_bases__') and issubclass(parent, superclass)\n",
    "        \n",
    "    type_list: list[type] = types_of_base(superclass.__orig_bases__[0])\n",
    "    for parent in (p for p in reversed(cls.__mro__) if is_eligible_subclass(superclass, p)):\n",
    "        for base in parent.__orig_bases__:\n",
    "            origin = get_origin(base)\n",
    "            if origin is None:\n",
    "                continue\n",
    "            current_types = types_of_base(base)\n",
    "            types_set = 0\n",
    "            for current_index, current_type in enumerate(current_types):\n",
    "                if is_not_type_var(current_type):\n",
    "                    offset = sum(is_not_type_var(t) for t in type_list[:current_index+1])\n",
    "                    type_index = current_index + offset - types_set\n",
    "                    type_list[type_index] = current_type\n",
    "                    types_set += 1\n",
    "    return type_list\n",
    "\n",
    "get_types(GrandGrandChildClass, BaseClass)"
   ]
  }
 ],
 "metadata": {
  "kernelspec": {
   "display_name": "intelligence-layer-tfT-HG2V-py3.11",
   "language": "python",
   "name": "python3"
  },
  "language_info": {
   "codemirror_mode": {
    "name": "ipython",
    "version": 3
   },
   "file_extension": ".py",
   "mimetype": "text/x-python",
   "name": "python",
   "nbconvert_exporter": "python",
   "pygments_lexer": "ipython3",
   "version": "3.11.4"
  }
 },
 "nbformat": 4,
 "nbformat_minor": 2
}
