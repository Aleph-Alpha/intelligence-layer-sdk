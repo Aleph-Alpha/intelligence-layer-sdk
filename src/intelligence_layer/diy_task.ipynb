{
 "cells": [
  {
   "cell_type": "markdown",
   "metadata": {},
   "source": [
    "# Setting up your own custom task\n",
    "\n",
    "If the tasks we have set up don't fit your use case, this guide will go into how to set up your own task from scratch.\n",
    "To do this, we will be setting up a simple keyword extraction task.\n",
    "\n",
    "Keyword extraction is blabla.\n",
    "An example use case could be blabla.\n",
    "A full implementation can be found in blabla.\n",
    "\n",
    "Let's start with the task interface.\n",
    "The full Task interface can be found in [task.py](task.py).\n",
    "However, to implement a Task there are only a few parts relevant to us.\n",
    "The simplified interface for this guide is basically:\n",
    "\n",
    "```python\n",
    "Input = TypeVar(\"Input\", bound=PydanticSerializable)\n",
    "Output = TypeVar(\"Output\", bound=PydanticSerializable)\n",
    "\n",
    "class Task(ABC, Generic[Input, Output]):\n",
    "    @abstractmethod\n",
    "    def run(self, input: Input, logger: DebugLogger) -> Output:\n",
    "        \"\"\"Executes the process for this use-case.\"\"\"\n",
    "        ...\n",
    "```\n",
    "\n",
    "To create our own task, we have to define our Input, Output and how we would like to run it.\n",
    "Since tasks can vary so much, no assumptions are done about the implementation of the task. \n",
    "The only requirement is the fact that the input and output have to be PydanticSerializable.\n",
    "For our keyword extraction our input and output will be the following:"
   ]
  },
  {
   "cell_type": "code",
   "execution_count": 3,
   "metadata": {},
   "outputs": [],
   "source": [
    "from typing import Sequence\n",
    "from pydantic import BaseModel\n",
    "\n",
    "\n",
    "class KeywordExtractionInput(BaseModel):\n",
    "    text: str\n",
    "\n",
    "class KeywordExtractionOutput(BaseModel):\n",
    "    keywords: Sequence[str]"
   ]
  },
  {
   "cell_type": "markdown",
   "metadata": {},
   "source": [
    "Now that we have our input and output defined, we can make the task: "
   ]
  },
  {
   "cell_type": "code",
   "execution_count": null,
   "metadata": {},
   "outputs": [],
   "source": [
    "from intelligence_layer.task import DebugLogger, Task\n",
    "\n",
    "class KeywordExtractionTask(Task[KeywordExtractionInput, KeywordExtractionOutput]):\n",
    "    def run(self, input: KeywordExtractionInput, logger: DebugLogger) -> KeywordExtractionOutput:\n",
    "        pass"
   ]
  }
 ],
 "metadata": {
  "kernelspec": {
   "display_name": "intelligence-layer-XJoCsS19-py3.10",
   "language": "python",
   "name": "python3"
  },
  "language_info": {
   "codemirror_mode": {
    "name": "ipython",
    "version": 3
   },
   "file_extension": ".py",
   "mimetype": "text/x-python",
   "name": "python",
   "nbconvert_exporter": "python",
   "pygments_lexer": "ipython3",
   "version": "3.10.6"
  }
 },
 "nbformat": 4,
 "nbformat_minor": 2
}
