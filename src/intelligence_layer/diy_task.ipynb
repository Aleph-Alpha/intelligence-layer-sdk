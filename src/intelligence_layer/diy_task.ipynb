{
 "cells": [
  {
   "cell_type": "markdown",
   "metadata": {},
   "source": [
    "# Setting up your own custom task\n",
    "\n",
    "If the tasks we have set up don't fit your use case, this guide will go into how to set up your own task from scratch.\n",
    "To do this, we will be setting up a simple keyword extraction task.\n",
    "\n",
    "Keyword extraction is basically what the name suggests, extracting keywords from a piece of text.\n",
    "An example use case could be blabla.\n",
    "A full implementation can be found in blabla.\n",
    "\n",
    "Let's start with the task interface.\n",
    "The full Task interface can be found in [task.py](task.py).\n",
    "However, to implement a Task there are only a few parts relevant to us.\n",
    "For now, all we will worry about in terms of the interface is the following part:\n",
    "\n",
    "```python\n",
    "Input = TypeVar(\"Input\", bound=PydanticSerializable)\n",
    "Output = TypeVar(\"Output\", bound=PydanticSerializable)\n",
    "\n",
    "class Task(ABC, Generic[Input, Output]):\n",
    "    @abstractmethod\n",
    "    def run(self, input: Input, logger: DebugLogger) -> Output:\n",
    "        \"\"\"Executes the process for this use-case.\"\"\"\n",
    "        ...\n",
    "```\n",
    "\n",
    "To create our own task, we have to define our Input, Output and how we would like to run it.\n",
    "Since tasks can vary so much, no assumptions are done about the implementation of the task. \n",
    "The only requirement is the fact that the input and output have to be PydanticSerializable.\n",
    "This is done so we can easily save our evaluation datasets.\n",
    "For our keyword extraction our input and output will be the following:"
   ]
  },
  {
   "cell_type": "code",
   "execution_count": 1,
   "metadata": {},
   "outputs": [],
   "source": [
    "from typing import Sequence\n",
    "from pydantic import BaseModel\n",
    "\n",
    "class KeywordExtractionInput(BaseModel):\n",
    "    \"\"\"This is the text we will extract keywords from\"\"\"\n",
    "    text: str\n",
    "\n",
    "class KeywordExtractionOutput(BaseModel):\n",
    "    keywords: set[str]"
   ]
  },
  {
   "cell_type": "markdown",
   "metadata": {},
   "source": [
    "Now that we have our input and output defined, we can make the task.\n",
    "The steps that the task consists of are:\n",
    "- Create a prompt\n",
    "- Send the prompt to the model\n",
    "- Extract the keywords from the model's response"
   ]
  },
  {
   "cell_type": "code",
   "execution_count": 2,
   "metadata": {},
   "outputs": [],
   "source": [
    "from aleph_alpha_client import Client, CompletionRequest, Prompt\n",
    "\n",
    "from intelligence_layer.task import DebugLogger, Task\n",
    "\n",
    "\n",
    "class KeywordExtractionTask(Task[KeywordExtractionInput, KeywordExtractionOutput]):\n",
    "    PROMPT_TEMPLATE: str = \"\"\"Identify matching keywords for each text.\n",
    "###\n",
    "Text: The \"Whiskey War\" is an ongoing conflict between Denmark and Canada over ownership of Hans Island. The dispute began in 1973, when Denmark and Canada reached an agreement on Greenland's borders. However, no settlement regarding Hans Island could be reached by the time the treaty was signed. Since then both countries have used peaceful means - such as planting their national flag or burying liquor - to draw attention to the disagreement.\n",
    "Keywords: Conflict, Whiskey War, Denmark, Canada, Treaty, Flag, Liquor\n",
    "###\n",
    "Text: NASA launched the Discovery program to explore the solar system. It comprises a series of expeditions that have continued from the program's launch in the 1990s to the present day. In the course of the 16 expeditions launched so far, the Moon, Mars, Mercury and Venus, among others, have been explored. Unlike other space programs, the Discovery program places particular emphasis on cost efficiency, true to the motto: \"faster, better, cheaper\".\n",
    "Keywords: Space program, NASA, Expedition, Cost efficiency, Moon, Mars, Mercury, Venus\n",
    "###\n",
    "Text: {text}\n",
    "Keywords:\"\"\"\n",
    "    MODEL: str = \"luminous-base\"\n",
    "    client: Client\n",
    "\n",
    "    def __init__(self, client: Client) -> None:\n",
    "        super().__init__()\n",
    "        self.client = client\n",
    "\n",
    "    def run(self, input: KeywordExtractionInput, logger: DebugLogger) -> KeywordExtractionOutput:\n",
    "        prompt = self._format_prompt(text=input.text, logger=logger)\n",
    "        completion = self._complete(\n",
    "            prompt, logger.child_logger(\"Generate Summary\")\n",
    "        )\n",
    "        return KeywordExtractionOutput(keywords=set(k.strip() for k in completion.split(\",\") if k.strip()))\n",
    "\n",
    "    def _format_prompt(self, text: str, logger: DebugLogger) -> Prompt:\n",
    "        logger.log(\n",
    "            \"Prompt template/text\", {\"template\": self.PROMPT_TEMPLATE, \"text\": text}\n",
    "        )\n",
    "        return Prompt.from_text(self.PROMPT_TEMPLATE.format(text=text))\n",
    "    \n",
    "    def _complete(self, prompt: Prompt, logger: DebugLogger) -> str:\n",
    "        request = CompletionRequest(\n",
    "            prompt=prompt,\n",
    "            stop_sequences=[\"\\n\", \"###\"]\n",
    "        )\n",
    "        response = self.client.complete(\n",
    "            request=request,\n",
    "            model=self.MODEL,\n",
    "        )\n",
    "        logger.log(\n",
    "            \"Original request & response\", {\"request\": request, \"response\": response}\n",
    "        )\n",
    "        return response.completions[0].completion # grabs the string completion generated by the model"
   ]
  },
  {
   "cell_type": "markdown",
   "metadata": {},
   "source": [
    "So we can run the task like so:"
   ]
  },
  {
   "cell_type": "code",
   "execution_count": 3,
   "metadata": {},
   "outputs": [
    {
     "name": "stdout",
     "output_type": "stream",
     "text": [
      "keywords={'Computer vision', 'Artificial intelligence', 'Optical character recognition', 'Image processing'}\n"
     ]
    }
   ],
   "source": [
    "from os import getenv\n",
    "\n",
    "from intelligence_layer.task import JsonDebugLogger\n",
    "\n",
    "\n",
    "client = Client(getenv(\"AA_TOKEN\"))\n",
    "task = KeywordExtractionTask(client)\n",
    "text = \"\"\"Computer vision describes the processing of an image by a machine using external devices (e.g., a scanner) into a digital description of that image for further processing. An example of this is optical character recognition (OCR), the recognition and processing of images containing text. Further processing and final classification of the image is often done using artificial intelligence methods. The goal of this field is to enable computers to process visual tasks that were previously reserved for humans.\"\"\"\n",
    "\n",
    "input = KeywordExtractionInput(text=text)\n",
    "logger = JsonDebugLogger(name=\"classify\")\n",
    "output = task.run(input, logger)\n",
    "\n",
    "print(output)\n"
   ]
  },
  {
   "cell_type": "markdown",
   "metadata": {},
   "source": [
    "Looks great!\n",
    "Now that our task is setup, we can start evaluating the performance of our task.\n",
    "\n",
    "To do evaluation, we will have to set up an evaluator.\n",
    "The full interface for an evaluator can be found in [task.py](task.py).\n",
    "We will go over it step by step, so for now all we have to worry about is this part of the interface:\n",
    "\n",
    "```python\n",
    "class Evaluator(ABC, Generic[Input, ExpectedOutput, Evaluation, AggregatedEvaluation]):\n",
    "    @abstractmethod\n",
    "    def evaluate(\n",
    "        self,\n",
    "        input: Input,\n",
    "        logger: DebugLogger,\n",
    "        expected_output: ExpectedOutput,\n",
    "    ) -> Evaluation:\n",
    "        \"\"\"Executes the evaluation for this use-case.\"\"\"\n",
    "        pass\n",
    "```\n",
    "\n",
    "First of all, let's create our KeywordExtractionEvaluator.\n",
    "The first generic the evaluator takes is the same as the input for the task, so we can plug this one right in.\n",
    "\n",
    "```python\n",
    "class KeywordExtractionEvaluator(Evaluator[KeywordExtractionInput, ExpectedOutput, Evaluation, AggregatedEvaluation]):\n",
    "    def evaluate(\n",
    "        self,\n",
    "        input: Input,\n",
    "        logger: DebugLogger,\n",
    "        expected_output: ExpectedOutput,\n",
    "    ) -> Evaluation:\n",
    "        \"\"\"Executes the evaluation for this use-case.\"\"\"\n",
    "        pass\n",
    "```\n",
    "\n",
    "Now that we have our evaluator, we can start evaluating actual examples.\n",
    "To evaluate a case, we need an interface for our `ExpectedOutput`, `Evaluation` and an implementation of the `evaluate` function.\n",
    "In our case, we are interested in the proportion of correctly generate keywords compared to all expected keywords. \n",
    "This is also known as the `true positive rate`.\n",
    "To calculate this, the evaluate function will need a set of the expected keywords.\n",
    "This can be seen in the `KeywordExtractionExpectedOutput` class. "
   ]
  },
  {
   "cell_type": "code",
   "execution_count": 4,
   "metadata": {},
   "outputs": [],
   "source": [
    "class KeywordExtractionExpectedOutput(BaseModel):\n",
    "    \"\"\"This is the expected output for an example run. This is used to compare the output of the task with.\n",
    "\n",
    "    We will be evaluating our keyword extraction based on the expected keywords. \"\"\"\n",
    "    keywords: set[str]\n",
    "\n",
    "class KeywordExtractionEvaluation(BaseModel):\n",
    "    \"\"\"This is the interface for the metrics that are generated for each evaluation case\"\"\"\n",
    "    true_positive_rate: float \n",
    "    true_positives: set[str]\n",
    "    false_positives: set[str]\n",
    "    false_negatives: set[str]"
   ]
  },
  {
   "cell_type": "markdown",
   "metadata": {},
   "source": [
    "Our evaluate function will take an input for the task to process, runs the task and calculates the true positive rate. \n",
    "Finally, it will return an instance of the KeywordExtractionEvaluation class with the rate and the (in)correct keywords. \n",
    "\n",
    "```python\n",
    "def evaluate(\n",
    "        self,\n",
    "        input: KeywordExtractionInput,\n",
    "        logger: DebugLogger,\n",
    "        expected_output: KeywordExtractionExpectedOutput,\n",
    "    ) -> KeywordExtractionEvaluation:\n",
    "        output = self.task.run(input, logger)\n",
    "        true_positives = expected_output.keywords & output.keywords\n",
    "        false_positives = output.keywords - true_positives\n",
    "        false_negatives = true_positives - output.keywords\n",
    "        return KeywordExtractionEvaluation(true_positive_rate=len(true_positives) / len(expected_output.keywords), \n",
    "                                           true_positives=true_positives, \n",
    "                                           false_positive=false_positives, \n",
    "                                           false_negatives=false_negatives)\n",
    "```\n",
    "\n",
    "However, to evaluate the performance of a task, we will need to try out lots of different examples. \n",
    "To do this we can use the \"evaluate_dataset\" function, provided by the Evaluator base class.\n",
    "This will take a dataset, run all the examples in the dataset and aggregate the metrics generated from the evaluation.\n",
    "To set this up, we will need to create a dataset, an interface for the aggregated metrics and implement the \"aggregate\" method."
   ]
  },
  {
   "cell_type": "code",
   "execution_count": 5,
   "metadata": {},
   "outputs": [],
   "source": [
    "\"\"\"This is the interface for the aggregated metrics that are generated from running a number of examples\"\"\"\n",
    "class KeywordExtractionAggregatedEvaluation(BaseModel):\n",
    "    average_true_positive_rate: float"
   ]
  },
  {
   "cell_type": "markdown",
   "metadata": {},
   "source": [
    "The aggregate method takes as input a sequence of KeywordExtractionEvaluations that are generated by the `evaluate_dataset` method.\n",
    "It is responsible for aggregating the metrics generated from running the dataset.\n",
    "\n",
    "```python\n",
    "def aggregate(self, evaluations: Sequence[KeywordExtractionEvaluation]) -> KeywordExtractionAggregatedEvaluation:\n",
    "        \"\"\"`Evaluator`-specific method for aggregating individual `Evaluations` into report-like `Aggregated Evaluation`.\"\"\"\n",
    "        pass\n",
    "```\n",
    "\n",
    "Now that we have discussed all of the parts that make up an evaluator, the full class is:"
   ]
  },
  {
   "cell_type": "code",
   "execution_count": 6,
   "metadata": {},
   "outputs": [],
   "source": [
    "from statistics import mean\n",
    "from intelligence_layer.task import Evaluator\n",
    "\n",
    "class KeywordExtractionEvaluator(Evaluator[KeywordExtractionInput, KeywordExtractionExpectedOutput, KeywordExtractionEvaluation, KeywordExtractionAggregatedEvaluation]):\n",
    "    def __init__(self, task: KeywordExtractionTask) -> None:\n",
    "        \"\"\"We recommend adding the task to the init method of the evaluator\n",
    "        \n",
    "        This allows for easy comparing of different implementations of the same task.\"\"\"\n",
    "        self.task = task\n",
    "\n",
    "\n",
    "    def evaluate(\n",
    "        self,\n",
    "        input: KeywordExtractionInput,\n",
    "        logger: DebugLogger,\n",
    "        expected_output: KeywordExtractionExpectedOutput,\n",
    "    ) -> KeywordExtractionEvaluation:\n",
    "        output = self.task.run(input, logger)\n",
    "        true_positives = output.keywords & expected_output.keywords \n",
    "        false_positives = output.keywords - expected_output.keywords \n",
    "        false_negatives = expected_output.keywords - output.keywords\n",
    "        return KeywordExtractionEvaluation(true_positive_rate=len(true_positives) / len(expected_output.keywords), \n",
    "                                           true_positives=true_positives, \n",
    "                                           false_positives=false_positives, \n",
    "                                           false_negatives=false_negatives)\n",
    "         \n",
    "\n",
    "    def aggregate(self, evaluations: Sequence[KeywordExtractionEvaluation]) -> KeywordExtractionAggregatedEvaluation:\n",
    "        true_positive_rate = mean(e.true_positive_rate for e in evaluations)\n",
    "        return KeywordExtractionAggregatedEvaluation(average_true_positive_rate=true_positive_rate)"
   ]
  },
  {
   "cell_type": "markdown",
   "metadata": {},
   "source": [
    "Let's run this."
   ]
  },
  {
   "cell_type": "code",
   "execution_count": 7,
   "metadata": {},
   "outputs": [
    {
     "name": "stdout",
     "output_type": "stream",
     "text": [
      "true_positive_rate=1.0 true_positives={'Sharks', 'Dolphins'} false_positives={'Whales', 'Conservationists', 'Environment', 'Environmentalists', 'Marine', 'Sea', 'Ocean'} false_negatives=set()\n"
     ]
    }
   ],
   "source": [
    "evaluator = KeywordExtractionEvaluator(task=task)\n",
    "\n",
    "logger = JsonDebugLogger(name=\"Evaluation logger\")\n",
    "input = KeywordExtractionInput(text=\"A text about dolphins and sharks\")\n",
    "expected_output = KeywordExtractionExpectedOutput(keywords=[\"Dolphins\", \"Sharks\"])\n",
    "evaluation = evaluator.evaluate(input, \n",
    "                                logger, \n",
    "                                expected_output)\n",
    "print(evaluation)"
   ]
  },
  {
   "cell_type": "markdown",
   "metadata": {},
   "source": [
    "Now we can evaluate a single example.\n",
    "Let's run more.\n",
    "\n",
    "To do this, we will have to instantiate an instance of a `dataset` class.\n",
    "In this class, we will create a bunch of examples and run them against our task. \n",
    "Finally "
   ]
  },
  {
   "cell_type": "markdown",
   "metadata": {},
   "source": [
    "Now that we have implemented our aggregate method, let's run a dataset"
   ]
  },
  {
   "cell_type": "code",
   "execution_count": 8,
   "metadata": {},
   "outputs": [
    {
     "name": "stderr",
     "output_type": "stream",
     "text": [
      "Evaluating:   0%|          | 0/3 [00:00<?, ?it/s]"
     ]
    },
    {
     "name": "stderr",
     "output_type": "stream",
     "text": [
      "Evaluating: 100%|██████████| 3/3 [00:02<00:00,  1.12it/s]\n"
     ]
    },
    {
     "name": "stdout",
     "output_type": "stream",
     "text": [
      "average_true_positive_rate=0.3333333333333333\n"
     ]
    },
    {
     "ename": "PydanticUserError",
     "evalue": "Pydantic models should inherit from BaseModel, BaseModel cannot be instantiated directly\n\nFor further information visit https://errors.pydantic.dev/2.4/u/base-model-instantiated",
     "output_type": "error",
     "traceback": [
      "\u001b[0;31m---------------------------------------------------------------------------\u001b[0m",
      "\u001b[0;31mPydanticUserError\u001b[0m                         Traceback (most recent call last)",
      "File \u001b[0;32m~/.cache/pypoetry/virtualenvs/intelligence-layer-XJoCsS19-py3.10/lib/python3.10/site-packages/IPython/core/formatters.py:922\u001b[0m, in \u001b[0;36mIPythonDisplayFormatter.__call__\u001b[0;34m(self, obj)\u001b[0m\n\u001b[1;32m    920\u001b[0m method \u001b[39m=\u001b[39m get_real_method(obj, \u001b[39mself\u001b[39m\u001b[39m.\u001b[39mprint_method)\n\u001b[1;32m    921\u001b[0m \u001b[39mif\u001b[39;00m method \u001b[39mis\u001b[39;00m \u001b[39mnot\u001b[39;00m \u001b[39mNone\u001b[39;00m:\n\u001b[0;32m--> 922\u001b[0m     method()\n\u001b[1;32m    923\u001b[0m     \u001b[39mreturn\u001b[39;00m \u001b[39mTrue\u001b[39;00m\n",
      "File \u001b[0;32m~/repos/intelligence-layer/src/intelligence_layer/task.py:132\u001b[0m, in \u001b[0;36mJsonDebugLogger._ipython_display_\u001b[0;34m(self)\u001b[0m\n\u001b[1;32m    129\u001b[0m \u001b[39mdef\u001b[39;00m \u001b[39m_ipython_display_\u001b[39m(\u001b[39mself\u001b[39m) \u001b[39m-\u001b[39m\u001b[39m>\u001b[39m \u001b[39mNone\u001b[39;00m:\n\u001b[1;32m    130\u001b[0m     \u001b[39mfrom\u001b[39;00m \u001b[39mrich\u001b[39;00m \u001b[39mimport\u001b[39;00m \u001b[39mprint\u001b[39m\n\u001b[0;32m--> 132\u001b[0m     \u001b[39mprint\u001b[39m(\u001b[39mself\u001b[39;49m\u001b[39m.\u001b[39;49m_render_())\n",
      "File \u001b[0;32m~/repos/intelligence-layer/src/intelligence_layer/task.py:125\u001b[0m, in \u001b[0;36mJsonDebugLogger._render_\u001b[0;34m(self)\u001b[0m\n\u001b[1;32m    122\u001b[0m tree \u001b[39m=\u001b[39m Tree(label\u001b[39m=\u001b[39m\u001b[39mself\u001b[39m\u001b[39m.\u001b[39mname)\n\u001b[1;32m    124\u001b[0m \u001b[39mfor\u001b[39;00m log \u001b[39min\u001b[39;00m \u001b[39mself\u001b[39m\u001b[39m.\u001b[39mlogs:\n\u001b[0;32m--> 125\u001b[0m     tree\u001b[39m.\u001b[39madd(log\u001b[39m.\u001b[39;49m_render_())\n\u001b[1;32m    127\u001b[0m \u001b[39mreturn\u001b[39;00m tree\n",
      "File \u001b[0;32m~/repos/intelligence-layer/src/intelligence_layer/task.py:125\u001b[0m, in \u001b[0;36mJsonDebugLogger._render_\u001b[0;34m(self)\u001b[0m\n\u001b[1;32m    122\u001b[0m tree \u001b[39m=\u001b[39m Tree(label\u001b[39m=\u001b[39m\u001b[39mself\u001b[39m\u001b[39m.\u001b[39mname)\n\u001b[1;32m    124\u001b[0m \u001b[39mfor\u001b[39;00m log \u001b[39min\u001b[39;00m \u001b[39mself\u001b[39m\u001b[39m.\u001b[39mlogs:\n\u001b[0;32m--> 125\u001b[0m     tree\u001b[39m.\u001b[39madd(log\u001b[39m.\u001b[39;49m_render_())\n\u001b[1;32m    127\u001b[0m \u001b[39mreturn\u001b[39;00m tree\n",
      "File \u001b[0;32m~/repos/intelligence-layer/src/intelligence_layer/task.py:125\u001b[0m, in \u001b[0;36mJsonDebugLogger._render_\u001b[0;34m(self)\u001b[0m\n\u001b[1;32m    122\u001b[0m tree \u001b[39m=\u001b[39m Tree(label\u001b[39m=\u001b[39m\u001b[39mself\u001b[39m\u001b[39m.\u001b[39mname)\n\u001b[1;32m    124\u001b[0m \u001b[39mfor\u001b[39;00m log \u001b[39min\u001b[39;00m \u001b[39mself\u001b[39m\u001b[39m.\u001b[39mlogs:\n\u001b[0;32m--> 125\u001b[0m     tree\u001b[39m.\u001b[39madd(log\u001b[39m.\u001b[39;49m_render_())\n\u001b[1;32m    127\u001b[0m \u001b[39mreturn\u001b[39;00m tree\n",
      "File \u001b[0;32m~/repos/intelligence-layer/src/intelligence_layer/task.py:75\u001b[0m, in \u001b[0;36mLogEntry._render_\u001b[0;34m(self)\u001b[0m\n\u001b[1;32m     67\u001b[0m \u001b[39mdef\u001b[39;00m \u001b[39m_render_\u001b[39m(\u001b[39mself\u001b[39m) \u001b[39m-\u001b[39m\u001b[39m>\u001b[39m Panel:\n\u001b[1;32m     68\u001b[0m     value \u001b[39m=\u001b[39m (\n\u001b[1;32m     69\u001b[0m         \u001b[39mself\u001b[39m\u001b[39m.\u001b[39mvalue\n\u001b[1;32m     70\u001b[0m         \u001b[39mif\u001b[39;00m \u001b[39misinstance\u001b[39m(\u001b[39mself\u001b[39m\u001b[39m.\u001b[39mvalue, BaseModel)\n\u001b[1;32m     71\u001b[0m         \u001b[39melse\u001b[39;00m JsonSerializer(root\u001b[39m=\u001b[39m\u001b[39mself\u001b[39m\u001b[39m.\u001b[39mvalue)\n\u001b[1;32m     72\u001b[0m     )\n\u001b[1;32m     73\u001b[0m     \u001b[39mreturn\u001b[39;00m Panel(\n\u001b[1;32m     74\u001b[0m         Syntax(\n\u001b[0;32m---> 75\u001b[0m             value\u001b[39m.\u001b[39;49mmodel_dump_json(indent\u001b[39m=\u001b[39;49m\u001b[39m2\u001b[39;49m),\n\u001b[1;32m     76\u001b[0m             \u001b[39m\"\u001b[39m\u001b[39mjson\u001b[39m\u001b[39m\"\u001b[39m,\n\u001b[1;32m     77\u001b[0m             word_wrap\u001b[39m=\u001b[39m\u001b[39mTrue\u001b[39;00m,\n\u001b[1;32m     78\u001b[0m         ),\n\u001b[1;32m     79\u001b[0m         title\u001b[39m=\u001b[39m\u001b[39mself\u001b[39m\u001b[39m.\u001b[39mmessage,\n\u001b[1;32m     80\u001b[0m     )\n",
      "File \u001b[0;32m~/.cache/pypoetry/virtualenvs/intelligence-layer-XJoCsS19-py3.10/lib/python3.10/site-packages/pydantic/main.py:352\u001b[0m, in \u001b[0;36mBaseModel.model_dump_json\u001b[0;34m(self, indent, include, exclude, by_alias, exclude_unset, exclude_defaults, exclude_none, round_trip, warnings)\u001b[0m\n\u001b[1;32m    321\u001b[0m \u001b[39mdef\u001b[39;00m \u001b[39mmodel_dump_json\u001b[39m(\n\u001b[1;32m    322\u001b[0m     \u001b[39mself\u001b[39m,\n\u001b[1;32m    323\u001b[0m     \u001b[39m*\u001b[39m,\n\u001b[0;32m   (...)\u001b[0m\n\u001b[1;32m    332\u001b[0m     warnings: \u001b[39mbool\u001b[39m \u001b[39m=\u001b[39m \u001b[39mTrue\u001b[39;00m,\n\u001b[1;32m    333\u001b[0m ) \u001b[39m-\u001b[39m\u001b[39m>\u001b[39m \u001b[39mstr\u001b[39m:\n\u001b[1;32m    334\u001b[0m \u001b[39m    \u001b[39m\u001b[39m\"\"\"Usage docs: https://docs.pydantic.dev/2.4/concepts/serialization/#modelmodel_dump_json\u001b[39;00m\n\u001b[1;32m    335\u001b[0m \n\u001b[1;32m    336\u001b[0m \u001b[39m    Generates a JSON representation of the model using Pydantic's `to_json` method.\u001b[39;00m\n\u001b[0;32m   (...)\u001b[0m\n\u001b[1;32m    350\u001b[0m \u001b[39m        A JSON string representation of the model.\u001b[39;00m\n\u001b[1;32m    351\u001b[0m \u001b[39m    \"\"\"\u001b[39;00m\n\u001b[0;32m--> 352\u001b[0m     \u001b[39mreturn\u001b[39;00m \u001b[39mself\u001b[39;49m\u001b[39m.\u001b[39;49m__pydantic_serializer__\u001b[39m.\u001b[39;49mto_json(\n\u001b[1;32m    353\u001b[0m         \u001b[39mself\u001b[39m,\n\u001b[1;32m    354\u001b[0m         indent\u001b[39m=\u001b[39mindent,\n\u001b[1;32m    355\u001b[0m         include\u001b[39m=\u001b[39minclude,\n\u001b[1;32m    356\u001b[0m         exclude\u001b[39m=\u001b[39mexclude,\n\u001b[1;32m    357\u001b[0m         by_alias\u001b[39m=\u001b[39mby_alias,\n\u001b[1;32m    358\u001b[0m         exclude_unset\u001b[39m=\u001b[39mexclude_unset,\n\u001b[1;32m    359\u001b[0m         exclude_defaults\u001b[39m=\u001b[39mexclude_defaults,\n\u001b[1;32m    360\u001b[0m         exclude_none\u001b[39m=\u001b[39mexclude_none,\n\u001b[1;32m    361\u001b[0m         round_trip\u001b[39m=\u001b[39mround_trip,\n\u001b[1;32m    362\u001b[0m         warnings\u001b[39m=\u001b[39mwarnings,\n\u001b[1;32m    363\u001b[0m     )\u001b[39m.\u001b[39mdecode()\n",
      "File \u001b[0;32m~/.cache/pypoetry/virtualenvs/intelligence-layer-XJoCsS19-py3.10/lib/python3.10/site-packages/pydantic/_internal/_mock_val_ser.py:47\u001b[0m, in \u001b[0;36mMockValSer.__getattr__\u001b[0;34m(self, item)\u001b[0m\n\u001b[1;32m     45\u001b[0m \u001b[39m# raise an AttributeError if `item` doesn't exist\u001b[39;00m\n\u001b[1;32m     46\u001b[0m \u001b[39mgetattr\u001b[39m(\u001b[39mself\u001b[39m\u001b[39m.\u001b[39m_val_or_ser, item)\n\u001b[0;32m---> 47\u001b[0m \u001b[39mraise\u001b[39;00m PydanticUserError(\u001b[39mself\u001b[39m\u001b[39m.\u001b[39m_error_message, code\u001b[39m=\u001b[39m\u001b[39mself\u001b[39m\u001b[39m.\u001b[39m_code)\n",
      "\u001b[0;31mPydanticUserError\u001b[0m: Pydantic models should inherit from BaseModel, BaseModel cannot be instantiated directly\n\nFor further information visit https://errors.pydantic.dev/2.4/u/base-model-instantiated"
     ]
    },
    {
     "data": {
      "text/plain": [
       "JsonDebugLogger(name='Evaluate dataset debug logger', logs=[JsonDebugLogger(name='0', logs=[LogEntry(message='Input', value=KeywordExtractionInput(text='A text about dolphins and sharks'), timestamp=datetime.datetime(2023, 10, 16, 14, 15, 58, 468049)), LogEntry(message='Prompt template/text', value={'template': 'Identify matching keywords for each text.\\n###\\nText: The \"Whiskey War\" is an ongoing conflict between Denmark and Canada over ownership of Hans Island. The dispute began in 1973, when Denmark and Canada reached an agreement on Greenland\\'s borders. However, no settlement regarding Hans Island could be reached by the time the treaty was signed. Since then both countries have used peaceful means - such as planting their national flag or burying liquor - to draw attention to the disagreement.\\nKeywords: Conflict, Whiskey War, Denmark, Canada, Treaty, Flag, Liquor\\n###\\nText: NASA launched the Discovery program to explore the solar system. It comprises a series of expeditions that have continued from the program\\'s launch in the 1990s to the present day. In the course of the 16 expeditions launched so far, the Moon, Mars, Mercury and Venus, among others, have been explored. Unlike other space programs, the Discovery program places particular emphasis on cost efficiency, true to the motto: \"faster, better, cheaper\".\\nKeywords: Space program, NASA, Expedition, Cost efficiency, Moon, Mars, Mercury, Venus\\n###\\nText: {text}\\nKeywords:', 'text': 'A text about dolphins and sharks'}, timestamp=datetime.datetime(2023, 10, 16, 14, 15, 58, 468069)), JsonDebugLogger(name='Generate Summary', logs=[LogEntry(message='Original request & response', value=BaseModel(), timestamp=datetime.datetime(2023, 10, 16, 14, 16, 1, 161072))]), LogEntry(message='Output', value=KeywordExtractionOutput(keywords={'Whales', 'Conservationists', 'Environment', 'Environmentalists', 'Marine', 'Sea', 'Dolphins', 'Sharks', 'Ocean'}), timestamp=datetime.datetime(2023, 10, 16, 14, 16, 1, 161119))]), JsonDebugLogger(name='1', logs=[LogEntry(message='Input', value=KeywordExtractionInput(text='Clinical psychology is an integration of human science, behavioral science, theory, and clinical knowledge for the purpose of understanding, preventing, and relieving psychologically-based distress or dysfunction and to promote subjective well-being and personal development.[1][2] Central to its practice are psychological assessment, clinical formulation, and psychotherapy, although clinical psychologists also engage in research, teaching, consultation, forensic testimony, and program development and administration.[3] In many countries, clinical psychology is a regulated mental health profession.'), timestamp=datetime.datetime(2023, 10, 16, 14, 15, 58, 470015)), LogEntry(message='Prompt template/text', value={'template': 'Identify matching keywords for each text.\\n###\\nText: The \"Whiskey War\" is an ongoing conflict between Denmark and Canada over ownership of Hans Island. The dispute began in 1973, when Denmark and Canada reached an agreement on Greenland\\'s borders. However, no settlement regarding Hans Island could be reached by the time the treaty was signed. Since then both countries have used peaceful means - such as planting their national flag or burying liquor - to draw attention to the disagreement.\\nKeywords: Conflict, Whiskey War, Denmark, Canada, Treaty, Flag, Liquor\\n###\\nText: NASA launched the Discovery program to explore the solar system. It comprises a series of expeditions that have continued from the program\\'s launch in the 1990s to the present day. In the course of the 16 expeditions launched so far, the Moon, Mars, Mercury and Venus, among others, have been explored. Unlike other space programs, the Discovery program places particular emphasis on cost efficiency, true to the motto: \"faster, better, cheaper\".\\nKeywords: Space program, NASA, Expedition, Cost efficiency, Moon, Mars, Mercury, Venus\\n###\\nText: {text}\\nKeywords:', 'text': 'Clinical psychology is an integration of human science, behavioral science, theory, and clinical knowledge for the purpose of understanding, preventing, and relieving psychologically-based distress or dysfunction and to promote subjective well-being and personal development.[1][2] Central to its practice are psychological assessment, clinical formulation, and psychotherapy, although clinical psychologists also engage in research, teaching, consultation, forensic testimony, and program development and administration.[3] In many countries, clinical psychology is a regulated mental health profession.'}, timestamp=datetime.datetime(2023, 10, 16, 14, 15, 58, 470028)), JsonDebugLogger(name='Generate Summary', logs=[LogEntry(message='Original request & response', value=BaseModel(), timestamp=datetime.datetime(2023, 10, 16, 14, 16, 0, 118717))]), LogEntry(message='Output', value=KeywordExtractionOutput(keywords={'Research', 'Psychology', 'Forensic testimony', 'Consultation', 'Psychotherapy', 'Formulation', 'Assessment', 'Teaching', 'Program development and administration', 'Clinical psychology'}), timestamp=datetime.datetime(2023, 10, 16, 14, 16, 0, 118762))]), JsonDebugLogger(name='2', logs=[LogEntry(message='Input', value=KeywordExtractionInput(text='Prospect theory is a theory of behavioral economics, judgment and decision making that was developed by Daniel Kahneman and Amos Tversky in 1979.[1] The theory was cited in the decision to award Kahneman the 2002 Nobel Memorial Prize in Economics.[2]Based on results from controlled studies, it describes how individuals assess their loss and gain perspectives in an asymmetric manner (see loss aversion). For example, for some individuals, the pain from losing $1,000 could only be compensated by the pleasure of earning $2,000. Thus, contrary to the expected utility theory (which models the decision that perfectly rational agents would make), prospect theory aims to describe the actual behavior of people.'), timestamp=datetime.datetime(2023, 10, 16, 14, 15, 58, 471996)), LogEntry(message='Prompt template/text', value={'template': 'Identify matching keywords for each text.\\n###\\nText: The \"Whiskey War\" is an ongoing conflict between Denmark and Canada over ownership of Hans Island. The dispute began in 1973, when Denmark and Canada reached an agreement on Greenland\\'s borders. However, no settlement regarding Hans Island could be reached by the time the treaty was signed. Since then both countries have used peaceful means - such as planting their national flag or burying liquor - to draw attention to the disagreement.\\nKeywords: Conflict, Whiskey War, Denmark, Canada, Treaty, Flag, Liquor\\n###\\nText: NASA launched the Discovery program to explore the solar system. It comprises a series of expeditions that have continued from the program\\'s launch in the 1990s to the present day. In the course of the 16 expeditions launched so far, the Moon, Mars, Mercury and Venus, among others, have been explored. Unlike other space programs, the Discovery program places particular emphasis on cost efficiency, true to the motto: \"faster, better, cheaper\".\\nKeywords: Space program, NASA, Expedition, Cost efficiency, Moon, Mars, Mercury, Venus\\n###\\nText: {text}\\nKeywords:', 'text': 'Prospect theory is a theory of behavioral economics, judgment and decision making that was developed by Daniel Kahneman and Amos Tversky in 1979.[1] The theory was cited in the decision to award Kahneman the 2002 Nobel Memorial Prize in Economics.[2]Based on results from controlled studies, it describes how individuals assess their loss and gain perspectives in an asymmetric manner (see loss aversion). For example, for some individuals, the pain from losing $1,000 could only be compensated by the pleasure of earning $2,000. Thus, contrary to the expected utility theory (which models the decision that perfectly rational agents would make), prospect theory aims to describe the actual behavior of people.'}, timestamp=datetime.datetime(2023, 10, 16, 14, 15, 58, 472032)), JsonDebugLogger(name='Generate Summary', logs=[LogEntry(message='Original request & response', value=BaseModel(), timestamp=datetime.datetime(2023, 10, 16, 14, 15, 59, 678991))]), LogEntry(message='Output', value=KeywordExtractionOutput(keywords={'Decision making', 'Expected utility theory', 'Behavioral economics', 'Loss aversion', 'Prospect theory'}), timestamp=datetime.datetime(2023, 10, 16, 14, 15, 59, 679035))])])"
      ]
     },
     "execution_count": 8,
     "metadata": {},
     "output_type": "execute_result"
    }
   ],
   "source": [
    "from intelligence_layer.task import Dataset, Example\n",
    "\n",
    "dataset = Dataset(name=\"Keyword extraction dataset\", examples=[\n",
    "    Example(input=input, expected_output=expected_output), \n",
    "    Example(input=KeywordExtractionInput(text=\"Clinical psychology is an integration of human science, behavioral science, theory, and clinical knowledge for the purpose of understanding, preventing, and relieving psychologically-based distress or dysfunction and to promote subjective well-being and personal development.[1][2] Central to its practice are psychological assessment, clinical formulation, and psychotherapy, although clinical psychologists also engage in research, teaching, consultation, forensic testimony, and program development and administration.[3] In many countries, clinical psychology is a regulated mental health profession.\"), expected_output=KeywordExtractionExpectedOutput(keywords={\"clinical psychology\", \"well-being\", \"psychotherapy\", \"forensic testimony\", \"mental health profession\"})),\n",
    "    Example(input=KeywordExtractionInput(text=\"Prospect theory is a theory of behavioral economics, judgment and decision making that was developed by Daniel Kahneman and Amos Tversky in 1979.[1] The theory was cited in the decision to award Kahneman the 2002 Nobel Memorial Prize in Economics.[2]Based on results from controlled studies, it describes how individuals assess their loss and gain perspectives in an asymmetric manner (see loss aversion). For example, for some individuals, the pain from losing $1,000 could only be compensated by the pleasure of earning $2,000. Thus, contrary to the expected utility theory (which models the decision that perfectly rational agents would make), prospect theory aims to describe the actual behavior of people.\"), expected_output=KeywordExtractionExpectedOutput(keywords={\"prospect theory\", \"behavioural economics\", \"decision making\", \"losses and gains\"}))\n",
    "    ])\n",
    "logger = JsonDebugLogger(name=\"Evaluate dataset debug logger\")\n",
    "\n",
    "aggregated_evaluations = evaluator.evaluate_dataset(dataset, logger)\n",
    "print(aggregated_evaluations)\n",
    "logger"
   ]
  },
  {
   "cell_type": "code",
   "execution_count": null,
   "metadata": {},
   "outputs": [
    {
     "data": {
      "text/html": [
       "<pre style=\"white-space:pre;overflow-x:auto;line-height:normal;font-family:Menlo,'DejaVu Sans Mono',consolas,'Courier New',monospace\">test\n",
       "└── ╭─────────────────────────────────────────────────── test ────────────────────────────────────────────────────╮\n",
       "    │ <span style=\"color: #f8f8f2; text-decoration-color: #f8f8f2; background-color: #272822\">{</span><span style=\"background-color: #272822\">                                                                                                          </span> │\n",
       "    │ <span style=\"color: #f8f8f2; text-decoration-color: #f8f8f2; background-color: #272822\">  </span><span style=\"color: #ff4689; text-decoration-color: #ff4689; background-color: #272822\">\"tesststuf\"</span><span style=\"color: #f8f8f2; text-decoration-color: #f8f8f2; background-color: #272822\">: [</span><span style=\"background-color: #272822\">                                                                                           </span> │\n",
       "    │ <span style=\"color: #f8f8f2; text-decoration-color: #f8f8f2; background-color: #272822\">    </span><span style=\"color: #e6db74; text-decoration-color: #e6db74; background-color: #272822\">\"cool\"</span><span style=\"background-color: #272822\">                                                                                                 </span> │\n",
       "    │ <span style=\"color: #f8f8f2; text-decoration-color: #f8f8f2; background-color: #272822\">  ],</span><span style=\"background-color: #272822\">                                                                                                       </span> │\n",
       "    │ <span style=\"color: #f8f8f2; text-decoration-color: #f8f8f2; background-color: #272822\">  </span><span style=\"color: #ff4689; text-decoration-color: #ff4689; background-color: #272822\">\"test\"</span><span style=\"color: #f8f8f2; text-decoration-color: #f8f8f2; background-color: #272822\">: </span><span style=\"color: #ae81ff; text-decoration-color: #ae81ff; background-color: #272822\">0.0</span><span style=\"background-color: #272822\">                                                                                              </span> │\n",
       "    │ <span style=\"color: #f8f8f2; text-decoration-color: #f8f8f2; background-color: #272822\">}</span><span style=\"background-color: #272822\">                                                                                                          </span> │\n",
       "    ╰─────────────────────────────────────────────────────────────────────────────────────────────────────────────╯\n",
       "</pre>\n"
      ],
      "text/plain": [
       "test\n",
       "└── ╭─────────────────────────────────────────────────── test ────────────────────────────────────────────────────╮\n",
       "    │ \u001b[38;2;248;248;242;48;2;39;40;34m{\u001b[0m\u001b[48;2;39;40;34m                                                                                                          \u001b[0m │\n",
       "    │ \u001b[38;2;248;248;242;48;2;39;40;34m  \u001b[0m\u001b[38;2;255;70;137;48;2;39;40;34m\"tesststuf\"\u001b[0m\u001b[38;2;248;248;242;48;2;39;40;34m:\u001b[0m\u001b[38;2;248;248;242;48;2;39;40;34m \u001b[0m\u001b[38;2;248;248;242;48;2;39;40;34m[\u001b[0m\u001b[48;2;39;40;34m                                                                                           \u001b[0m │\n",
       "    │ \u001b[38;2;248;248;242;48;2;39;40;34m    \u001b[0m\u001b[38;2;230;219;116;48;2;39;40;34m\"cool\"\u001b[0m\u001b[48;2;39;40;34m                                                                                                 \u001b[0m │\n",
       "    │ \u001b[38;2;248;248;242;48;2;39;40;34m  \u001b[0m\u001b[38;2;248;248;242;48;2;39;40;34m],\u001b[0m\u001b[48;2;39;40;34m                                                                                                       \u001b[0m │\n",
       "    │ \u001b[38;2;248;248;242;48;2;39;40;34m  \u001b[0m\u001b[38;2;255;70;137;48;2;39;40;34m\"test\"\u001b[0m\u001b[38;2;248;248;242;48;2;39;40;34m:\u001b[0m\u001b[38;2;248;248;242;48;2;39;40;34m \u001b[0m\u001b[38;2;174;129;255;48;2;39;40;34m0.0\u001b[0m\u001b[48;2;39;40;34m                                                                                              \u001b[0m │\n",
       "    │ \u001b[38;2;248;248;242;48;2;39;40;34m}\u001b[0m\u001b[48;2;39;40;34m                                                                                                          \u001b[0m │\n",
       "    ╰─────────────────────────────────────────────────────────────────────────────────────────────────────────────╯\n"
      ]
     },
     "metadata": {},
     "output_type": "display_data"
    }
   ],
   "source": [
    "class Test(BaseModel):\n",
    "    tesststuf: set[str]\n",
    "    test: float\n",
    "\n",
    "test = Test(tesststuf={\"cool\"}, test=0.0)\n",
    "logger = JsonDebugLogger(name=\"test\")\n",
    "\n",
    "logger.log(\"test\", value=test)\n",
    "logger\n"
   ]
  }
 ],
 "metadata": {
  "kernelspec": {
   "display_name": "intelligence-layer-XJoCsS19-py3.10",
   "language": "python",
   "name": "python3"
  },
  "language_info": {
   "codemirror_mode": {
    "name": "ipython",
    "version": 3
   },
   "file_extension": ".py",
   "mimetype": "text/x-python",
   "name": "python",
   "nbconvert_exporter": "python",
   "pygments_lexer": "ipython3",
   "version": "3.10.6"
  }
 },
 "nbformat": 4,
 "nbformat_minor": 2
}
