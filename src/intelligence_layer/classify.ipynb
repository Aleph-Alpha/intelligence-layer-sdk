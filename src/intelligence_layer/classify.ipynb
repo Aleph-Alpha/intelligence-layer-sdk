{
 "cells": [
  {
   "cell_type": "markdown",
   "metadata": {},
   "source": [
    "# Classify\n",
    "\n",
    "Classification is a methodology that tries to match a text to the correct label. \n",
    "\n",
    "### Prompt based classification \n",
    "\n",
    "Prompt based classification is a methodology that relies purely on prompting the LLM in a specific way. \n",
    "\n",
    "### When should you use prompt based classification \n",
    "\n",
    "Some situations when you would use this methodology is when:\n",
    "- The labels are easily understood (they don't require explanation or examples)\n",
    "    \n",
    "    An example is sentiment analysis\n",
    "- The labels are not recognized by their semantic meaning\n",
    "    \n",
    "    E.g. Reasoning tasks like classifying contradictions\n",
    "- You don't have many examples\n",
    "\n",
    "### Example snippet \n",
    "Running the following code will instantiate a prompt based classifier, with a debug level for the log. \n",
    "Then it will classify the text given in \"ClassifyInput\".\n",
    "The contents of the debuglog will be shown below.\n",
    "The debuglog gives an overview of the steps taken to get the result."
   ]
  },
  {
   "cell_type": "code",
   "execution_count": 87,
   "metadata": {},
   "outputs": [
    {
     "name": "stdout",
     "output_type": "stream",
     "text": [
      "[{'level': 'info',\n",
      "  'message': 'Tokenized Labels',\n",
      "  'value': {'Something else': [{'token': 'ĠSomething', 'token_id': 55978},\n",
      "                               {'token': 'Ġelse', 'token_id': 7372},\n",
      "                               {'token': '<|endoftext|>', 'token_id': 0}],\n",
      "            'Something very different and long': [{'token': 'ĠSomething',\n",
      "                                                   'token_id': 55978},\n",
      "                                                  {'token': 'Ġvery',\n",
      "                                                   'token_id': 2187},\n",
      "                                                  {'token': 'Ġdifferent',\n",
      "                                                   'token_id': 2972},\n",
      "                                                  {'token': 'Ġand',\n",
      "                                                   'token_id': 348},\n",
      "                                                  {'token': 'Ġlong',\n",
      "                                                   'token_id': 1964},\n",
      "                                                  {'token': '<|endoftext|>',\n",
      "                                                   'token_id': 0}],\n",
      "            'Space exploration': [{'token': 'ĠSpace', 'token_id': 20928},\n",
      "                                  {'token': 'Ġexploration', 'token_id': 42347},\n",
      "                                  {'token': '<|endoftext|>', 'token_id': 0}],\n",
      "            'Space party': [{'token': 'ĠSpace', 'token_id': 20928},\n",
      "                            {'token': 'Ġparty', 'token_id': 8735},\n",
      "                            {'token': '<|endoftext|>', 'token_id': 0}]}},\n",
      " {'level': 'info',\n",
      "  'message': 'Completion',\n",
      "  'value': {'model': 'luminous-base-control',\n",
      "            'template': '### Instruction:\\n'\n",
      "                        'Identify a class that describes the text adequately.\\n'\n",
      "                        'Reply with only the class label.\\n'\n",
      "                        '\\n'\n",
      "                        '### Input:\\n'\n",
      "                        '{{text}}\\n'\n",
      "                        '\\n'\n",
      "                        '### Response:{{label}}',\n",
      "            'text': 'Beneath a canopy of stars, aliens of all kinds danced and '\n",
      "                    'laughed, celebrating unity in the cosmic night.\\n'\n",
      "                    'The asteroid throbbed with their energy, an unforgettable '\n",
      "                    'space party at the heart of the galaxy.'}},\n",
      " {'level': 'info',\n",
      "  'message': 'Raw log probs per label',\n",
      "  'value': {'Something else': [{'prob': -13.960306,\n",
      "                                'token': {'token': 'ĠSomething',\n",
      "                                          'token_id': 55978}},\n",
      "                               {'prob': -9.6932125,\n",
      "                                'token': {'token': 'Ġelse', 'token_id': 7372}},\n",
      "                               {'prob': -0.00432627,\n",
      "                                'token': {'token': '<|endoftext|>',\n",
      "                                          'token_id': 0}}],\n",
      "            'Something very different and long': [{'prob': -13.972682,\n",
      "                                                   'token': {'token': 'ĠSomething',\n",
      "                                                             'token_id': 55978}},\n",
      "                                                  {'prob': -10.60508,\n",
      "                                                   'token': {'token': 'Ġvery',\n",
      "                                                             'token_id': 2187}},\n",
      "                                                  {'prob': -2.7111213,\n",
      "                                                   'token': {'token': 'Ġdifferent',\n",
      "                                                             'token_id': 2972}},\n",
      "                                                  {'prob': -5.7671037,\n",
      "                                                   'token': {'token': 'Ġand',\n",
      "                                                             'token_id': 348}},\n",
      "                                                  {'prob': -9.78079,\n",
      "                                                   'token': {'token': 'Ġlong',\n",
      "                                                             'token_id': 1964}},\n",
      "                                                  {'prob': -11.587016,\n",
      "                                                   'token': {'token': '<|endoftext|>',\n",
      "                                                             'token_id': 0}}],\n",
      "            'Space exploration': [{'prob': -5.2103057,\n",
      "                                   'token': {'token': 'ĠSpace',\n",
      "                                             'token_id': 20928}},\n",
      "                                  {'prob': -17.067636,\n",
      "                                   'token': {'token': 'Ġexploration',\n",
      "                                             'token_id': 42347}},\n",
      "                                  {'prob': -0.23751935,\n",
      "                                   'token': {'token': '<|endoftext|>',\n",
      "                                             'token_id': 0}}],\n",
      "            'Space party': [{'prob': -5.2103057,\n",
      "                             'token': {'token': 'ĠSpace', 'token_id': 20928}},\n",
      "                            {'prob': -5.880137,\n",
      "                             'token': {'token': 'Ġparty', 'token_id': 8735}},\n",
      "                            {'prob': -0.0072391825,\n",
      "                             'token': {'token': '<|endoftext|>',\n",
      "                                       'token_id': 0}}]}},\n",
      " {'level': 'info',\n",
      "  'message': 'Normalized Probs',\n",
      "  'value': {'Something else': [{'prob': 0.0001584361715791981,\n",
      "                                'token': {'token': 'ĠSomething',\n",
      "                                          'token_id': 55978}},\n",
      "                               {'prob': 0.7133821589546732,\n",
      "                                'token': {'token': 'Ġelse', 'token_id': 7372}},\n",
      "                               {'prob': 1.0,\n",
      "                                'token': {'token': '<|endoftext|>',\n",
      "                                          'token_id': 0}}],\n",
      "            'Something very different and long': [{'prob': 0.0001584361715791981,\n",
      "                                                   'token': {'token': 'ĠSomething',\n",
      "                                                             'token_id': 55978}},\n",
      "                                                  {'prob': 0.2866178410453268,\n",
      "                                                   'token': {'token': 'Ġvery',\n",
      "                                                             'token_id': 2187}},\n",
      "                                                  {'prob': 1.0,\n",
      "                                                   'token': {'token': 'Ġdifferent',\n",
      "                                                             'token_id': 2972}},\n",
      "                                                  {'prob': 1.0,\n",
      "                                                   'token': {'token': 'Ġand',\n",
      "                                                             'token_id': 348}},\n",
      "                                                  {'prob': 1.0,\n",
      "                                                   'token': {'token': 'Ġlong',\n",
      "                                                             'token_id': 1964}},\n",
      "                                                  {'prob': 1.0,\n",
      "                                                   'token': {'token': '<|endoftext|>',\n",
      "                                                             'token_id': 0}}],\n",
      "            'Space exploration': [{'prob': 0.9998415638284208,\n",
      "                                   'token': {'token': 'ĠSpace',\n",
      "                                             'token_id': 20928}},\n",
      "                                  {'prob': 1.384601840957317e-05,\n",
      "                                   'token': {'token': 'Ġexploration',\n",
      "                                             'token_id': 42347}},\n",
      "                                  {'prob': 1.0,\n",
      "                                   'token': {'token': '<|endoftext|>',\n",
      "                                             'token_id': 0}}],\n",
      "            'Space party': [{'prob': 0.9998415638284208,\n",
      "                             'token': {'token': 'ĠSpace', 'token_id': 20928}},\n",
      "                            {'prob': 0.9999861539815903,\n",
      "                             'token': {'token': 'Ġparty', 'token_id': 8735}},\n",
      "                            {'prob': 1.0,\n",
      "                             'token': {'token': '<|endoftext|>',\n",
      "                                       'token_id': 0}}]}}]\n",
      "{'Something else': 0.00011302553813768136,\n",
      " 'Something very different and long': 4.5410633441516715e-05,\n",
      " 'Space exploration': 1.3843824699424742e-05,\n",
      " 'Space party': 0.9998277200037212}\n"
     ]
    }
   ],
   "source": [
    "from os import getenv\n",
    "from aleph_alpha_client import Client\n",
    "from intelligence_layer.classify import SingleLabelClassify, ClassifyInput\n",
    "from pprint import pprint\n",
    "\n",
    "text_to_classify = \"Beneath a canopy of stars, aliens of all kinds danced and laughed, celebrating unity in the cosmic night.\\n\\\n",
    "The asteroid throbbed with their energy, an unforgettable space party at the heart of the galaxy.\"\n",
    "labels = [\"Space party\", \"Space exploration\", \"Something else\", \"Something very different and long\"]\n",
    "client = Client(getenv(\"AA_API_TOKEN\"))\n",
    "task = SingleLabelClassify(client, \"info\")\n",
    "input = ClassifyInput(\n",
    "    text=text_to_classify, \n",
    "    labels=labels\n",
    ")\n",
    "\n",
    "output = task.run(input)\n",
    "pprint(output.debug_log.model_dump())\n",
    "pprint(output.scores)"
   ]
  },
  {
   "cell_type": "markdown",
   "metadata": {},
   "source": [
    "### How does this implemetation work\n",
    "For prompt based classification, we prompt the model multiple times with the text we want to classify and each of our classes. \n",
    "Instead of letting the model generate the class it thinks fits the text best, we ask it for the probability for each class.\n",
    "\n",
    "To further explain this, lets start with a more familiar case.\n",
    "The intuitive way to ask an LLM if it could label a text could be something like this: "
   ]
  },
  {
   "cell_type": "code",
   "execution_count": 88,
   "metadata": {},
   "outputs": [
    {
     "name": "stdout",
     "output_type": "stream",
     "text": [
      "### Instruction:\n",
      "Identify a class that describes the text adequately.\n",
      "Reply with only the class label.\n",
      "\n",
      "### Input:\n",
      "Beneath a canopy of stars, aliens of all kinds danced and laughed, celebrating unity in the cosmic night.\n",
      "The asteroid throbbed with their energy, an unforgettable space party at the heart of the galaxy.\n",
      "\n",
      "### Response:\n"
     ]
    }
   ],
   "source": [
    "from aleph_alpha_client import PromptTemplate\n",
    "\n",
    "prompt_template = PromptTemplate(SingleLabelClassify.PROMPT_TEMPLATE) \n",
    "print(prompt_template.to_prompt(text=text_to_classify, label=\"\").items[0].text)"
   ]
  },
  {
   "cell_type": "markdown",
   "metadata": {},
   "source": [
    "The model would then answer our question, and give us a class that it thinks fits the text. \n",
    "\n",
    "In the case of classification, however, we already have the classes beforehand.\n",
    "Because of this, all we are interested in is the probability the model would have guessed our specific classes.\n",
    "To get this probability, we can prompt the model with each of our classes and ask the model to return the logprobs for the text. \n",
    "\n",
    "In case of prompt based classification the prompt looks something like this:"
   ]
  },
  {
   "cell_type": "code",
   "execution_count": 89,
   "metadata": {},
   "outputs": [
    {
     "name": "stdout",
     "output_type": "stream",
     "text": [
      "### Instruction:\n",
      "Identify a class that describes the text adequately.\n",
      "Reply with only the class label.\n",
      "\n",
      "### Input:\n",
      "Beneath a canopy of stars, aliens of all kinds danced and laughed, celebrating unity in the cosmic night.\n",
      "The asteroid throbbed with their energy, an unforgettable space party at the heart of the galaxy.\n",
      "\n",
      "### Response:Space party\n"
     ]
    }
   ],
   "source": [
    "prompt_template = PromptTemplate(SingleLabelClassify.PROMPT_TEMPLATE) \n",
    "print(prompt_template.to_prompt(text=text_to_classify, label=labels[0]).items[0].text)"
   ]
  },
  {
   "cell_type": "markdown",
   "metadata": {},
   "source": [
    "As you can see, we have pre-emptively filled in the class in our prompt.\n",
    "\n",
    "Our request will now not generate any tokens, but instead will just return us the logprobs that the class would be generated, given the previous tokens."
   ]
  },
  {
   "cell_type": "code",
   "execution_count": 90,
   "metadata": {},
   "outputs": [
    {
     "name": "stdout",
     "output_type": "stream",
     "text": [
      "\u001b[0;31mSignature:\u001b[0m\n",
      "\u001b[0mSingleLabelClassify\u001b[0m\u001b[0;34m.\u001b[0m\u001b[0m_complete\u001b[0m\u001b[0;34m(\u001b[0m\u001b[0;34m\u001b[0m\n",
      "\u001b[0;34m\u001b[0m    \u001b[0mself\u001b[0m\u001b[0;34m,\u001b[0m\u001b[0;34m\u001b[0m\n",
      "\u001b[0;34m\u001b[0m    \u001b[0mmodel\u001b[0m\u001b[0;34m:\u001b[0m \u001b[0mstr\u001b[0m\u001b[0;34m,\u001b[0m\u001b[0;34m\u001b[0m\n",
      "\u001b[0;34m\u001b[0m    \u001b[0mprompt_template\u001b[0m\u001b[0;34m:\u001b[0m \u001b[0maleph_alpha_client\u001b[0m\u001b[0;34m.\u001b[0m\u001b[0mprompt_template\u001b[0m\u001b[0;34m.\u001b[0m\u001b[0mPromptTemplate\u001b[0m\u001b[0;34m,\u001b[0m\u001b[0;34m\u001b[0m\n",
      "\u001b[0;34m\u001b[0m    \u001b[0mdebug_log\u001b[0m\u001b[0;34m:\u001b[0m \u001b[0mintelligence_layer\u001b[0m\u001b[0;34m.\u001b[0m\u001b[0mtask\u001b[0m\u001b[0;34m.\u001b[0m\u001b[0mDebugLog\u001b[0m\u001b[0;34m,\u001b[0m\u001b[0;34m\u001b[0m\n",
      "\u001b[0;34m\u001b[0m    \u001b[0;34m**\u001b[0m\u001b[0mkwargs\u001b[0m\u001b[0;34m:\u001b[0m \u001b[0mAny\u001b[0m\u001b[0;34m,\u001b[0m\u001b[0;34m\u001b[0m\n",
      "\u001b[0;34m\u001b[0m\u001b[0;34m)\u001b[0m \u001b[0;34m->\u001b[0m \u001b[0mintelligence_layer\u001b[0m\u001b[0;34m.\u001b[0m\u001b[0mcompletion\u001b[0m\u001b[0;34m.\u001b[0m\u001b[0mCompletionOutput\u001b[0m\u001b[0;34m\u001b[0m\u001b[0;34m\u001b[0m\u001b[0m\n",
      "\u001b[0;31mDocstring:\u001b[0m <no docstring>\n",
      "\u001b[0;31mSource:\u001b[0m   \n",
      "    \u001b[0;32mdef\u001b[0m \u001b[0m_complete\u001b[0m\u001b[0;34m(\u001b[0m\u001b[0;34m\u001b[0m\n",
      "\u001b[0;34m\u001b[0m        \u001b[0mself\u001b[0m\u001b[0;34m,\u001b[0m\u001b[0;34m\u001b[0m\n",
      "\u001b[0;34m\u001b[0m        \u001b[0mmodel\u001b[0m\u001b[0;34m:\u001b[0m \u001b[0mstr\u001b[0m\u001b[0;34m,\u001b[0m\u001b[0;34m\u001b[0m\n",
      "\u001b[0;34m\u001b[0m        \u001b[0mprompt_template\u001b[0m\u001b[0;34m:\u001b[0m \u001b[0mPromptTemplate\u001b[0m\u001b[0;34m,\u001b[0m\u001b[0;34m\u001b[0m\n",
      "\u001b[0;34m\u001b[0m        \u001b[0mdebug_log\u001b[0m\u001b[0;34m:\u001b[0m \u001b[0mDebugLog\u001b[0m\u001b[0;34m,\u001b[0m\u001b[0;34m\u001b[0m\n",
      "\u001b[0;34m\u001b[0m        \u001b[0;34m**\u001b[0m\u001b[0mkwargs\u001b[0m\u001b[0;34m:\u001b[0m \u001b[0mAny\u001b[0m\u001b[0;34m\u001b[0m\n",
      "\u001b[0;34m\u001b[0m    \u001b[0;34m)\u001b[0m \u001b[0;34m->\u001b[0m \u001b[0mCompletionOutput\u001b[0m\u001b[0;34m:\u001b[0m\u001b[0;34m\u001b[0m\n",
      "\u001b[0;34m\u001b[0m        \u001b[0mrequest\u001b[0m \u001b[0;34m=\u001b[0m \u001b[0mCompletionRequest\u001b[0m\u001b[0;34m(\u001b[0m\u001b[0;34m\u001b[0m\n",
      "\u001b[0;34m\u001b[0m            \u001b[0mprompt\u001b[0m\u001b[0;34m=\u001b[0m\u001b[0mprompt_template\u001b[0m\u001b[0;34m.\u001b[0m\u001b[0mto_prompt\u001b[0m\u001b[0;34m(\u001b[0m\u001b[0;34m**\u001b[0m\u001b[0mkwargs\u001b[0m\u001b[0;34m)\u001b[0m\u001b[0;34m,\u001b[0m\u001b[0;34m\u001b[0m\n",
      "\u001b[0;34m\u001b[0m            \u001b[0mmaximum_tokens\u001b[0m\u001b[0;34m=\u001b[0m\u001b[0;36m0\u001b[0m\u001b[0;34m,\u001b[0m\u001b[0;34m\u001b[0m\n",
      "\u001b[0;34m\u001b[0m            \u001b[0mlog_probs\u001b[0m\u001b[0;34m=\u001b[0m\u001b[0;36m0\u001b[0m\u001b[0;34m,\u001b[0m\u001b[0;34m\u001b[0m\n",
      "\u001b[0;34m\u001b[0m            \u001b[0mtokens\u001b[0m\u001b[0;34m=\u001b[0m\u001b[0;32mTrue\u001b[0m\u001b[0;34m,\u001b[0m\u001b[0;34m\u001b[0m\n",
      "\u001b[0;34m\u001b[0m            \u001b[0mecho\u001b[0m\u001b[0;34m=\u001b[0m\u001b[0;32mTrue\u001b[0m\u001b[0;34m,\u001b[0m\u001b[0;34m\u001b[0m\n",
      "\u001b[0;34m\u001b[0m        \u001b[0;34m)\u001b[0m\u001b[0;34m\u001b[0m\n",
      "\u001b[0;34m\u001b[0m        \u001b[0;32mreturn\u001b[0m \u001b[0mself\u001b[0m\u001b[0;34m.\u001b[0m\u001b[0mcompletion_task\u001b[0m\u001b[0;34m.\u001b[0m\u001b[0mrun\u001b[0m\u001b[0;34m(\u001b[0m\u001b[0mCompletionInput\u001b[0m\u001b[0;34m(\u001b[0m\u001b[0mrequest\u001b[0m\u001b[0;34m=\u001b[0m\u001b[0mrequest\u001b[0m\u001b[0;34m,\u001b[0m \u001b[0mmodel\u001b[0m\u001b[0;34m=\u001b[0m\u001b[0mmodel\u001b[0m\u001b[0;34m)\u001b[0m\u001b[0;34m)\u001b[0m\u001b[0;34m\u001b[0m\u001b[0;34m\u001b[0m\u001b[0m\n",
      "\u001b[0;31mFile:\u001b[0m      ~/repos/intelligence-layer/src/intelligence_layer/classify.py\n",
      "\u001b[0;31mType:\u001b[0m      function"
     ]
    }
   ],
   "source": [
    "??SingleLabelClassify._complete"
   ]
  },
  {
   "cell_type": "markdown",
   "metadata": {},
   "source": [
    "In the case of the classes \"Space exploration\" and \"Space party\", the logprobs per label might look something like the code snippet below. "
   ]
  },
  {
   "cell_type": "code",
   "execution_count": 91,
   "metadata": {},
   "outputs": [
    {
     "name": "stdout",
     "output_type": "stream",
     "text": [
      "[LogEntry(message='Raw log probs per label', level='info', value={'Space exploration': [TokenWithProb(token=Token(token='ĠSpace', token_id=20928), prob=-5.2103057), TokenWithProb(token=Token(token='Ġexploration', token_id=42347), prob=-17.067636), TokenWithProb(token=Token(token='<|endoftext|>', token_id=0), prob=-0.23751935)], 'Something else': [TokenWithProb(token=Token(token='ĠSomething', token_id=55978), prob=-13.960306), TokenWithProb(token=Token(token='Ġelse', token_id=7372), prob=-9.6932125), TokenWithProb(token=Token(token='<|endoftext|>', token_id=0), prob=-0.00432627)], 'Space party': [TokenWithProb(token=Token(token='ĠSpace', token_id=20928), prob=-5.2103057), TokenWithProb(token=Token(token='Ġparty', token_id=8735), prob=-5.880137), TokenWithProb(token=Token(token='<|endoftext|>', token_id=0), prob=-0.0072391825)], 'Something very different and long': [TokenWithProb(token=Token(token='ĠSomething', token_id=55978), prob=-13.972682), TokenWithProb(token=Token(token='Ġvery', token_id=2187), prob=-10.60508), TokenWithProb(token=Token(token='Ġdifferent', token_id=2972), prob=-2.7111213), TokenWithProb(token=Token(token='Ġand', token_id=348), prob=-5.7671037), TokenWithProb(token=Token(token='Ġlong', token_id=1964), prob=-9.78079), TokenWithProb(token=Token(token='<|endoftext|>', token_id=0), prob=-11.587016)]})]\n"
     ]
    }
   ],
   "source": [
    "result_objects = [log_entry for log_entry in output.debug_log.root if log_entry.message == \"Raw log probs per label\"]\n",
    "pprint(result_objects)"
   ]
  },
  {
   "cell_type": "markdown",
   "metadata": {},
   "source": [
    "Now that we have the logprobs, we just need to do some calculations to turn them into our end score. \n",
    "\n",
    "To turn the logprobs into our end scores, first we normalize our probabilities. This will result in the following data structure:"
   ]
  },
  {
   "cell_type": "code",
   "execution_count": 99,
   "metadata": {},
   "outputs": [
    {
     "data": {
      "image/svg+xml": [
       "<?xml version=\"1.0\" encoding=\"UTF-8\" standalone=\"no\"?>\n",
       "<!DOCTYPE svg PUBLIC \"-//W3C//DTD SVG 1.1//EN\"\n",
       " \"http://www.w3.org/Graphics/SVG/1.1/DTD/svg11.dtd\">\n",
       "<!-- Generated by graphviz version 2.43.0 (0)\n",
       " -->\n",
       "<!-- Title: normalized probabilities Pages: 1 -->\n",
       "<svg width=\"381pt\" height=\"332pt\"\n",
       " viewBox=\"0.00 0.00 381.00 332.00\" xmlns=\"http://www.w3.org/2000/svg\" xmlns:xlink=\"http://www.w3.org/1999/xlink\">\n",
       "<g id=\"graph0\" class=\"graph\" transform=\"scale(1 1) rotate(0) translate(4 328)\">\n",
       "<title>normalized probabilities</title>\n",
       "<polygon fill=\"white\" stroke=\"transparent\" points=\"-4,4 -4,-328 377,-328 377,4 -4,4\"/>\n",
       "<!-- Ġexploration -->\n",
       "<g id=\"node1\" class=\"node\">\n",
       "<title>Ġexploration</title>\n",
       "<text text-anchor=\"middle\" x=\"54.5\" y=\"-230.3\" font-family=\"Times,serif\" font-size=\"14.00\">Ġexploration</text>\n",
       "</g>\n",
       "<!-- ĠSpace -->\n",
       "<g id=\"node2\" class=\"node\">\n",
       "<title>ĠSpace</title>\n",
       "<text text-anchor=\"middle\" x=\"130.5\" y=\"-302.3\" font-family=\"Times,serif\" font-size=\"14.00\">ĠSpace</text>\n",
       "</g>\n",
       "<!-- ĠSpace&#45;&gt;Ġexploration -->\n",
       "<g id=\"edge1\" class=\"edge\">\n",
       "<title>ĠSpace&#45;&gt;Ġexploration</title>\n",
       "<path fill=\"none\" stroke=\"black\" d=\"M111.71,-287.7C102.33,-279.05 90.82,-268.45 80.59,-259.03\"/>\n",
       "<polygon fill=\"black\" stroke=\"black\" points=\"73.07,-252.1 83.47,-255.57 76.75,-255.49 80.43,-258.88 80.43,-258.88 80.43,-258.88 76.75,-255.49 77.38,-262.19 73.07,-252.1 73.07,-252.1\"/>\n",
       "</g>\n",
       "<!-- Ġparty -->\n",
       "<g id=\"node3\" class=\"node\">\n",
       "<title>Ġparty</title>\n",
       "<text text-anchor=\"middle\" x=\"160.5\" y=\"-230.3\" font-family=\"Times,serif\" font-size=\"14.00\">Ġparty</text>\n",
       "</g>\n",
       "<!-- ĠSpace&#45;&gt;Ġparty -->\n",
       "<g id=\"edge2\" class=\"edge\">\n",
       "<title>ĠSpace&#45;&gt;Ġparty</title>\n",
       "<path fill=\"none\" stroke=\"black\" d=\"M137.92,-287.7C141.29,-279.81 145.37,-270.3 149.12,-261.55\"/>\n",
       "<polygon fill=\"black\" stroke=\"black\" points=\"153.17,-252.1 153.37,-263.07 151.2,-256.7 149.23,-261.3 149.23,-261.3 149.23,-261.3 151.2,-256.7 145.09,-259.52 153.17,-252.1 153.17,-252.1\"/>\n",
       "</g>\n",
       "<!-- Ġelse -->\n",
       "<g id=\"node4\" class=\"node\">\n",
       "<title>Ġelse</title>\n",
       "<text text-anchor=\"middle\" x=\"252.5\" y=\"-230.3\" font-family=\"Times,serif\" font-size=\"14.00\">Ġelse</text>\n",
       "</g>\n",
       "<!-- ĠSomething -->\n",
       "<g id=\"node5\" class=\"node\">\n",
       "<title>ĠSomething</title>\n",
       "<text text-anchor=\"middle\" x=\"282.5\" y=\"-302.3\" font-family=\"Times,serif\" font-size=\"14.00\">ĠSomething</text>\n",
       "</g>\n",
       "<!-- ĠSomething&#45;&gt;Ġelse -->\n",
       "<g id=\"edge3\" class=\"edge\">\n",
       "<title>ĠSomething&#45;&gt;Ġelse</title>\n",
       "<path fill=\"none\" stroke=\"black\" d=\"M275.08,-287.7C271.71,-279.81 267.63,-270.3 263.88,-261.55\"/>\n",
       "<polygon fill=\"black\" stroke=\"black\" points=\"259.83,-252.1 267.91,-259.52 261.8,-256.7 263.77,-261.3 263.77,-261.3 263.77,-261.3 261.8,-256.7 259.63,-263.07 259.83,-252.1 259.83,-252.1\"/>\n",
       "</g>\n",
       "<!-- Ġvery -->\n",
       "<g id=\"node6\" class=\"node\">\n",
       "<title>Ġvery</title>\n",
       "<text text-anchor=\"middle\" x=\"328.5\" y=\"-230.3\" font-family=\"Times,serif\" font-size=\"14.00\">Ġvery</text>\n",
       "</g>\n",
       "<!-- ĠSomething&#45;&gt;Ġvery -->\n",
       "<g id=\"edge4\" class=\"edge\">\n",
       "<title>ĠSomething&#45;&gt;Ġvery</title>\n",
       "<path fill=\"none\" stroke=\"black\" d=\"M293.87,-287.7C299.22,-279.56 305.7,-269.69 311.61,-260.7\"/>\n",
       "<polygon fill=\"black\" stroke=\"black\" points=\"317.26,-252.1 315.53,-262.93 314.51,-256.28 311.77,-260.46 311.77,-260.46 311.77,-260.46 314.51,-256.28 308.01,-257.99 317.26,-252.1 317.26,-252.1\"/>\n",
       "</g>\n",
       "<!-- Ġdifferent -->\n",
       "<g id=\"node7\" class=\"node\">\n",
       "<title>Ġdifferent</title>\n",
       "<text text-anchor=\"middle\" x=\"328.5\" y=\"-158.3\" font-family=\"Times,serif\" font-size=\"14.00\">Ġdifferent</text>\n",
       "</g>\n",
       "<!-- Ġvery&#45;&gt;Ġdifferent -->\n",
       "<g id=\"edge5\" class=\"edge\">\n",
       "<title>Ġvery&#45;&gt;Ġdifferent</title>\n",
       "<path fill=\"none\" stroke=\"black\" d=\"M328.5,-215.7C328.5,-207.98 328.5,-198.71 328.5,-190.11\"/>\n",
       "<polygon fill=\"black\" stroke=\"black\" points=\"328.5,-180.1 333,-190.1 328.5,-185.1 328.5,-190.1 328.5,-190.1 328.5,-190.1 328.5,-185.1 324,-190.1 328.5,-180.1 328.5,-180.1\"/>\n",
       "</g>\n",
       "<!-- Ġand -->\n",
       "<g id=\"node8\" class=\"node\">\n",
       "<title>Ġand</title>\n",
       "<text text-anchor=\"middle\" x=\"328.5\" y=\"-86.3\" font-family=\"Times,serif\" font-size=\"14.00\">Ġand</text>\n",
       "</g>\n",
       "<!-- Ġdifferent&#45;&gt;Ġand -->\n",
       "<g id=\"edge6\" class=\"edge\">\n",
       "<title>Ġdifferent&#45;&gt;Ġand</title>\n",
       "<path fill=\"none\" stroke=\"black\" d=\"M328.5,-143.7C328.5,-135.98 328.5,-126.71 328.5,-118.11\"/>\n",
       "<polygon fill=\"black\" stroke=\"black\" points=\"328.5,-108.1 333,-118.1 328.5,-113.1 328.5,-118.1 328.5,-118.1 328.5,-118.1 328.5,-113.1 324,-118.1 328.5,-108.1 328.5,-108.1\"/>\n",
       "</g>\n",
       "<!-- Ġlong -->\n",
       "<g id=\"node9\" class=\"node\">\n",
       "<title>Ġlong</title>\n",
       "<text text-anchor=\"middle\" x=\"328.5\" y=\"-14.3\" font-family=\"Times,serif\" font-size=\"14.00\">Ġlong</text>\n",
       "</g>\n",
       "<!-- Ġand&#45;&gt;Ġlong -->\n",
       "<g id=\"edge7\" class=\"edge\">\n",
       "<title>Ġand&#45;&gt;Ġlong</title>\n",
       "<path fill=\"none\" stroke=\"black\" d=\"M328.5,-71.7C328.5,-63.98 328.5,-54.71 328.5,-46.11\"/>\n",
       "<polygon fill=\"black\" stroke=\"black\" points=\"328.5,-36.1 333,-46.1 328.5,-41.1 328.5,-46.1 328.5,-46.1 328.5,-46.1 328.5,-41.1 324,-46.1 328.5,-36.1 328.5,-36.1\"/>\n",
       "</g>\n",
       "</g>\n",
       "</svg>\n"
      ]
     },
     "metadata": {},
     "output_type": "display_data"
    }
   ],
   "source": [
    "import graphviz  \n",
    "from IPython import display\n",
    "import uuid\n",
    "\n",
    "\n",
    "\n",
    "normalized_probs_logs = [log_entry.value for log_entry in output.debug_log.root if log_entry.message == \"Normalized Probs\"]\n",
    "log = normalized_probs_logs.pop()\n",
    "\n",
    "root = TreeNode()\n",
    "for probs in log.values():\n",
    "    root.insert_path(probs)\n",
    "\n",
    "def graph_path(graph, node: TreeNode):\n",
    "    for child in node.children:\n",
    "        if child.token.token == \"<|endoftext|>\":\n",
    "            return\n",
    "        graph.node(UUi)\n",
    "        graph.edge(node.token.token, child.token.token)\n",
    "        graph_path(graph, child) \n",
    "\n",
    "def graph_nodes(root: TreeNode):\n",
    "    graph = graphviz.Digraph('normalized probabilities', node_attr={'shape': 'plaintext'})\n",
    "    graph.graph_attr['rankdir'] = 'TB'  \n",
    "    graph.edge_attr.update(arrowhead='vee', arrowsize='1')\n",
    "    for child in root.children:\n",
    "        graph_path(graph, child)\n",
    "    return graph \n",
    "\n",
    "graph = graph_nodes(root)\n",
    "display.display_svg(graph)"
   ]
  },
  {
   "cell_type": "code",
   "execution_count": null,
   "metadata": {},
   "outputs": [],
   "source": []
  },
  {
   "cell_type": "markdown",
   "metadata": {},
   "source": [
    "Finally, we take the product of all the paths to get the following results:"
   ]
  },
  {
   "cell_type": "code",
   "execution_count": 93,
   "metadata": {},
   "outputs": [
    {
     "name": "stdout",
     "output_type": "stream",
     "text": [
      "{'Something else': 0.00011302553813768136,\n",
      " 'Something very different and long': 4.5410633441516715e-05,\n",
      " 'Space exploration': 1.3843824699424742e-05,\n",
      " 'Space party': 0.9998277200037212}\n"
     ]
    }
   ],
   "source": [
    "pprint(output.scores)"
   ]
  }
 ],
 "metadata": {
  "kernelspec": {
   "display_name": "3.10-intelligence",
   "language": "python",
   "name": "python3"
  },
  "language_info": {
   "codemirror_mode": {
    "name": "ipython",
    "version": 3
   },
   "file_extension": ".py",
   "mimetype": "text/x-python",
   "name": "python",
   "nbconvert_exporter": "python",
   "pygments_lexer": "ipython3",
   "version": "3.11.0"
  }
 },
 "nbformat": 4,
 "nbformat_minor": 2
}
