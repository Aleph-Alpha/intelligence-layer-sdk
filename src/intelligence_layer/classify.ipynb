{
 "cells": [
  {
   "cell_type": "code",
   "execution_count": null,
   "metadata": {},
   "outputs": [],
   "source": [
    "from os import getenv\n",
    "from aleph_alpha_client import Client\n",
    "from intelligence_layer.classify import SingleLabelClassify, ClassifyInput, ClassifyOutput\n",
    "from pprint import pprint\n",
    "\n",
    "client = Client(getenv(\"AA_API_TOKEN\"))\n",
    "task = SingleLabelClassify(client)\n",
    "input = ClassifyInput(text=\"The weather is very nice.\", labels=[\"Weather\", \"Traffic\"])\n",
    "\n",
    "output = task.run(input)\n",
    "pprint(output.debug_log.filter(\"debug\").model_dump())\n",
    "\n"
   ]
  }
 ],
 "metadata": {
  "kernelspec": {
   "display_name": "3.10-intelligence",
   "language": "python",
   "name": "python3"
  },
  "language_info": {
   "codemirror_mode": {
    "name": "ipython",
    "version": 3
   },
   "file_extension": ".py",
   "mimetype": "text/x-python",
   "name": "python",
   "nbconvert_exporter": "python",
   "pygments_lexer": "ipython3",
   "version": "3.10.11"
  }
 },
 "nbformat": 4,
 "nbformat_minor": 2
}
