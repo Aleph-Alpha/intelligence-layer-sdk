{
 "cells": [
  {
   "cell_type": "markdown",
   "metadata": {},
   "source": [
    "# Classify\n",
    "\n",
    "Classification is a methodology that tries to match a text to the correct label. \n",
    "\n",
    "### Prompt based classification \n",
    "\n",
    "Prompt based classification is a methodology that relies purely on prompting the LLM in a specific way. \n",
    "\n",
    "### When should you use prompt based classification \n",
    "\n",
    "Some situations when you would use this methodology is when:\n",
    "- The labels are easily understood (they don't require explanation or examples)\n",
    "    \n",
    "    An example is sentiment analysis\n",
    "- The labels are not recognized by their semantic meaning\n",
    "    \n",
    "    E.g. Reasoning tasks like classifying contradictions\n",
    "- You don't have many examples\n",
    "\n",
    "### Example snippet \n",
    "Running the following code will instantiate a prompt based classifier, with a debug level for the log. \n",
    "Then it will classify the text given in \"ClassifyInput\".\n",
    "The contents of the debuglog will be shown below.\n",
    "The debuglog gives an overview of the steps taken to get the result."
   ]
  },
  {
   "cell_type": "code",
   "execution_count": 62,
   "metadata": {},
   "outputs": [
    {
     "name": "stdout",
     "output_type": "stream",
     "text": [
      "happy: 0.6867\n",
      "sad: 0.3065\n",
      "angry: 0.0068\n"
     ]
    },
    {
     "data": {
      "text/html": [
       "<script src=\"https://rawgit.com/caldwell/renderjson/master/renderjson.js\"></script><div id=\"7e1ef4c1-e569-4528-a37c-f001160c48d0\" style=\"height: 600px; width:100%;\"></div>"
      ]
     },
     "metadata": {},
     "output_type": "display_data"
    },
    {
     "data": {
      "application/javascript": "\n        renderjson.set_show_to_level(2);\n        document.getElementById('7e1ef4c1-e569-4528-a37c-f001160c48d0').appendChild(renderjson([{\"message\":\"Tokenized Labels\",\"level\":\"info\",\"value\":{\"happy\":[{\"token\":\"Ġhappy\",\"token_id\":10117},{\"token\":\"<|endoftext|>\",\"token_id\":0}],\"sad\":[{\"token\":\"Ġsad\",\"token_id\":19632},{\"token\":\"<|endoftext|>\",\"token_id\":0}],\"angry\":[{\"token\":\"Ġangry\",\"token_id\":41503},{\"token\":\"<|endoftext|>\",\"token_id\":0}]}},{\"message\":\"Completion\",\"level\":\"info\",\"value\":{\"model\":\"luminous-base-control\",\"template\":\"### Instruction:\\nIdentify a class that describes the text adequately.\\nReply with only the class label.\\n\\n### Input:\\n{{text}}\\n\\n### Response:{{label}}\",\"text\":\"In the distant future, a space exploration party embarked on a thrilling journey to the uncharted regions of the galaxy. \\n    With excitement in their hearts and the cosmos as their canvas, they ventured into the unknown, discovering breathtaking celestial wonders. \\n    As they gazed upon distant stars and nebulas, they forged unforgettable memories that would forever bind them as pioneers of the cosmos.\"}},{\"message\":\"Raw log probs per label\",\"level\":\"info\",\"value\":{\"happy\":[{\"token\":{\"token\":\"Ġhappy\",\"token_id\":10117},\"prob\":-16.594269},{\"token\":{\"token\":\"<|endoftext|>\",\"token_id\":0},\"prob\":-0.034554455}],\"sad\":[{\"token\":{\"token\":\"Ġsad\",\"token_id\":19632},\"prob\":-17.400831},{\"token\":{\"token\":\"<|endoftext|>\",\"token_id\":0},\"prob\":-0.022678891}],\"angry\":[{\"token\":{\"token\":\"Ġangry\",\"token_id\":41503},\"prob\":-21.213331},{\"token\":{\"token\":\"<|endoftext|>\",\"token_id\":0},\"prob\":-0.19885235}]}},{\"message\":\"Normalized Probs\",\"level\":\"info\",\"value\":{\"happy\":[{\"token\":{\"token\":\"Ġhappy\",\"token_id\":10117},\"prob\":0.686694259165294},{\"token\":{\"token\":\"<|endoftext|>\",\"token_id\":0},\"prob\":1.0}],\"sad\":[{\"token\":{\"token\":\"Ġsad\",\"token_id\":19632},\"prob\":0.3065335329901159},{\"token\":{\"token\":\"<|endoftext|>\",\"token_id\":0},\"prob\":1.0}],\"angry\":[{\"token\":{\"token\":\"Ġangry\",\"token_id\":41503},\"prob\":0.006772207844590012},{\"token\":{\"token\":\"<|endoftext|>\",\"token_id\":0},\"prob\":1.0}]}}]));\n        "
     },
     "metadata": {},
     "output_type": "display_data"
    }
   ],
   "source": [
    "from os import getenv\n",
    "from aleph_alpha_client import Client\n",
    "from intelligence_layer.classify import SingleLabelClassify, ClassifyInput\n",
    "from pprint import pprint\n",
    "\n",
    "text_to_classify = \"In the distant future, a space exploration party embarked on a thrilling journey to the uncharted regions of the galaxy. \\n\\\n",
    "    With excitement in their hearts and the cosmos as their canvas, they ventured into the unknown, discovering breathtaking celestial wonders. \\n\\\n",
    "    As they gazed upon distant stars and nebulas, they forged unforgettable memories that would forever bind them as pioneers of the cosmos.\"\n",
    "labels = [\"happy\", \"angry\", \"sad\"]\n",
    "client = Client(getenv(\"AA_API_TOKEN\"))\n",
    "task = SingleLabelClassify(client, \"info\")\n",
    "input = ClassifyInput(\n",
    "    text=text_to_classify, \n",
    "    labels=labels\n",
    ")\n",
    "\n",
    "output = task.run(input)\n",
    "for label, score in output.scores.items():\n",
    "    print(f\"{label}: {round(score, 4)}\")\n",
    "output.debug_log"
   ]
  },
  {
   "cell_type": "markdown",
   "metadata": {},
   "source": [
    "### How does this implemetation work\n",
    "For prompt based classification, we prompt the model multiple times with the text we want to classify and each of our classes. \n",
    "Instead of letting the model generate the class it thinks fits the text best, we ask it for the probability for each class.\n",
    "\n",
    "To further explain this, lets start with a more familiar case.\n",
    "The intuitive way to ask an LLM if it could label a text could be something like this: "
   ]
  },
  {
   "cell_type": "code",
   "execution_count": 63,
   "metadata": {},
   "outputs": [
    {
     "name": "stdout",
     "output_type": "stream",
     "text": [
      "### Instruction:\n",
      "Identify a class that describes the text adequately.\n",
      "Reply with only the class label.\n",
      "\n",
      "### Input:\n",
      "In the distant future, a space exploration party embarked on a thrilling journey to the uncharted regions of the galaxy. \n",
      "    With excitement in their hearts and the cosmos as their canvas, they ventured into the unknown, discovering breathtaking celestial wonders. \n",
      "    As they gazed upon distant stars and nebulas, they forged unforgettable memories that would forever bind them as pioneers of the cosmos.\n",
      "\n",
      "### Response:\n"
     ]
    }
   ],
   "source": [
    "from aleph_alpha_client import PromptTemplate\n",
    "\n",
    "prompt_template = PromptTemplate(SingleLabelClassify.PROMPT_TEMPLATE) \n",
    "print(prompt_template.to_prompt(text=text_to_classify, label=\"\").items[0].text)"
   ]
  },
  {
   "cell_type": "markdown",
   "metadata": {},
   "source": [
    "The model would then answer our question, and give us a class that it thinks fits the text. \n",
    "\n",
    "In the case of classification, however, we already have the classes beforehand.\n",
    "Because of this, all we are interested in is the probability the model would have guessed our specific classes.\n",
    "To get this probability, we can prompt the model with each of our classes and ask the model to return the logprobs for the text. \n",
    "\n",
    "In case of prompt based classification the prompt looks something like this:"
   ]
  },
  {
   "cell_type": "code",
   "execution_count": 64,
   "metadata": {},
   "outputs": [
    {
     "name": "stdout",
     "output_type": "stream",
     "text": [
      "### Instruction:\n",
      "Identify a class that describes the text adequately.\n",
      "Reply with only the class label.\n",
      "\n",
      "### Input:\n",
      "In the distant future, a space exploration party embarked on a thrilling journey to the uncharted regions of the galaxy. \n",
      "    With excitement in their hearts and the cosmos as their canvas, they ventured into the unknown, discovering breathtaking celestial wonders. \n",
      "    As they gazed upon distant stars and nebulas, they forged unforgettable memories that would forever bind them as pioneers of the cosmos.\n",
      "\n",
      "### Response:happy\n"
     ]
    }
   ],
   "source": [
    "prompt_template = PromptTemplate(SingleLabelClassify.PROMPT_TEMPLATE) \n",
    "print(prompt_template.to_prompt(text=text_to_classify, label=labels[0]).items[0].text)"
   ]
  },
  {
   "cell_type": "markdown",
   "metadata": {},
   "source": [
    "As you can see, we have the same prompt, but with the class already filled in as a response.\n",
    "\n",
    "Our request will now not generate any tokens, but instead will just return us the logprobs that the class would be generated, given the previous tokens.\n",
    "\n",
    "```python\n",
    "CompletionRequest(\n",
    "    prompt=prompt_template.to_prompt(**kwargs),\n",
    "    maximum_tokens=0,\n",
    "    log_probs=0,\n",
    "    tokens=True,\n",
    "    echo=True,\n",
    ")\n",
    "```\n",
    "\n",
    "In the case of the classes \"Space exploration\" and \"Space party\", the logprobs per label might look something like the code snippet below. "
   ]
  },
  {
   "cell_type": "code",
   "execution_count": 65,
   "metadata": {},
   "outputs": [
    {
     "data": {
      "text/html": [
       "<script src=\"https://rawgit.com/caldwell/renderjson/master/renderjson.js\"></script><div id=\"bec8e36a-8c0d-4a81-856c-dee84db368e4\" style=\"height: 600px; width:100%;\"></div>"
      ]
     },
     "metadata": {},
     "output_type": "display_data"
    },
    {
     "data": {
      "application/javascript": "\n        renderjson.set_show_to_level(2);\n        document.getElementById('bec8e36a-8c0d-4a81-856c-dee84db368e4').appendChild(renderjson([{\"message\":\"Raw log probs per label\",\"level\":\"info\",\"value\":{\"happy\":[{\"token\":{\"token\":\"Ġhappy\",\"token_id\":10117},\"prob\":-16.594269},{\"token\":{\"token\":\"<|endoftext|>\",\"token_id\":0},\"prob\":-0.034554455}],\"sad\":[{\"token\":{\"token\":\"Ġsad\",\"token_id\":19632},\"prob\":-17.400831},{\"token\":{\"token\":\"<|endoftext|>\",\"token_id\":0},\"prob\":-0.022678891}],\"angry\":[{\"token\":{\"token\":\"Ġangry\",\"token_id\":41503},\"prob\":-21.213331},{\"token\":{\"token\":\"<|endoftext|>\",\"token_id\":0},\"prob\":-0.19885235}]}}]));\n        "
     },
     "metadata": {},
     "output_type": "display_data"
    }
   ],
   "source": [
    "from intelligence_layer.task import InfoEnabledLog \n",
    "result_objects = [log_entry for log_entry in output.debug_log.root if log_entry.message == \"Raw log probs per label\"]\n",
    "InfoEnabledLog(root=result_objects)"
   ]
  },
  {
   "cell_type": "markdown",
   "metadata": {},
   "source": [
    "Now that we have the logprobs, we just need to do some calculations to turn them into our end score. \n",
    "\n",
    "To turn the logprobs into our end scores, first we normalize our probabilities. This will result in the following data structure:"
   ]
  },
  {
   "cell_type": "code",
   "execution_count": 66,
   "metadata": {},
   "outputs": [
    {
     "data": {
      "image/svg+xml": [
       "<?xml version=\"1.0\" encoding=\"UTF-8\" standalone=\"no\"?>\n",
       "<!DOCTYPE svg PUBLIC \"-//W3C//DTD SVG 1.1//EN\"\n",
       " \"http://www.w3.org/Graphics/SVG/1.1/DTD/svg11.dtd\">\n",
       "<!-- Generated by graphviz version 2.43.0 (0)\n",
       " -->\n",
       "<!-- Title: normalized probabilities Pages: 1 -->\n",
       "<svg width=\"479pt\" height=\"116pt\"\n",
       " viewBox=\"0.00 0.00 479.00 116.00\" xmlns=\"http://www.w3.org/2000/svg\" xmlns:xlink=\"http://www.w3.org/1999/xlink\">\n",
       "<g id=\"graph0\" class=\"graph\" transform=\"scale(1 1) rotate(0) translate(4 112)\">\n",
       "<title>normalized probabilities</title>\n",
       "<polygon fill=\"white\" stroke=\"transparent\" points=\"-4,4 -4,-112 475,-112 475,4 -4,4\"/>\n",
       "<!-- 5251d235&#45;ab31&#45;46d4&#45;8a89&#45;6b2cec2fe91e -->\n",
       "<g id=\"node1\" class=\"node\">\n",
       "<title>5251d235&#45;ab31&#45;46d4&#45;8a89&#45;6b2cec2fe91e</title>\n",
       "<text text-anchor=\"middle\" x=\"72.5\" y=\"-86.3\" font-family=\"Times,serif\" font-size=\"14.00\">Ġhappy:0.687</text>\n",
       "</g>\n",
       "<!-- 7dc6aae5&#45;f5e7&#45;460f&#45;95df&#45;430e61ca6e32 -->\n",
       "<g id=\"node2\" class=\"node\">\n",
       "<title>7dc6aae5&#45;f5e7&#45;460f&#45;95df&#45;430e61ca6e32</title>\n",
       "<text text-anchor=\"middle\" x=\"72.5\" y=\"-14.3\" font-family=\"Times,serif\" font-size=\"14.00\">&lt;|endoftext|&gt;:1.0</text>\n",
       "</g>\n",
       "<!-- 5251d235&#45;ab31&#45;46d4&#45;8a89&#45;6b2cec2fe91e&#45;&gt;7dc6aae5&#45;f5e7&#45;460f&#45;95df&#45;430e61ca6e32 -->\n",
       "<g id=\"edge1\" class=\"edge\">\n",
       "<title>5251d235&#45;ab31&#45;46d4&#45;8a89&#45;6b2cec2fe91e&#45;&gt;7dc6aae5&#45;f5e7&#45;460f&#45;95df&#45;430e61ca6e32</title>\n",
       "<path fill=\"none\" stroke=\"black\" d=\"M72.5,-71.7C72.5,-63.98 72.5,-54.71 72.5,-46.11\"/>\n",
       "<polygon fill=\"black\" stroke=\"black\" points=\"72.5,-36.1 77,-46.1 72.5,-41.1 72.5,-46.1 72.5,-46.1 72.5,-46.1 72.5,-41.1 68,-46.1 72.5,-36.1 72.5,-36.1\"/>\n",
       "</g>\n",
       "<!-- 075dd0c9&#45;197f&#45;4c2f&#45;a3c5&#45;faa72b8730e6 -->\n",
       "<g id=\"node3\" class=\"node\">\n",
       "<title>075dd0c9&#45;197f&#45;4c2f&#45;a3c5&#45;faa72b8730e6</title>\n",
       "<text text-anchor=\"middle\" x=\"235.5\" y=\"-86.3\" font-family=\"Times,serif\" font-size=\"14.00\">Ġsad:0.307</text>\n",
       "</g>\n",
       "<!-- 3b65ff29&#45;0091&#45;40c2&#45;93b4&#45;978ba4b262a7 -->\n",
       "<g id=\"node4\" class=\"node\">\n",
       "<title>3b65ff29&#45;0091&#45;40c2&#45;93b4&#45;978ba4b262a7</title>\n",
       "<text text-anchor=\"middle\" x=\"235.5\" y=\"-14.3\" font-family=\"Times,serif\" font-size=\"14.00\">&lt;|endoftext|&gt;:1.0</text>\n",
       "</g>\n",
       "<!-- 075dd0c9&#45;197f&#45;4c2f&#45;a3c5&#45;faa72b8730e6&#45;&gt;3b65ff29&#45;0091&#45;40c2&#45;93b4&#45;978ba4b262a7 -->\n",
       "<g id=\"edge2\" class=\"edge\">\n",
       "<title>075dd0c9&#45;197f&#45;4c2f&#45;a3c5&#45;faa72b8730e6&#45;&gt;3b65ff29&#45;0091&#45;40c2&#45;93b4&#45;978ba4b262a7</title>\n",
       "<path fill=\"none\" stroke=\"black\" d=\"M235.5,-71.7C235.5,-63.98 235.5,-54.71 235.5,-46.11\"/>\n",
       "<polygon fill=\"black\" stroke=\"black\" points=\"235.5,-36.1 240,-46.1 235.5,-41.1 235.5,-46.1 235.5,-46.1 235.5,-46.1 235.5,-41.1 231,-46.1 235.5,-36.1 235.5,-36.1\"/>\n",
       "</g>\n",
       "<!-- 6e9dea38&#45;91f7&#45;41d9&#45;a952&#45;9e23f421ff6f -->\n",
       "<g id=\"node5\" class=\"node\">\n",
       "<title>6e9dea38&#45;91f7&#45;41d9&#45;a952&#45;9e23f421ff6f</title>\n",
       "<text text-anchor=\"middle\" x=\"398.5\" y=\"-86.3\" font-family=\"Times,serif\" font-size=\"14.00\">Ġangry:0.007</text>\n",
       "</g>\n",
       "<!-- 7060c8ad&#45;cdcb&#45;4383&#45;9f67&#45;1e4c876b65a2 -->\n",
       "<g id=\"node6\" class=\"node\">\n",
       "<title>7060c8ad&#45;cdcb&#45;4383&#45;9f67&#45;1e4c876b65a2</title>\n",
       "<text text-anchor=\"middle\" x=\"398.5\" y=\"-14.3\" font-family=\"Times,serif\" font-size=\"14.00\">&lt;|endoftext|&gt;:1.0</text>\n",
       "</g>\n",
       "<!-- 6e9dea38&#45;91f7&#45;41d9&#45;a952&#45;9e23f421ff6f&#45;&gt;7060c8ad&#45;cdcb&#45;4383&#45;9f67&#45;1e4c876b65a2 -->\n",
       "<g id=\"edge3\" class=\"edge\">\n",
       "<title>6e9dea38&#45;91f7&#45;41d9&#45;a952&#45;9e23f421ff6f&#45;&gt;7060c8ad&#45;cdcb&#45;4383&#45;9f67&#45;1e4c876b65a2</title>\n",
       "<path fill=\"none\" stroke=\"black\" d=\"M398.5,-71.7C398.5,-63.98 398.5,-54.71 398.5,-46.11\"/>\n",
       "<polygon fill=\"black\" stroke=\"black\" points=\"398.5,-36.1 403,-46.1 398.5,-41.1 398.5,-46.1 398.5,-46.1 398.5,-46.1 398.5,-41.1 394,-46.1 398.5,-36.1 398.5,-36.1\"/>\n",
       "</g>\n",
       "</g>\n",
       "</svg>\n"
      ]
     },
     "metadata": {},
     "output_type": "display_data"
    }
   ],
   "source": [
    "from IPython import display\n",
    "from intelligence_layer.classify import TreeNode\n",
    "from intelligence_layer.tree_visualizer import graph_nodes\n",
    "\n",
    "normalized_probs_logs = [log_entry.value for log_entry in output.debug_log.root if log_entry.message == \"Normalized Probs\"]\n",
    "log = normalized_probs_logs.pop()\n",
    "\n",
    "root = TreeNode()\n",
    "for probs in log.values():\n",
    "    root.insert_without_calculation(probs)\n",
    "\n",
    "graph = graph_nodes(root)\n",
    "display.display_svg(graph)"
   ]
  },
  {
   "cell_type": "markdown",
   "metadata": {},
   "source": [
    "Finally, we take the product of all the paths to get the following results:"
   ]
  },
  {
   "cell_type": "code",
   "execution_count": 67,
   "metadata": {},
   "outputs": [
    {
     "name": "stdout",
     "output_type": "stream",
     "text": [
      "happy: 0.68669\n",
      "sad: 0.30653\n",
      "angry: 0.00677\n"
     ]
    }
   ],
   "source": [
    "for label, score in output.scores.items():\n",
    "    print(f\"{label}: {round(score, 5)}\")"
   ]
  },
  {
   "cell_type": "markdown",
   "metadata": {},
   "source": [
    "The example mentioned before is rather straightforward, but there are some situations when it isn't as obvious as a single token.\n",
    "\n",
    "What if we take some classes that have some overlap?\n",
    "In the following example some of the classes overlap in the tokens they have. This makes the calculation a bit more complicated:"
   ]
  },
  {
   "cell_type": "code",
   "execution_count": 70,
   "metadata": {},
   "outputs": [
    {
     "data": {
      "image/svg+xml": [
       "<?xml version=\"1.0\" encoding=\"UTF-8\" standalone=\"no\"?>\n",
       "<!DOCTYPE svg PUBLIC \"-//W3C//DTD SVG 1.1//EN\"\n",
       " \"http://www.w3.org/Graphics/SVG/1.1/DTD/svg11.dtd\">\n",
       "<!-- Generated by graphviz version 2.43.0 (0)\n",
       " -->\n",
       "<!-- Title: normalized probabilities Pages: 1 -->\n",
       "<svg width=\"463pt\" height=\"260pt\"\n",
       " viewBox=\"0.00 0.00 463.00 260.00\" xmlns=\"http://www.w3.org/2000/svg\" xmlns:xlink=\"http://www.w3.org/1999/xlink\">\n",
       "<g id=\"graph0\" class=\"graph\" transform=\"scale(1 1) rotate(0) translate(4 256)\">\n",
       "<title>normalized probabilities</title>\n",
       "<polygon fill=\"white\" stroke=\"transparent\" points=\"-4,4 -4,-256 459,-256 459,4 -4,4\"/>\n",
       "<!-- fc818cec&#45;a540&#45;48d9&#45;af7e&#45;1f480b4b7415 -->\n",
       "<g id=\"node1\" class=\"node\">\n",
       "<title>fc818cec&#45;a540&#45;48d9&#45;af7e&#45;1f480b4b7415</title>\n",
       "<text text-anchor=\"middle\" x=\"302.5\" y=\"-230.3\" font-family=\"Times,serif\" font-size=\"14.00\">ĠSpace:1.0</text>\n",
       "</g>\n",
       "<!-- 831b7418&#45;3916&#45;4cca&#45;9b81&#45;aebd18fda0dc -->\n",
       "<g id=\"node2\" class=\"node\">\n",
       "<title>831b7418&#45;3916&#45;4cca&#45;9b81&#45;aebd18fda0dc</title>\n",
       "<text text-anchor=\"middle\" x=\"236.5\" y=\"-158.3\" font-family=\"Times,serif\" font-size=\"14.00\">Ġexploration:1.0</text>\n",
       "</g>\n",
       "<!-- fc818cec&#45;a540&#45;48d9&#45;af7e&#45;1f480b4b7415&#45;&gt;831b7418&#45;3916&#45;4cca&#45;9b81&#45;aebd18fda0dc -->\n",
       "<g id=\"edge1\" class=\"edge\">\n",
       "<title>fc818cec&#45;a540&#45;48d9&#45;af7e&#45;1f480b4b7415&#45;&gt;831b7418&#45;3916&#45;4cca&#45;9b81&#45;aebd18fda0dc</title>\n",
       "<path fill=\"none\" stroke=\"black\" d=\"M286.19,-215.7C278.19,-207.22 268.43,-196.86 259.68,-187.58\"/>\n",
       "<polygon fill=\"black\" stroke=\"black\" points=\"252.63,-180.1 262.76,-184.29 256.06,-183.74 259.49,-187.38 259.49,-187.38 259.49,-187.38 256.06,-183.74 256.21,-190.47 252.63,-180.1 252.63,-180.1\"/>\n",
       "</g>\n",
       "<!-- d28b5a2f&#45;1671&#45;4d82&#45;91a9&#45;79fa48c58de1 -->\n",
       "<g id=\"node6\" class=\"node\">\n",
       "<title>d28b5a2f&#45;1671&#45;4d82&#45;91a9&#45;79fa48c58de1</title>\n",
       "<text text-anchor=\"middle\" x=\"375.5\" y=\"-158.3\" font-family=\"Times,serif\" font-size=\"14.00\">Ġparty:0.0</text>\n",
       "</g>\n",
       "<!-- fc818cec&#45;a540&#45;48d9&#45;af7e&#45;1f480b4b7415&#45;&gt;d28b5a2f&#45;1671&#45;4d82&#45;91a9&#45;79fa48c58de1 -->\n",
       "<g id=\"edge5\" class=\"edge\">\n",
       "<title>fc818cec&#45;a540&#45;48d9&#45;af7e&#45;1f480b4b7415&#45;&gt;d28b5a2f&#45;1671&#45;4d82&#45;91a9&#45;79fa48c58de1</title>\n",
       "<path fill=\"none\" stroke=\"black\" d=\"M320.54,-215.7C329.56,-207.05 340.62,-196.45 350.44,-187.03\"/>\n",
       "<polygon fill=\"black\" stroke=\"black\" points=\"357.66,-180.1 353.56,-190.27 354.05,-183.56 350.44,-187.03 350.44,-187.03 350.44,-187.03 354.05,-183.56 347.33,-183.78 357.66,-180.1 357.66,-180.1\"/>\n",
       "</g>\n",
       "<!-- 2c75f9c0&#45;46da&#45;4d0b&#45;bd57&#45;7258a99cb054 -->\n",
       "<g id=\"node3\" class=\"node\">\n",
       "<title>2c75f9c0&#45;46da&#45;4d0b&#45;bd57&#45;7258a99cb054</title>\n",
       "<text text-anchor=\"middle\" x=\"81.5\" y=\"-86.3\" font-family=\"Times,serif\" font-size=\"14.00\">&lt;|endoftext|&gt;:0.679</text>\n",
       "</g>\n",
       "<!-- 831b7418&#45;3916&#45;4cca&#45;9b81&#45;aebd18fda0dc&#45;&gt;2c75f9c0&#45;46da&#45;4d0b&#45;bd57&#45;7258a99cb054 -->\n",
       "<g id=\"edge2\" class=\"edge\">\n",
       "<title>831b7418&#45;3916&#45;4cca&#45;9b81&#45;aebd18fda0dc&#45;&gt;2c75f9c0&#45;46da&#45;4d0b&#45;bd57&#45;7258a99cb054</title>\n",
       "<path fill=\"none\" stroke=\"black\" d=\"M198.58,-143.88C177.49,-134.35 151.04,-122.41 128.63,-112.28\"/>\n",
       "<polygon fill=\"black\" stroke=\"black\" points=\"119.29,-108.07 130.26,-108.08 123.85,-110.13 128.41,-112.18 128.41,-112.18 128.41,-112.18 123.85,-110.13 126.56,-116.29 119.29,-108.07 119.29,-108.07\"/>\n",
       "</g>\n",
       "<!-- 34a0c868&#45;d075&#45;4875&#45;ac7c&#45;c8a042af5422 -->\n",
       "<g id=\"node4\" class=\"node\">\n",
       "<title>34a0c868&#45;d075&#45;4875&#45;ac7c&#45;c8a042af5422</title>\n",
       "<text text-anchor=\"middle\" x=\"236.5\" y=\"-86.3\" font-family=\"Times,serif\" font-size=\"14.00\">Ġparty:0.321</text>\n",
       "</g>\n",
       "<!-- 831b7418&#45;3916&#45;4cca&#45;9b81&#45;aebd18fda0dc&#45;&gt;34a0c868&#45;d075&#45;4875&#45;ac7c&#45;c8a042af5422 -->\n",
       "<g id=\"edge3\" class=\"edge\">\n",
       "<title>831b7418&#45;3916&#45;4cca&#45;9b81&#45;aebd18fda0dc&#45;&gt;34a0c868&#45;d075&#45;4875&#45;ac7c&#45;c8a042af5422</title>\n",
       "<path fill=\"none\" stroke=\"black\" d=\"M236.5,-143.7C236.5,-135.98 236.5,-126.71 236.5,-118.11\"/>\n",
       "<polygon fill=\"black\" stroke=\"black\" points=\"236.5,-108.1 241,-118.1 236.5,-113.1 236.5,-118.1 236.5,-118.1 236.5,-118.1 236.5,-113.1 232,-118.1 236.5,-108.1 236.5,-108.1\"/>\n",
       "</g>\n",
       "<!-- 4d18acf6&#45;69fe&#45;41aa&#45;83da&#45;32e6554fd43c -->\n",
       "<g id=\"node5\" class=\"node\">\n",
       "<title>4d18acf6&#45;69fe&#45;41aa&#45;83da&#45;32e6554fd43c</title>\n",
       "<text text-anchor=\"middle\" x=\"236.5\" y=\"-14.3\" font-family=\"Times,serif\" font-size=\"14.00\">&lt;|endoftext|&gt;:1.0</text>\n",
       "</g>\n",
       "<!-- 34a0c868&#45;d075&#45;4875&#45;ac7c&#45;c8a042af5422&#45;&gt;4d18acf6&#45;69fe&#45;41aa&#45;83da&#45;32e6554fd43c -->\n",
       "<g id=\"edge4\" class=\"edge\">\n",
       "<title>34a0c868&#45;d075&#45;4875&#45;ac7c&#45;c8a042af5422&#45;&gt;4d18acf6&#45;69fe&#45;41aa&#45;83da&#45;32e6554fd43c</title>\n",
       "<path fill=\"none\" stroke=\"black\" d=\"M236.5,-71.7C236.5,-63.98 236.5,-54.71 236.5,-46.11\"/>\n",
       "<polygon fill=\"black\" stroke=\"black\" points=\"236.5,-36.1 241,-46.1 236.5,-41.1 236.5,-46.1 236.5,-46.1 236.5,-46.1 236.5,-41.1 232,-46.1 236.5,-36.1 236.5,-36.1\"/>\n",
       "</g>\n",
       "<!-- d1d91d8f&#45;8d3b&#45;402a&#45;adfe&#45;800f00261fdc -->\n",
       "<g id=\"node7\" class=\"node\">\n",
       "<title>d1d91d8f&#45;8d3b&#45;402a&#45;adfe&#45;800f00261fdc</title>\n",
       "<text text-anchor=\"middle\" x=\"382.5\" y=\"-86.3\" font-family=\"Times,serif\" font-size=\"14.00\">&lt;|endoftext|&gt;:1.0</text>\n",
       "</g>\n",
       "<!-- d28b5a2f&#45;1671&#45;4d82&#45;91a9&#45;79fa48c58de1&#45;&gt;d1d91d8f&#45;8d3b&#45;402a&#45;adfe&#45;800f00261fdc -->\n",
       "<g id=\"edge6\" class=\"edge\">\n",
       "<title>d28b5a2f&#45;1671&#45;4d82&#45;91a9&#45;79fa48c58de1&#45;&gt;d1d91d8f&#45;8d3b&#45;402a&#45;adfe&#45;800f00261fdc</title>\n",
       "<path fill=\"none\" stroke=\"black\" d=\"M377.23,-143.7C378,-135.98 378.93,-126.71 379.79,-118.11\"/>\n",
       "<polygon fill=\"black\" stroke=\"black\" points=\"380.79,-108.1 384.27,-118.5 380.29,-113.08 379.79,-118.05 379.79,-118.05 379.79,-118.05 380.29,-113.08 375.32,-117.61 380.79,-108.1 380.79,-108.1\"/>\n",
       "</g>\n",
       "</g>\n",
       "</svg>\n"
      ]
     },
     "metadata": {},
     "output_type": "display_data"
    },
    {
     "name": "stdout",
     "output_type": "stream",
     "text": [
      "End scores:\n",
      "Space exploration: 0.6788\n",
      "Space exploration party: 0.3211\n",
      "Space party: 0.0\n"
     ]
    }
   ],
   "source": [
    "from intelligence_layer.classify import SingleLabelClassify, ClassifyInput\n",
    "\n",
    "labels = [\"Space party\", \"Space exploration\", \"Space exploration party\"]\n",
    "task = SingleLabelClassify(client, \"info\")\n",
    "input = ClassifyInput(\n",
    "    text=text_to_classify, \n",
    "    labels=labels\n",
    ")\n",
    "output = task.run(input)\n",
    "normalized_probs_logs = [log_entry.value for log_entry in output.debug_log.root if log_entry.message == \"Normalized Probs\"]\n",
    "log = normalized_probs_logs.pop()\n",
    "\n",
    "root = TreeNode()\n",
    "for probs in log.values():\n",
    "    root.insert_without_calculation(probs)\n",
    "\n",
    "graph = graph_nodes(root)\n",
    "display.display_svg(graph)\n",
    "print(\"End scores:\")\n",
    "for label, score in output.scores.items():\n",
    "    print(f\"{label}: {round(score, 4)}\")"
   ]
  },
  {
   "cell_type": "markdown",
   "metadata": {},
   "source": [
    "Here the three classes have some overlapping tokens. \n",
    "In the graph above can be seen how the calculations would be done in this case. \n",
    "\n",
    "1. At the top, you can see that when there is only one token to choose from, the normalized score will always be 1.\n",
    "\n",
    "2. After that, the first choice is made between \"exploration\" and \"party\". \n",
    "\n",
    "3. If the choice of \"exploration\" is made, finally a choice has to be made between the \"endoftext\" token and \"party\".\n",
    "\n",
    "    This \"endoftext\" token is a token that large language models use internally to make their calculations.\n",
    "    As an end user, you generally shouldn't see this token.\n",
    "\n",
    "    In our case, this translates to choosing between: \"Space exploration party\" and just \"Space exploration\".\n"
   ]
  }
 ],
 "metadata": {
  "kernelspec": {
   "display_name": "3.10-intelligence",
   "language": "python",
   "name": "python3"
  },
  "language_info": {
   "codemirror_mode": {
    "name": "ipython",
    "version": 3
   },
   "file_extension": ".py",
   "mimetype": "text/x-python",
   "name": "python",
   "nbconvert_exporter": "python",
   "pygments_lexer": "ipython3",
   "version": "3.11.0"
  }
 },
 "nbformat": 4,
 "nbformat_minor": 2
}
