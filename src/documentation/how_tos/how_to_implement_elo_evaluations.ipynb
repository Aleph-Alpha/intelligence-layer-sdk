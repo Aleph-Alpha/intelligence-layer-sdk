{
 "cells": [
  {
   "cell_type": "code",
   "execution_count": null,
   "metadata": {},
   "outputs": [],
   "source": [
    "from documentation.how_tos.example_data import DummyEloEvaluationLogic, example_data\n",
    "from intelligence_layer.evaluation import (\n",
    "    IncrementalEvaluator,\n",
    "    InMemoryEvaluationRepository,\n",
    ")"
   ]
  },
  {
   "cell_type": "markdown",
   "metadata": {},
   "source": [
    "# How to implement elo evaluations\n",
    "0. Run your tasks on the datasets you want to evaluate (see [here](./how_to_run_a_task_on_a_dataset.ipynb))\n",
    "   - When evaluating multiple runs, all of them need the same data types \n",
    "2. Initialize all necessary repositories for the `IncrementalEvaluator`, and an `EloEvaluationLogic` that is specific to your use case. \n",
    "3. Run the evaluator to evaluate all examples and create a single `EvaluationOverview`\n",
    "4. (Optional) Save the evaluation id for later use"
   ]
  },
  {
   "cell_type": "markdown",
   "metadata": {},
   "source": [
    "### Example"
   ]
  },
  {
   "cell_type": "markdown",
   "metadata": {},
   "source": []
  },
  {
   "cell_type": "code",
   "execution_count": null,
   "metadata": {},
   "outputs": [],
   "source": [
    "# Step 0\n",
    "\n",
    "\n",
    "my_example_data = example_data()\n",
    "print()\n",
    "run_ids = [my_example_data.run_overview_1.id, my_example_data.run_overview_2.id]\n",
    "\n",
    "# Step 1\n",
    "dataset_repository = my_example_data.dataset_repository\n",
    "run_repository = my_example_data.run_repository\n",
    "evaluation_repository = InMemoryEvaluationRepository()\n",
    "evaluation_logic = DummyEloEvaluationLogic()\n",
    "\n",
    "# Step 2\n",
    "evaluator = IncrementalEvaluator(\n",
    "    dataset_repository,\n",
    "    run_repository,\n",
    "    evaluation_repository,\n",
    "    \"My dummy evaluation\",\n",
    "    evaluation_logic,\n",
    ")\n",
    "\n",
    "evaluation_overview = evaluator.evaluate_runs(*run_ids)\n",
    "\n",
    "# Step 3\n",
    "print(evaluation_overview.id)"
   ]
  }
 ],
 "metadata": {
  "language_info": {
   "codemirror_mode": {
    "name": "ipython"
   },
   "file_extension": ".py",
   "mimetype": "text/x-python",
   "name": "python",
   "nbconvert_exporter": "python"
  }
 },
 "nbformat": 4,
 "nbformat_minor": 2
}
