{
 "cells": [
  {
   "cell_type": "code",
   "execution_count": 18,
   "metadata": {},
   "outputs": [
    {
     "name": "stderr",
     "output_type": "stream",
     "text": [
      "Running Task: 100%|██████████| 2/2 [00:00<00:00, 7660.83it/s]\n",
      "Running Task: 100%|██████████| 2/2 [00:00<00:00, 8729.04it/s]\n",
      "Evaluating: 2it [00:00, 51150.05it/s]\n",
      "Evaluating: 2it [00:00, 34952.53it/s]\n"
     ]
    }
   ],
   "source": [
    "from uuid import uuid4\n",
    "\n",
    "from dotenv import load_dotenv\n",
    "\n",
    "from documentation.how_tos.example_data import (\n",
    "    ComplexDummyEvaluationLogic,\n",
    "    ComplexDummyTask,\n",
    "    DummyAggregationLogic,\n",
    "    example_data,\n",
    ")\n",
    "from intelligence_layer.connectors import StudioClient\n",
    "from intelligence_layer.evaluation import (\n",
    "    StudioBenchmarkRepository,\n",
    "    StudioDatasetRepository,\n",
    ")\n",
    "\n",
    "load_dotenv()\n",
    "my_example_data = example_data()\n",
    "examples = my_example_data.complex_examples"
   ]
  },
  {
   "cell_type": "markdown",
   "metadata": {},
   "source": [
    "# How to execute Benchmarks\n",
    "<div class=\"alert alert-info\">  \n",
    "\n",
    "Make sure your account has permissions to use the Studio application.\n",
    "\n",
    "For an on-prem or local installation, please contact the corresponding team.\n",
    "</div>"
   ]
  },
  {
   "cell_type": "markdown",
   "metadata": {},
   "source": [
    "0. Initialize a `StudioClient` with a project.\n",
    "    - Use an existing project or create a new one with the `StudioClient.create_project` function.\n",
    "    \n",
    "1. Create a `StudioDatasetRepository` and create a new `Dataset` via `StudioDatasetRepository.create_dataset`, which will automatically upload this new `Dataset` to Studio.\n",
    "\n",
    "2. Create a `StudioBenchmarkRepository` and instantiate a benchmark with your `evaluation_logic` and `aggregation_logic` using the `create_benchmark` function.\n",
    "\n",
    "3. Execute the `Benchmark` with your initialized `Task`\n",
    "\n",
    "### Example"
   ]
  },
  {
   "cell_type": "code",
   "execution_count": 19,
   "metadata": {},
   "outputs": [
    {
     "name": "stderr",
     "output_type": "stream",
     "text": [
      "Running Task: 100%|██████████| 3/3 [00:00<00:00, 10520.83it/s]\n"
     ]
    },
    {
     "name": "stdout",
     "output_type": "stream",
     "text": [
      "FAILED EVALUATION: example \"65f5050d-daf9-44d3-bc4d-c54db5af0640\", AttributeError: \"'dict' object has no attribute 'expected_output'\"\n",
      "FAILED EVALUATION: example \"814f697d-bec3-4b11-91e5-48e1e362dbdf\", AttributeError: \"'dict' object has no attribute 'expected_output'\"\n",
      "FAILED EVALUATION: example \"8afaefdf-c80f-462f-9f72-e559165e2134\", AttributeError: \"'dict' object has no attribute 'expected_output'\"\n"
     ]
    },
    {
     "name": "stderr",
     "output_type": "stream",
     "text": [
      "Evaluating: 3it [00:00, 49932.19it/s]\n",
      "Submitting traces to Studio: 100%|██████████| 3/3 [00:01<00:00,  2.21it/s]\n"
     ]
    },
    {
     "data": {
      "text/plain": [
       "'b0691575-82a9-4a80-9477-2f2a0ab92379'"
      ]
     },
     "execution_count": 19,
     "metadata": {},
     "output_type": "execute_result"
    }
   ],
   "source": [
    "# Step 0\n",
    "\n",
    "studio_client = StudioClient(project=\"nk-test-project\", create_project=True)\n",
    "\n",
    "# Step 1\n",
    "studio_dataset_repository = StudioDatasetRepository(studio_client)\n",
    "dataset = studio_dataset_repository.create_dataset(examples, \"my_dataset\")\n",
    "\n",
    "# Step 2\n",
    "studio_benchmark_repository = StudioBenchmarkRepository(studio_client)\n",
    "evaluation_logic = ComplexDummyEvaluationLogic()\n",
    "aggregation_logic = DummyAggregationLogic()\n",
    "benchmark = studio_benchmark_repository.create_benchmark(\n",
    "    dataset.id, evaluation_logic, aggregation_logic, f\"my_benchmark-{uuid4()}\"\n",
    ")\n",
    "\n",
    "# Step 3\n",
    "\n",
    "task = ComplexDummyTask()\n",
    "benchmark.execute(task, \"my_task\")"
   ]
  }
 ],
 "metadata": {
  "kernelspec": {
   "display_name": ".venv",
   "language": "python",
   "name": "python3"
  },
  "language_info": {
   "codemirror_mode": {
    "name": "ipython",
    "version": 3
   },
   "file_extension": ".py",
   "mimetype": "text/x-python",
   "name": "python",
   "nbconvert_exporter": "python",
   "pygments_lexer": "ipython3",
   "version": "3.12.2"
  }
 },
 "nbformat": 4,
 "nbformat_minor": 2
}
