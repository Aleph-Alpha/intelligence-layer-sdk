{
 "cells": [
  {
   "cell_type": "code",
   "execution_count": null,
   "metadata": {},
   "outputs": [],
   "source": [
    "from dotenv import load_dotenv\n",
    "\n",
    "from documentation.how_tos.example_data import example_data\n",
    "from intelligence_layer.connectors import StudioClient\n",
    "from intelligence_layer.evaluation.dataset.studio_dataset_repository import (\n",
    "    StudioDatasetRepository,\n",
    ")\n",
    "\n",
    "load_dotenv()\n",
    "\n",
    "my_example_data = example_data()"
   ]
  },
  {
   "cell_type": "markdown",
   "metadata": {},
   "source": [
    "# How to upload (existing) datasets to Studio\n",
    "<div class=\"alert alert-info\">  \n",
    "\n",
    "Make sure your account has permissions to use the Studio application.\n",
    "\n",
    "For an on-prem or local installation, please contact the corresponding team.\n",
    "</div>"
   ]
  },
  {
   "cell_type": "markdown",
   "metadata": {},
   "source": [
    "\n",
    "0. Extract `Dataset` and `Examples` from your `DatasetRepository`.\n",
    "\n",
    "1. Initialize a `StudioClient` with a project.\n",
    "    - Use an existing project or create a new one with the `StudioClient.create_project` function.\n",
    "    \n",
    "2. Create a `StudioDatasetRepository` and create a new `Dataset` via `StudioDatasetRepository.create_dataset`, which will automatically upload this new `Dataset` to Studio.\n",
    "\n",
    "### Example"
   ]
  },
  {
   "cell_type": "code",
   "execution_count": null,
   "metadata": {},
   "outputs": [],
   "source": [
    "# Step 0\n",
    "existing_dataset_repo = my_example_data.dataset_repository\n",
    "\n",
    "existing_dataset = existing_dataset_repo.dataset(dataset_id=my_example_data.dataset.id)\n",
    "assert existing_dataset, \"Make sure your dataset still exists.\"\n",
    "\n",
    "existing_examples = existing_dataset_repo.examples(\n",
    "    existing_dataset.id, input_type=str, expected_output_type=str\n",
    ")\n",
    "\n",
    "# Step 1\n",
    "studio_client = StudioClient(\n",
    "    project=my_example_data.studio_project_name,\n",
    "    create_project=True,\n",
    ")\n",
    "\n",
    "# Step 2\n",
    "studio_dataset_repo = StudioDatasetRepository(studio_client=studio_client)\n",
    "\n",
    "studio_dataset = studio_dataset_repo.create_dataset(\n",
    "    examples=existing_examples,\n",
    "    dataset_name=existing_dataset.name,\n",
    "    labels=existing_dataset.labels,\n",
    "    metadata=existing_dataset.metadata,\n",
    ")"
   ]
  }
 ],
 "metadata": {
  "language_info": {
   "codemirror_mode": {
    "name": "ipython"
   },
   "file_extension": ".py",
   "mimetype": "text/x-python",
   "name": "python",
   "nbconvert_exporter": "python"
  }
 },
 "nbformat": 4,
 "nbformat_minor": 2
}
