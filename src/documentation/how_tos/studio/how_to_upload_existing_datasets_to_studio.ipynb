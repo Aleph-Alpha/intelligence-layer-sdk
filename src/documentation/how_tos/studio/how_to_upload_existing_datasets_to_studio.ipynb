{
 "cells": [
  {
   "cell_type": "code",
   "execution_count": null,
   "metadata": {},
   "outputs": [],
   "source": [
    "from uuid import uuid4\n",
    "\n",
    "from intelligence_layer.connectors.studio.studio import StudioClient\n",
    "from intelligence_layer.evaluation import InMemoryDatasetRepository"
   ]
  },
  {
   "cell_type": "markdown",
   "metadata": {},
   "source": [
    "# How to upload existing datasets to Studio\n",
    "<div class=\"alert alert-info\">  \n",
    "\n",
    "Make sure your account has permissions to use the Studio application.\n",
    "\n",
    "For an on-prem or local installation, please contact the corresponding team.\n",
    "</div>"
   ]
  },
  {
   "cell_type": "markdown",
   "metadata": {},
   "source": [
    "\n",
    "0. Extract `Dataset` and `Examples` from your `DatasetRepository`.\n",
    "\n",
    "1. Initialize a `StudioClient` with a project.\n",
    "    - Use an existing project or create a new one with the `StudioClient.create_project` function.\n",
    "2. Submit your `Dataset`along with the corresponding `Examples` with the client.\n",
    "\n",
    "### Example"
   ]
  },
  {
   "cell_type": "code",
   "execution_count": null,
   "metadata": {},
   "outputs": [],
   "source": [
    "# Step 0\n",
    "existing_dataset_repo = InMemoryDatasetRepository()\n",
    "existing_dataset = existing_dataset_repo.dataset(dataset_id=\"my_existing_dataset_id\")\n",
    "assert existing_dataset, \"Make sure your dataset still exists.\"\n",
    "\n",
    "existing_examples = existing_dataset_repo.examples(\n",
    "    existing_dataset.id, input_type=str, expected_output_type=str\n",
    ")\n",
    "\n",
    "# Step 1\n",
    "project_name = str(uuid4())\n",
    "studio_client = StudioClient(project=project_name)\n",
    "my_project = studio_client.create_project(project=project_name)\n",
    "\n",
    "# Step 2\n",
    "studio_dataset_id = studio_client.submit_dataset(\n",
    "    dataset=existing_dataset, examples=existing_examples\n",
    ")"
   ]
  }
 ],
 "metadata": {
  "language_info": {
   "name": "python"
  }
 },
 "nbformat": 4,
 "nbformat_minor": 2
}
