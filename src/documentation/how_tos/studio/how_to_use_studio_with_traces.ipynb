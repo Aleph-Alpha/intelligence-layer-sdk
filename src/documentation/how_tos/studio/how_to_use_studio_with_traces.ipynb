{
 "cells": [
  {
   "cell_type": "code",
   "execution_count": null,
   "metadata": {},
   "outputs": [],
   "source": [
    "from dotenv import load_dotenv\n",
    "\n",
    "from documentation.how_tos.example_data import DummyTask, example_data\n",
    "from intelligence_layer.connectors import StudioClient\n",
    "from intelligence_layer.core import InMemoryTracer\n",
    "\n",
    "load_dotenv()\n",
    "\n",
    "my_example_data = example_data()"
   ]
  },
  {
   "cell_type": "markdown",
   "metadata": {},
   "source": [
    "# How to use Studio for Debugging in a SaaS Configuration\n",
    "<div class=\"alert alert-info\">  \n",
    "\n",
    "Make sure your account has permissions to use the Studio application.\n",
    "\n",
    "For an on-prem or local installation, please contact the corresponding team.\n",
    "</div>"
   ]
  },
  {
   "cell_type": "markdown",
   "metadata": {},
   "source": [
    "\n",
    "0. Generate a trace of your `Task` of interest.\n",
    "1. Initialize a `StudioClient` with a project.\n",
    "    - Use an existing project or create a new one with the `StudioClient.create_project` function.\n",
    "2. Submit your traces with the client\n",
    "    1. Submit a single trace via  `Tracer.export_for_viewing` and `StudioClient.submit_trace`\n",
    "    2. [Recommended] submit multiple traces via `StudioClient.submit_from_tracer`. \n",
    "\n",
    "### Example"
   ]
  },
  {
   "cell_type": "code",
   "execution_count": null,
   "metadata": {},
   "outputs": [],
   "source": [
    "# Step 0\n",
    "tracer = InMemoryTracer()\n",
    "DummyTask().run(\"My Dummy Run\", tracer=tracer)\n",
    "\n",
    "# Step 1\n",
    "studio_client = StudioClient(\n",
    "    project=my_example_data.studio_project_name, create_project=True\n",
    ")\n",
    "\n",
    "# Step 2.1\n",
    "trace_to_submit = tracer.export_for_viewing()\n",
    "trace_id = studio_client.submit_trace(trace_to_submit)  # only works for single traces\n",
    "\n",
    "# Step 2.2\n",
    "tracer2 = InMemoryTracer()\n",
    "DummyTask().run(\"My Dummy Run2\", tracer=tracer2)\n",
    "DummyTask().run(\"My Dummy Run3\", tracer=tracer2)\n",
    "ids_of_submitted_traces = studio_client.submit_from_tracer(tracer2)"
   ]
  }
 ],
 "metadata": {
  "language_info": {
   "codemirror_mode": {
    "name": "ipython"
   },
   "file_extension": ".py",
   "mimetype": "text/x-python",
   "name": "python",
   "nbconvert_exporter": "python"
  }
 },
 "nbformat": 4,
 "nbformat_minor": 2
}
