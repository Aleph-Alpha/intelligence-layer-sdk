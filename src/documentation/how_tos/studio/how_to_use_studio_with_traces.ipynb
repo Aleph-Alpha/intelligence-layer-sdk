{
 "cells": [
  {
   "cell_type": "code",
   "execution_count": null,
   "metadata": {},
   "outputs": [],
   "source": [
    "from uuid import uuid4\n",
    "\n",
    "from intelligence_layer.connectors.studio.studio import StudioClient\n",
    "from intelligence_layer.core import InMemoryTracer, Task, TaskSpan"
   ]
  },
  {
   "cell_type": "markdown",
   "metadata": {},
   "source": [
    "# How to use Studio for Debugging in a SaaS Configuration\n",
    "<div class=\"alert alert-info\">  \n",
    "\n",
    "Make sure your account has permissions to use the Studio application.\n",
    "\n",
    "For an on-prem or local installation, please contact the corresponding team.\n",
    "</div>"
   ]
  },
  {
   "cell_type": "markdown",
   "metadata": {},
   "source": [
    "\n",
    "0. Generate a trace of your `Task` of interest.\n",
    "1. Initialize a `StudioClient` with a project.\n",
    "    - Use an existing project or create a new one with the `StudioClient.create_project` function.\n",
    "2. Submit your traces with the client\n",
    "    1. Submit a single trace via  `Tracer.export_for_viewing` and `StudioClient.submit_trace`\n",
    "    2. [Recommended] submit multiple traces via `StudioClient.submit_from_tracer`. \n",
    "\n",
    "### Example"
   ]
  },
  {
   "cell_type": "code",
   "execution_count": 2,
   "metadata": {},
   "outputs": [],
   "source": [
    "# Step 0\n",
    "class DummyTask(Task[str, str]):\n",
    "    def do_run(self, input: str, task_span: TaskSpan) -> str:\n",
    "        return f\"{input} -> output\"\n",
    "\n",
    "\n",
    "tracer = InMemoryTracer()\n",
    "DummyTask().run(\"My Dummy Run\", tracer=tracer)\n",
    "\n",
    "# Step 1\n",
    "project_name = str(uuid4())\n",
    "studio_client = StudioClient(project=project_name)\n",
    "my_project = studio_client.create_project(project=project_name)\n",
    "\n",
    "# Step 2.1\n",
    "trace_to_submit = tracer.export_for_viewing()\n",
    "trace_id = studio_client.submit_trace(trace_to_submit)  # only works for single traces\n",
    "\n",
    "# Step 2.2\n",
    "tracer2 = InMemoryTracer()\n",
    "DummyTask().run(\"My Dummy Run2\", tracer=tracer2)\n",
    "DummyTask().run(\"My Dummy Run3\", tracer=tracer2)\n",
    "ids_of_submitted_traces = studio_client.submit_from_tracer(tracer2)"
   ]
  }
 ],
 "metadata": {
  "kernelspec": {
   "display_name": "intelligence-layer-aL2cXmJM-py3.11",
   "language": "python",
   "name": "python3"
  },
  "language_info": {
   "codemirror_mode": {
    "name": "ipython",
    "version": 3
   },
   "file_extension": ".py",
   "mimetype": "text/x-python",
   "name": "python",
   "nbconvert_exporter": "python",
   "pygments_lexer": "ipython3",
   "version": "3.12.2"
  }
 },
 "nbformat": 4,
 "nbformat_minor": 2
}
