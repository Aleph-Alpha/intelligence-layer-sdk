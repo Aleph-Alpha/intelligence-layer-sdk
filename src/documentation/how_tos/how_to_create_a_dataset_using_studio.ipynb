{
 "cells": [
  {
   "cell_type": "code",
   "execution_count": 1,
   "metadata": {},
   "outputs": [],
   "source": [
    "from collections.abc import Sequence\n",
    "\n",
    "from pydantic import BaseModel\n",
    "\n",
    "from intelligence_layer.evaluation import Example\n",
    "from intelligence_layer.evaluation.dataset.studio_dataset_repository import StudioDatasetRepository\n",
    "from intelligence_layer.connectors.data import DataClient"
   ]
  },
  {
   "cell_type": "markdown",
   "metadata": {},
   "source": [
    "# How to create a dataset\n",
    "\n",
    "0. Collect data for examples.\n",
    "1. Convert data to `Example`s.\n",
    "1. Create a `DatasetRepository`.\n",
    "2. Store `Example`s to `DatasetRepository`.\n",
    "3. Remember the dataset id."
   ]
  },
  {
   "cell_type": "markdown",
   "metadata": {},
   "source": [
    "### Example"
   ]
  },
  {
   "cell_type": "code",
   "execution_count": 3,
   "metadata": {},
   "outputs": [
    {
     "name": "stdout",
     "output_type": "stream",
     "text": [
      "65421249-cdea-4a98-a5c8-0ed9280869d5\n",
      "{'label2', 'label1'}\n",
      "{'key_a': ['a', 'b'], 'key_b': 'value'}\n"
     ]
    }
   ],
   "source": [
    "class StoryTaskInput(BaseModel):  # Should already be implemented in your task\n",
    "    topic: str\n",
    "    targeted_word_count: int\n",
    "\n",
    "\n",
    "class StoryTaskExpectedOutput(BaseModel):  # Should already be implemented in your task\n",
    "    keywords: Sequence[str]\n",
    "\n",
    "\n",
    "# Step 1\n",
    "examples = [\n",
    "    Example(\n",
    "        input=StoryTaskInput(topic=\"rain\", targeted_word_count=42),\n",
    "        expected_output=StoryTaskExpectedOutput(keywords=[\"wet\"]),\n",
    "        metadata={\n",
    "            \"author\": \"Shakespeare\"\n",
    "        },  # the metadata is optional and can contain custom information\n",
    "    ),\n",
    "    # ...\n",
    "]*10\n",
    "\n",
    "# Step 2 - Use FileDatasetRepository or HuggingFaceDatasetRepository for persistence\n",
    "dataset_repository = StudioDatasetRepository(\n",
    "    repository_id=\"<repository_id>\",\n",
    "    data_client=DataClient(\n",
    "        token=\"your_token\",\n",
    "        base_data_platform_url=\"http://localhost:8080\",\n",
    "    ),\n",
    ")\n",
    "\n",
    "# Step 3\n",
    "dataset = dataset_repository.create_dataset(\n",
    "    examples=examples,\n",
    "    dataset_name=\"StoryDataset\",\n",
    "    labels=set([\"label1\", \"label2\"]),\n",
    "    metadata=dict({\"key_a\": [\"a\", \"b\"], \"key_b\": \"value\"}),\n",
    ")\n",
    "\n",
    "# Step 4\n",
    "print(dataset.id)\n",
    "print(dataset.labels)\n",
    "print(dataset.metadata)"
   ]
  },
  {
   "cell_type": "code",
   "execution_count": null,
   "metadata": {},
   "outputs": [],
   "source": []
  }
 ],
 "metadata": {
  "kernelspec": {
   "display_name": "intelligence-layer-dgcJwC7l-py3.11",
   "language": "python",
   "name": "python3"
  },
  "language_info": {
   "codemirror_mode": {
    "name": "ipython",
    "version": 3
   },
   "file_extension": ".py",
   "mimetype": "text/x-python",
   "name": "python",
   "nbconvert_exporter": "python",
   "pygments_lexer": "ipython3",
   "version": "3.12.4"
  }
 },
 "nbformat": 4,
 "nbformat_minor": 2
}
