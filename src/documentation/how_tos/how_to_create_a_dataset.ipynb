{
 "cells": [
  {
   "cell_type": "code",
   "execution_count": null,
   "metadata": {},
   "outputs": [],
   "source": [
    "from collections.abc import Sequence\n",
    "\n",
    "from dotenv import load_dotenv\n",
    "from pydantic import BaseModel\n",
    "\n",
    "from intelligence_layer.evaluation import Example, InMemoryDatasetRepository\n",
    "\n",
    "load_dotenv()"
   ]
  },
  {
   "cell_type": "markdown",
   "metadata": {},
   "source": [
    "# How to create a dataset\n",
    "\n",
    "0. Collect data for examples.\n",
    "1. Convert data to `Example`s.\n",
    "1. Create a `DatasetRepository`.\n",
    "2. Store `Example`s to `DatasetRepository`.\n",
    "3. Remember the dataset id."
   ]
  },
  {
   "cell_type": "markdown",
   "metadata": {},
   "source": [
    "### Example"
   ]
  },
  {
   "cell_type": "code",
   "execution_count": null,
   "metadata": {},
   "outputs": [],
   "source": [
    "class StoryTaskInput(BaseModel):  # Should already be implemented in your task\n",
    "    topic: str\n",
    "    targeted_word_count: int\n",
    "\n",
    "\n",
    "class StoryTaskExpectedOutput(BaseModel):  # Should already be implemented in your task\n",
    "    keywords: Sequence[str]\n",
    "\n",
    "\n",
    "# Step 1\n",
    "examples = [\n",
    "    Example(\n",
    "        input=StoryTaskInput(topic=\"rain\", targeted_word_count=42),\n",
    "        expected_output=StoryTaskExpectedOutput(keywords=[\"wet\"]),\n",
    "        metadata={\n",
    "            \"author\": \"Shakespeare\"\n",
    "        },  # the metadata is optional and can contain custom information\n",
    "    ),\n",
    "    # ...\n",
    "]\n",
    "\n",
    "# Step 2 - Use FileDatasetRepository or HuggingFaceDatasetRepository for persistence\n",
    "dataset_repository = InMemoryDatasetRepository()\n",
    "\n",
    "# Step 3\n",
    "dataset = dataset_repository.create_dataset(\n",
    "    examples=examples,\n",
    "    dataset_name=\"StoryDataset\",\n",
    "    labels=set([\"label1\", \"label2\"]),\n",
    "    metadata=dict({\"key_a\": [\"a\", \"b\"], \"key_b\": \"value\"}),\n",
    ")\n",
    "\n",
    "# Step 4\n",
    "print(dataset.id)\n",
    "print(dataset.labels)\n",
    "print(dataset.metadata)"
   ]
  }
 ],
 "metadata": {
  "language_info": {
   "codemirror_mode": {
    "name": "ipython"
   },
   "file_extension": ".py",
   "mimetype": "text/x-python",
   "name": "python",
   "nbconvert_exporter": "python"
  }
 },
 "nbformat": 4,
 "nbformat_minor": 2
}
