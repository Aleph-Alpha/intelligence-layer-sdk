{
 "cells": [
  {
   "cell_type": "code",
   "execution_count": null,
   "metadata": {},
   "outputs": [],
   "source": [
    "import pytest\n",
    "from example_data import DummyTaskCanFail, example_data\n",
    "\n",
    "from intelligence_layer.evaluation.run.in_memory_run_repository import (\n",
    "    InMemoryRunRepository,\n",
    ")\n",
    "from intelligence_layer.evaluation.run.runner import Runner\n",
    "\n",
    "my_example_data = example_data()\n",
    "\n",
    "dataset_repository = my_example_data.dataset_repository\n",
    "run_repository = InMemoryRunRepository()\n",
    "task = DummyTaskCanFail()\n",
    "\n",
    "runner = Runner(task, dataset_repository, run_repository, \"MyRunDescription\")"
   ]
  },
  {
   "cell_type": "markdown",
   "metadata": {},
   "source": [
    "# How to resume a run after a crash\n",
    "\n",
    "0. Run task on a dataset, see [here](./how_to_run_a_task_on_a_dataset.ipynb).\n",
    "1. A crash occurs.\n",
    "2. Re-run task on the same dataset with `resume_from_recovery_data` set to `True`."
   ]
  },
  {
   "cell_type": "code",
   "execution_count": null,
   "metadata": {},
   "outputs": [],
   "source": [
    "# Steps 0 & 1: Run task for dataset\n",
    "with pytest.raises(Exception):  # noqa: B017\n",
    "    run_overview = runner.run_dataset(my_example_data.dataset.id, abort_on_error=True)"
   ]
  },
  {
   "cell_type": "markdown",
   "metadata": {},
   "source": [
    "A failure has occurred. Note, this might be a crash of the computer or an unexpected uncaught exception. \n",
    "\n",
    "For demonstration purposes, we set `abort_on_error=True`, such that an exception is raised. Further, we catch the exception for purely technical reasons of our CI. Feel free to remove the pytest scope on your local setup when running this notebook.\n",
    "\n",
    "Even though the run crashed, the `RunRepository` stores recovery data and is able to continue `run_dataset` by setting `resume_from_recovery_data` to `True`. This way, the already successfully calculated outputs do not have to be re-calculated again, and only the missing examples are processed:"
   ]
  },
  {
   "cell_type": "code",
   "execution_count": null,
   "metadata": {},
   "outputs": [],
   "source": [
    "# Step 2: Re-run the same run with `resume_from_recovery_data` enabled\n",
    "run_overview = runner.run_dataset(\n",
    "    my_example_data.dataset.id, abort_on_error=True, resume_from_recovery_data=True\n",
    ")"
   ]
  },
  {
   "cell_type": "code",
   "execution_count": null,
   "metadata": {},
   "outputs": [],
   "source": [
    "print(run_overview)"
   ]
  },
  {
   "cell_type": "markdown",
   "metadata": {},
   "source": [
    "Note: The `FileSystemRepository` persists the recovery data in the file system. The run can therefore be resumed even in case of a complete program or even computer crash. \n",
    "\n",
    "On the other hand, the `InMemoryRunRepository` retains the recovery data only as long as the repository resides in computer memory. A crash of the process will lead to the loss of the recovery data. In that case, all examples will have to be recalculated."
   ]
  }
 ],
 "metadata": {
  "language_info": {
   "codemirror_mode": {
    "name": "ipython"
   },
   "file_extension": ".py",
   "mimetype": "text/x-python",
   "name": "python",
   "nbconvert_exporter": "python"
  }
 },
 "nbformat": 4,
 "nbformat_minor": 2
}
