{
 "cells": [
  {
   "cell_type": "markdown",
   "metadata": {},
   "source": [
    "# How to define a task\n",
    "\n",
    "1. Think about what you want to do and define the requirements for your task\n",
    "2. Define the corresponding input and output in the form of Python classes\n",
    "3. Check if any existing task can be used to fulfill these requirements (see the [Use-case index](../../../README.md#use-case-index))\n",
    "4. Implement the task with the defined input and output types, see [How to implement a task](how_to_implement_a_task.ipynb) \n"
   ]
  },
  {
   "cell_type": "markdown",
   "metadata": {},
   "source": [
    "### Example\n",
    "\n",
    "**Step 1**\n",
    "- I want the LLM to tell a joke about a specific topic\n",
    "- It should work for any topic\n",
    "- It should fail if there is no topic given by the user\n",
    "\n",
    "\n",
    "**Step 2**\n",
    "\n",
    "```python\n",
    "class TellAJokeTaskInput(BaseModel):\n",
    "    topic: str\n",
    "\n",
    "class TellAJokeTaskOutput(BaseModel):\n",
    "    joke: str\n",
    "```\n",
    "\n",
    "**Step 3**\n",
    "On first glance any of the QA tasks seem to fulfill the requirements. However, here only the topic for the joke should be specified by the user and the request to tell a joke should be handled by the task itself. \n",
    "\n",
    "\n",
    "**Step 4**\n",
    "```python\n",
    "class TellAJokeTask(Task[TellAJokeTaskInput, TellAJokeTaskOutput]):\n",
    "    ...\n",
    "```"
   ]
  }
 ],
 "metadata": {
  "kernelspec": {
   "display_name": "Python 3 (ipykernel)",
   "language": "python",
   "name": "python3"
  },
  "language_info": {
   "codemirror_mode": {
    "name": "ipython",
    "version": 3
   },
   "file_extension": ".py",
   "mimetype": "text/x-python",
   "name": "python",
   "nbconvert_exporter": "python",
   "pygments_lexer": "ipython3",
   "version": "3.10.4"
  }
 },
 "nbformat": 4,
 "nbformat_minor": 2
}
