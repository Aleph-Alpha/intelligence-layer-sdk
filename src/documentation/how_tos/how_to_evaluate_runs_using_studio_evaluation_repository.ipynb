{
 "cells": [
  {
   "cell_type": "code",
   "execution_count": 1,
   "metadata": {},
   "outputs": [],
   "source": [
    "from pathlib import Path\n",
    "from fsspec.implementations.local import LocalFileSystem\n",
    "\n",
    "from example_data import DummyEvaluationLogic, example_data, DummyEvaluation\n",
    "\n",
    "from intelligence_layer.evaluation import Evaluator, StudioEvaluationRepository\n",
    "from intelligence_layer.evaluation.dataset.studio_dataset_repository import StudioDatasetRepository\n",
    "from intelligence_layer.connectors.data.data import DataClient"
   ]
  },
  {
   "cell_type": "markdown",
   "metadata": {},
   "source": [
    "# How to evaluate runs\n",
    "0. Run your tasks on the datasets where you want to evaluate them on (see [here](./how_to_run_a_task_on_a_dataset.ipynb))\n",
    "   - When evaluating multiple runs, all of them need the same data types \n",
    "2. Initialize all necessary repositories for the `Evaluator`, and an `EvaluationLogic`.\n",
    "3. Run the evaluator to evaluate all examples and create a single `EvaluationOverview`\n",
    "4. (Optional) Save the evaluation id for later use"
   ]
  },
  {
   "cell_type": "markdown",
   "metadata": {},
   "source": [
    "### Example"
   ]
  },
  {
   "cell_type": "code",
   "execution_count": 2,
   "metadata": {},
   "outputs": [
    {
     "name": "stderr",
     "output_type": "stream",
     "text": [
      "Evaluating: 2it [00:00, 31300.78it/s]"
     ]
    },
    {
     "name": "stderr",
     "output_type": "stream",
     "text": [
      "\n",
      "Evaluating: 2it [00:00, 28532.68it/s]\n"
     ]
    }
   ],
   "source": [
    "# Step 0\n",
    "\n",
    "my_example_data = example_data()\n",
    "run_ids = [my_example_data.run_overview_1.id, my_example_data.run_overview_2.id]\n",
    "\n",
    "\n",
    "# Step 1\n",
    "studio_dataset_repository = StudioDatasetRepository(\n",
    "    repository_id=\"<your_repository_id>\",\n",
    "    data_client=DataClient(token=\"<your_token>\", base_data_platform_url=\"http://localhost:8080\"),\n",
    ")\n",
    "dataset_repository = my_example_data.dataset_repository\n",
    "run_repository = my_example_data.run_repository\n",
    "evaluation_repository = StudioEvaluationRepository(\n",
    "    file_system=LocalFileSystem(True),\n",
    "    root_directory=Path(\"evals\"),\n",
    "    studio_dataset_repository=studio_dataset_repository,\n",
    "    evaluation_type=DummyEvaluation,\n",
    ")\n",
    "evaluation_logic = DummyEvaluationLogic()\n"
   ]
  },
  {
   "cell_type": "code",
   "execution_count": null,
   "metadata": {},
   "outputs": [],
   "source": [
    "\n",
    "# Step 3\n",
    "evaluator = Evaluator(\n",
    "    dataset_repository,\n",
    "    run_repository,\n",
    "    evaluation_repository,\n",
    "    \"My dummy evaluation\",\n",
    "    evaluation_logic,\n",
    ")\n",
    "\n",
    "evaluation_overview = evaluator.evaluate_runs(\n",
    "    *run_ids, labels=set({\"label\"}), metadata=dict({\"key\": \"value\"})\n",
    ")\n",
    "\n",
    "# Step 4\n",
    "print(evaluation_overview.id)\n",
    "print(evaluation_overview.metadata)\n",
    "print(evaluation_overview.labels)"
   ]
  }
 ],
 "metadata": {
  "kernelspec": {
   "display_name": "intelligence-layer-d3iSWYpm-py3.10",
   "language": "python",
   "name": "python3"
  },
  "language_info": {
   "codemirror_mode": {
    "name": "ipython",
    "version": 3
   },
   "file_extension": ".py",
   "mimetype": "text/x-python",
   "name": "python",
   "nbconvert_exporter": "python",
   "pygments_lexer": "ipython3",
   "version": "3.12.4"
  }
 },
 "nbformat": 4,
 "nbformat_minor": 2
}
