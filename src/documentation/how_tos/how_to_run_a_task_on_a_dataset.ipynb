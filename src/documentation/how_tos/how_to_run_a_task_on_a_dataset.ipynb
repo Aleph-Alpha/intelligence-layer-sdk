{
 "cells": [
  {
   "cell_type": "code",
   "execution_count": null,
   "metadata": {},
   "outputs": [],
   "source": [
    "from example_data import DummyTask, example_data\n",
    "\n",
    "from intelligence_layer.evaluation.run.in_memory_run_repository import (\n",
    "    InMemoryRunRepository,\n",
    ")\n",
    "from intelligence_layer.evaluation.run.runner import Runner"
   ]
  },
  {
   "cell_type": "markdown",
   "metadata": {},
   "source": [
    "# How to run a task on a dataset\n",
    "0. Create a suitable dataset (see [here](./how_to_create_a_dataset.ipynb)) and a task (see [here](./how_to_implement_a_task.ipynb)).\n",
    "1. Initialize the task and a `RunRepository`, and open the correct `DatasetRepository`\n",
    "    - The `DatasetRepository` needs to contain the dataset.\n",
    "    - The `RunRepository` stores results.\n",
    "2. Use the `Runner` to run the task on the given dataset via `run_dataset`\n",
    "3. Save the id of the resulting `RunOverview`\n",
    "\n",
    "### Example"
   ]
  },
  {
   "cell_type": "code",
   "execution_count": null,
   "metadata": {},
   "outputs": [],
   "source": [
    "# Step 0\n",
    "my_example_data = example_data()\n",
    "print()\n",
    "\n",
    "# Step 1\n",
    "dataset_repository = my_example_data.dataset_repository\n",
    "run_repository = InMemoryRunRepository()\n",
    "task = DummyTask()\n",
    "\n",
    "# Step 2\n",
    "runner = Runner(task, dataset_repository, run_repository, \"MyRunDescription\")\n",
    "run_overview = runner.run_dataset(my_example_data.dataset.id)\n",
    "\n",
    "# Step 3\n",
    "print(run_overview.id)"
   ]
  }
 ],
 "metadata": {
  "language_info": {
   "codemirror_mode": {
    "name": "ipython"
   },
   "file_extension": ".py",
   "mimetype": "text/x-python",
   "name": "python",
   "nbconvert_exporter": "python"
  }
 },
 "nbformat": 4,
 "nbformat_minor": 2
}
