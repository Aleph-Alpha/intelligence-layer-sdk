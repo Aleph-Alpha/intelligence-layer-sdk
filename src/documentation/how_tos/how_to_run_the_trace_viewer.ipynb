{
 "cells": [
  {
   "cell_type": "markdown",
   "metadata": {},
   "source": [
    "# How to use PhariaStudio for Debugging in a SaaS Configuration\n",
    "<div class=\"alert alert-info\">  \n",
    "\n",
    "Make sure your account has permissions to use the PhariaStudio application.\n",
    "\n",
    "For an on-prem or local installation, please contact the PhariaStudio team.\n",
    "</div>"
   ]
  },
  {
   "cell_type": "markdown",
   "metadata": {},
   "source": [
    "\n",
    "0. Generate a trace of your `Task` of interest.\n",
    "1. Initialize a `StudioClient` with a project.\n",
    "    - Use an existing project or create a new one with the `StudioClient.create_project` function.\n",
    "2. Submit your traces with the client\n",
    "    1. Submit a single trace via  `Tracer.export_for_viewing` and `StudioClient.submit_trace`\n",
    "    2. [Recommended] submit multiple traces via `StudioClient.submit_from_tracer`. \n",
    "\n",
    "### Example"
   ]
  },
  {
   "cell_type": "code",
   "execution_count": null,
   "metadata": {},
   "outputs": [],
   "source": [
    "from intelligence_layer.connectors.studio.studio import StudioClient\n",
    "from intelligence_layer.core.task import Task\n",
    "from intelligence_layer.core.tracer.in_memory_tracer import InMemoryTracer\n",
    "from intelligence_layer.core.tracer.tracer import TaskSpan\n",
    "\n",
    "# Step 0\n",
    "class DummyTask(Task[str, str]):\n",
    "    def do_run(self, input: str, task_span: TaskSpan) -> str:\n",
    "        return f\"{input} -> output\"\n",
    "\n",
    "tracer = InMemoryTracer()\n",
    "DummyTask().run('My Dummy Run', tracer=tracer)\n",
    "\n",
    "# Step 1\n",
    "studio_client = StudioClient(project='my_project')\n",
    "my_project = studio_client.create_project(project='my_project')\n",
    "\n",
    "# Step 2.1\n",
    "trace_to_submit = tracer.export_for_viewing()\n",
    "studio_client.submit_trace(trace_to_submit) # only works for single traces\n",
    "\n",
    "# Step 2.2\n",
    "DummyTask().run('My Dummy Run2', tracer=tracer)\n",
    "multiple_traces_to_submit = studio_client.submit_from_tracer(tracer)\n",
    "\n",
    "\n"
   ]
  }
 ],
 "metadata": {
  "language_info": {
   "name": "python"
  }
 },
 "nbformat": 4,
 "nbformat_minor": 2
}
