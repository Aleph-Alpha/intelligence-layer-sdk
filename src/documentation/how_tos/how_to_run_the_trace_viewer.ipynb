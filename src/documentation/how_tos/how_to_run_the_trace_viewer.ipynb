{
 "cells": [
  {
   "cell_type": "markdown",
   "metadata": {},
   "source": [
    "# How to use PhariaStudio for Debugging in a SaaS Configuration\n",
    "<div class=\"alert alert-info\">  \n",
    "\n",
    "Make sure your account has permissions to use the PhariaStudio application.\n",
    "\n",
    "For an on-prem or local installation, please contact the PhariaStudio team.\n",
    "</div>"
   ]
  },
  {
   "cell_type": "markdown",
   "metadata": {},
   "source": [
    "\n",
    "0. Generate a trace of your `Task` of interest.\n",
    "1. Initialize a `StudioClient` with a project.\n",
    "    - Use an existing project or create a new one with the `StudioClient.create_project` function.\n",
    "2. Submit your traces with the client\n",
    "    - submit a single trace via  `Tracer.export_for_viewing` and `StudioClient.submit_trace`\n",
    "    - [Recommended] submit multiple traces via `StudioClient.submit_from_tracer`. \n",
    "3. Click the link \n",
    "\n",
    "### Example"
   ]
  },
  {
   "cell_type": "markdown",
   "metadata": {},
   "source": []
  },
  {
   "cell_type": "code",
   "execution_count": null,
   "metadata": {
    "vscode": {
     "languageId": "plaintext"
    }
   },
   "outputs": [],
   "source": []
  }
 ],
 "metadata": {
  "language_info": {
   "name": "python"
  }
 },
 "nbformat": 4,
 "nbformat_minor": 2
}
