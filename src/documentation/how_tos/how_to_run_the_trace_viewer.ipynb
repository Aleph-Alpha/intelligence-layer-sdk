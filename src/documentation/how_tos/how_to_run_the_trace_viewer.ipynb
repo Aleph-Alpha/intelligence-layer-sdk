{
 "cells": [
  {
   "cell_type": "markdown",
   "metadata": {},
   "source": [
    "# Running the Trace Viewer\n",
    "\n",
    "Make sure you have your `GITHUB_TOKEN` env variable set to the value you used for installing the Intelligence Layer Python package.\n",
    "Also make sure and that it has the `read:packages` permission.\n",
    "\n",
    "Then login to the container registry with docker:\n",
    "\n",
    "```bash\n",
    "echo $GITHUB_TOKEN | docker login ghcr.io -u YOUR_GITHUB_USERNAME --password-stdin\n",
    "```\n",
    "\n",
    "Run the container locally to start the trace viewer:\n",
    "\n",
    "```bash\n",
    "docker run -p 3000:3000 ghcr.io/aleph-alpha/intelligence-layer-trace-viewer:latest\n",
    "```\n",
    "\n",
    "Finally, visit `http://localhost:3000`, where you can upload a trace to interact with the data."
   ]
  }
 ],
 "metadata": {
  "language_info": {
   "name": "python"
  }
 },
 "nbformat": 4,
 "nbformat_minor": 2
}
