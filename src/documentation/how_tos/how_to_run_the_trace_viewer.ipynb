{
 "cells": [
  {
   "cell_type": "markdown",
   "metadata": {},
   "source": [
    "# Running the Trace Viewer\n",
    "\n",
    "Make sure you have your access to the Jfrog instance at https://alephalpha.jfrog.io. \n",
    "Then login to the container registry with docker with your JFrog user name and a JFrog token as the password with the following command:\n",
    "\n",
    "```bash\n",
    "docker login alephalpha.jfrog.io\n",
    "```\n",
    "\n",
    "Note: If you do not already have a JFrog token, you can find it on the website under the \"Set me up\" option, either in the resource of interest or under your profile name.\n",
    "\n",
    "Afterwards, run the container locally to start the trace viewer:\n",
    "\n",
    "```bash\n",
    "docker run -p 3000:3000 alephalpha.jfrog.io/container-images/trace-viewer:latest\n",
    "```\n",
    "\n",
    "Finally, visit `http://localhost:3000`, where you can upload a trace to interact with the data."
   ]
  }
 ],
 "metadata": {
  "language_info": {
   "name": "python"
  }
 },
 "nbformat": 4,
 "nbformat_minor": 2
}
