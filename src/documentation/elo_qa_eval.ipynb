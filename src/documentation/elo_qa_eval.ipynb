{
 "cells": [
  {
   "cell_type": "markdown",
   "metadata": {},
   "source": [
    "# User Story for Calculating ELO Scores of QA Configurations for Ranking \n",
    "\n",
    "As a user of the Intelligence Layer (IL), I want to evaluate how well different configurations perform on a QA task with the given input data.\n",
    "A configuration is a combination of a model with a fixed set of parameters.\n",
    "In the following, we focus on comparing setups which differ only in the chosen model.\n",
    "\n",
    "We provide multiple inputs consisting of a longer texts and a questions related to each of those texts, as well as the expected answers.\n",
    "A Llama-model is used as a grader to decide which answer of two different models is better.\n",
    "The aggregation of all comparisons results in [ELO](https://en.wikipedia.org/wiki/Elo_rating_system) scores and win rates of the models.\n",
    "\n",
    "In this notebook, we go through the following steps: First, we create a set of examples of texts with a relevant question for each (Step 0), after which we use the models to generate answers (Step 1). The given answers are then compared against each other and judged by the Llama model (Step 2), which will result in a final ELO ranking and win rate (Step 3). Lastly, we include a new model in the evaluation without having to re-evaluate the previous models against each other, as is typically done in ELO rankings (Step 4).\n",
    "\n",
    "## Evaluating classification use-cases\n",
    "\n",
    "Before we can begin, we need to load the Aleph-Alpha access token from the environment and create the client."
   ]
  },
  {
   "cell_type": "code",
   "execution_count": null,
   "metadata": {},
   "outputs": [],
   "source": [
    "from os import getenv\n",
    "\n",
    "from aleph_alpha_client import Client\n",
    "from dotenv import load_dotenv\n",
    "\n",
    "from intelligence_layer.connectors import LimitedConcurrencyClient\n",
    "from intelligence_layer.core import Language, Llama3InstructModel, LuminousControlModel\n",
    "from intelligence_layer.evaluation import (\n",
    "    AggregatedEvaluation,\n",
    "    Aggregator,\n",
    "    Example,\n",
    "    IncrementalEvaluator,\n",
    "    InMemoryAggregationRepository,\n",
    "    InMemoryDatasetRepository,\n",
    "    InMemoryEvaluationRepository,\n",
    "    InMemoryRunRepository,\n",
    "    Matches,\n",
    "    MatchesAggregationLogic,\n",
    "    Runner,\n",
    ")\n",
    "from intelligence_layer.examples import (\n",
    "    EloQaEvaluationLogic,\n",
    "    SingleChunkQa,\n",
    "    SingleChunkQaInput,\n",
    "    SingleChunkQaOutput,\n",
    ")\n",
    "\n",
    "load_dotenv()\n",
    "\n",
    "aa_client = Client(getenv(\"AA_TOKEN\"))\n",
    "limited_concurrency_client = LimitedConcurrencyClient(aa_client)"
   ]
  },
  {
   "cell_type": "markdown",
   "metadata": {},
   "source": [
    "# Step 0 – Data set\n",
    "\n",
    "During the four steps of determining the ELO scores, we make use of the following four repositories for managing the intermediate data.\n",
    "\n",
    "First, we create and store an input dataset into a so-called `dataset_repository`.\n",
    "\n",
    "The IL will read the input dataset and produce outputs for each model, which will be stored in a `run_repository`.\n",
    "\n",
    "The result from the previous step can now be evaluated, in this case with an incremental evaluator (`IncrementalEvaluator`), with a QA specific ELO evaluation logic. The evaluation is stored in the `eval_repository`.\n",
    "\n",
    "Finally, the evaluations are aggregated and stored in the `aggregation_repository`. The aggregation contains the ELO score and winning rate of each model along with additional metadata."
   ]
  },
  {
   "cell_type": "code",
   "execution_count": null,
   "metadata": {},
   "outputs": [],
   "source": [
    "dataset_repository = InMemoryDatasetRepository()\n",
    "run_repository = InMemoryRunRepository()\n",
    "evaluation_repository = InMemoryEvaluationRepository()\n",
    "aggregation_repository = InMemoryAggregationRepository()"
   ]
  },
  {
   "cell_type": "markdown",
   "metadata": {},
   "source": [
    "Here, we fill the `dataset_repository` with two `Example`s. Each `Example` contains a text, a question regarding said text, as well as an expected answer.\n",
    "The newly created dataset in the repository has a unique id, which is stored in the `dataset_id` variable."
   ]
  },
  {
   "cell_type": "code",
   "execution_count": null,
   "metadata": {},
   "outputs": [],
   "source": [
    "qa_input_text_1 = \"\"\"Surface micromachining\n",
    "\n",
    "Surface micromachining builds microstructures by deposition and etching structural layers over a substrate.[1] This is different from Bulk micromachining, in which a silicon substrate wafer is selectively etched to produce structures.\n",
    "\n",
    "Layers\n",
    "\n",
    "Generally, polysilicon is used as one of the substrate layers while silicon dioxide is used as a sacrificial layer. The sacrificial layer is removed or etched out to create any necessary void in the thickness direction. Added layers tend to vary in size from 2-5 micrometres. The main advantage of this machining process is the ability to build electronic and mechanical components (functions) on the same substrate. Surface micro-machined components are smaller compared to their bulk micro-machined counterparts.\n",
    "\n",
    "As the structures are built on top of the substrate and not inside it, the substrate's properties are not as important as in bulk micro-machining. Expensive silicon wafers can be replaced by cheaper substrates, such as glass or plastic. The size of the substrates may be larger than a silicon wafer, and surface micro-machining is used to produce thin-film transistors on large area glass substrates for flat panel displays. This technology can also be used for the manufacture of thin film solar cells, which can be deposited on glass, polyethylene terepthalate substrates or other non-rigid materials.\n",
    "\n",
    "Fabrication process\n",
    "\n",
    "Micro-machining starts with a silicon wafer or other substrate upon which new layers are grown. These layers are selectively etched by photo-lithography; either a wet etch involving an acid, or a dry etch involving an ionized gas (or plasma). Dry etching can combine chemical etching with physical etching or ion bombardment. Surface micro-machining involves as many layers as are needed with a different mask (producing a different pattern) on each layer. Modern integrated circuit fabrication uses this technique and can use as many as 100 layers. Micro-machining is a younger technology and usually uses no more than 5 or 6 layers. Surface micro-machining uses developed technology (although sometimes not enough for demanding applications) which is easily repeatable for volume production.\"\"\"\n",
    "\n",
    "example_1 = Example(\n",
    "    input=SingleChunkQaInput(\n",
    "        chunk=qa_input_text_1,\n",
    "        question=\"What is micromachining?\",\n",
    "        language=Language(\"en\"),\n",
    "    ),\n",
    "    expected_output=\"Surface micromachining builds microstructures by deposition and etching structural layers over a substrate. This is different from Bulk micromachining, in which a silicon substrate wafer is selectively etched to produce structures.\",\n",
    ")\n",
    "\n",
    "qa_input_text_2 = \"\"\"\n",
    "Silicon is a chemical element; it has symbol Si and atomic number 14. It is a hard, brittle crystalline solid with a blue-grey metallic luster, and is a non metal and semiconductor. It is a member of group 14 in the periodic table: carbon is above it; and germanium, tin, lead, and flerovium are below it. It is relatively unreactive.\n",
    "\n",
    "Because of its high chemical affinity for oxygen, it was not until 1823 that Jöns Jakob Berzelius was first able to prepare it and characterize it in pure form. Its oxides form a family of anions known as silicates. Its melting and boiling points of 1414 °C and 3265 °C, respectively, are the second highest among all the metalloids and nonmetals, being surpassed only by boron.[a]\n",
    "\n",
    "Silicon is the eighth most common element in the universe by mass, but very rarely occurs as the pure element in the Earth's crust. It is widely distributed in space in cosmic dusts, planetoids, and planets as various forms of silicon dioxide (silica) or silicates. More than 90% of the Earth's crust is composed of silicate minerals, making silicon the second most abundant element in the Earth's crust (about 28% by mass), after oxygen.\n",
    "\"\"\"\n",
    "example_2 = Example(\n",
    "    input=SingleChunkQaInput(\n",
    "        chunk=qa_input_text_2, question=\"What is silicon?\", language=Language(\"en\")\n",
    "    ),\n",
    "    expected_output=\"Silicon is a chemical element.\",\n",
    ")\n",
    "\n",
    "examples = [example_1, example_2]"
   ]
  },
  {
   "cell_type": "code",
   "execution_count": null,
   "metadata": {},
   "outputs": [],
   "source": [
    "dataset_id = dataset_repository.create_dataset(\n",
    "    examples=examples, dataset_name=\"My-test-dataset\"\n",
    ").id"
   ]
  },
  {
   "cell_type": "code",
   "execution_count": null,
   "metadata": {},
   "outputs": [],
   "source": [
    "# ensure that we got a valid dataset ID\n",
    "assert len(dataset_id) > 0, f\"The dataset with ID {dataset_id} is empty\""
   ]
  },
  {
   "cell_type": "markdown",
   "metadata": {},
   "source": [
    "Now that we stored the examples into the `dataset_repository`, we can retrieve them by the `dataset_id`"
   ]
  },
  {
   "cell_type": "code",
   "execution_count": null,
   "metadata": {},
   "outputs": [],
   "source": [
    "for example in dataset_repository.examples(dataset_id, SingleChunkQaInput, str):\n",
    "    print(example)"
   ]
  },
  {
   "cell_type": "markdown",
   "metadata": {},
   "source": [
    "# Step 1 - Run Models\n",
    "\n",
    "Given a `dataset_repository` with examples, we can now generate the output of the models for all examples.\n",
    "First, we have to define which models we want to use. In this example, we use the _\"luminous-base-control\"_ model and the _\"luminous-supreme-control\"_ model.\n",
    " \n",
    "The previously created client is used to create a `Task` for each model. We use a `SingleChunkQa` task, meaning that in each task a model will give an answer to a question regarding a single chunk of text.\n",
    "These tasks are executed by a `Runner`, using the input dataset via the previously stored `dataset_id`.\n",
    "\n",
    "Tasks require a `run_repository` to store the output. The generated output is automatically stored when calling `run_dataset` on the `runners`. The output for each model will have a unique _\"run id\"_.\n",
    "In general, the output for each model consists of two parts. One part is a collection of example outputs. Each example outputs contains the `run_id`, `example_id`, and a field `output`. In this specific use-case, the `output` field contains the `answer` to the question. The other part is a _\"run overview\"_ with the run id stored as `id`, the `dataset_id`, and a description of the task, plus other metadata. "
   ]
  },
  {
   "cell_type": "code",
   "execution_count": null,
   "metadata": {},
   "outputs": [],
   "source": [
    "models = [\n",
    "    LuminousControlModel(name=\"luminous-base-control-20240215\", client=aa_client),\n",
    "    LuminousControlModel(name=\"luminous-supreme-control-20240215\", client=aa_client),\n",
    "]\n",
    "\n",
    "for model in models:\n",
    "    runner = Runner[SingleChunkQaInput, SingleChunkQaOutput](\n",
    "        task=SingleChunkQa(model=model),\n",
    "        dataset_repository=dataset_repository,\n",
    "        run_repository=run_repository,\n",
    "        description=f\"QA with model {model.name}\",\n",
    "    )\n",
    "    runner.run_dataset(dataset_id)"
   ]
  },
  {
   "cell_type": "code",
   "execution_count": null,
   "metadata": {},
   "outputs": [],
   "source": [
    "# ensure that all examples succeeded\n",
    "for run_overview in run_repository.run_overviews():\n",
    "    assert (\n",
    "        run_overview.failed_example_count == 0\n",
    "    ), f\"There are failed runs for run overview ID {run_overview.id}\""
   ]
  },
  {
   "cell_type": "markdown",
   "metadata": {},
   "source": [
    "The overviews and outputs can be retrieved via the unique run ids:"
   ]
  },
  {
   "cell_type": "code",
   "execution_count": null,
   "metadata": {},
   "outputs": [],
   "source": [
    "print(\n",
    "    f\"Run overview IDs saved in the run repository: {run_repository.run_overview_ids()}\\n\"\n",
    ")\n",
    "\n",
    "for run_overview in run_repository.run_overviews():\n",
    "    print(run_overview)\n",
    "    for example_output in run_repository.example_outputs(\n",
    "        run_overview.id, SingleChunkQaOutput\n",
    "    ):\n",
    "        print(example_output)"
   ]
  },
  {
   "cell_type": "markdown",
   "metadata": {},
   "source": [
    "# Step 2 – Run Evaluation\n",
    "\n",
    "Now that we have generated the answers of all models for all examples in the `dataset_repository`, the next step is to evaluate those answers.\n",
    "The evaluation is done by an `Evaluator`. In this notebook we choose an `IncrementalEvaluator` which has the capability to later add additional runs or models without repeating old comparisons, which will come in handy later.\n",
    "\n",
    "Since we are interested in the ELO score, we use an `EloEvaluationLogic` with our `Evaluator`. This logic compares two outputs against each other and chooses a winner. In order to deem which of the two options is \"better\" we need to provide a use case specific evaluation logic. In our QA case, this is the `EloQaEvaluationLogic`. We just need to tell the `EloQaEvaluationLogic` which \"referee model\" it should use to perform the comparison."
   ]
  },
  {
   "cell_type": "code",
   "execution_count": null,
   "metadata": {},
   "outputs": [],
   "source": [
    "# this should demonstrate that there are no stored evaluations yet in our repository\n",
    "print(f\"IDs of stored evaluations: {evaluation_repository.evaluation_overview_ids()}\")"
   ]
  },
  {
   "cell_type": "code",
   "execution_count": null,
   "metadata": {},
   "outputs": [],
   "source": [
    "elo_qa_evaluation_logic = EloQaEvaluationLogic(\n",
    "    model=Llama3InstructModel(name=\"llama-3.1-8b-instruct\")\n",
    ")\n",
    "\n",
    "evaluator = IncrementalEvaluator(\n",
    "    dataset_repository=dataset_repository,\n",
    "    run_repository=run_repository,\n",
    "    evaluation_repository=evaluation_repository,\n",
    "    description=\"ELO QA evaluation\",  # this description will be used later to query for specific evaluations\n",
    "    incremental_evaluation_logic=elo_qa_evaluation_logic,\n",
    ")"
   ]
  },
  {
   "cell_type": "code",
   "execution_count": null,
   "metadata": {},
   "outputs": [],
   "source": [
    "evaluation_overview = evaluator.evaluate_runs(*run_repository.run_overview_ids())"
   ]
  },
  {
   "cell_type": "code",
   "execution_count": null,
   "metadata": {},
   "outputs": [],
   "source": [
    "# check that the evaluation did not crash\n",
    "failed_evals = evaluation_repository.failed_example_evaluations(\n",
    "    evaluation_overview.id, Matches\n",
    ")\n",
    "assert (\n",
    "    len(failed_evals) == 0\n",
    "), f\"There are failed evaluations when there should not be:\\n {failed_evals}\"\n",
    "\n",
    "# ensure that for each example there are evaluated comparisons\n",
    "for example_evaluation in evaluation_repository.example_evaluations(\n",
    "    evaluation_overview.id, Matches\n",
    "):\n",
    "    assert isinstance(example_evaluation.result, Matches)\n",
    "    assert (\n",
    "        len(example_evaluation.result.comparison_evaluations) > 0\n",
    "    ), f\"There are no matches (comparisons) for example ID {example_evaluation.example_id}\""
   ]
  },
  {
   "cell_type": "markdown",
   "metadata": {},
   "source": [
    "The evaluation results can be retrieved via their unique ids:"
   ]
  },
  {
   "cell_type": "code",
   "execution_count": null,
   "metadata": {},
   "outputs": [],
   "source": [
    "for evaluation_overview in evaluation_repository.evaluation_overviews():\n",
    "    print(evaluation_overview)"
   ]
  },
  {
   "cell_type": "markdown",
   "metadata": {},
   "source": [
    "# Step 3 – Run Aggregation\n",
    "\n",
    "Finally, all individual evaluations are aggregated into metrics for each model - here, an ELO score and a win rate.\n",
    "The `MatchesAggregationLogic` defines how the evaluations should be aggregated for the ELO use case and can be customized."
   ]
  },
  {
   "cell_type": "code",
   "execution_count": null,
   "metadata": {},
   "outputs": [],
   "source": [
    "# this should demonstrate that there are no stored aggregated evaluations yet in our repository\n",
    "print(\n",
    "    f\"IDs of stored aggregated evaluations: {aggregation_repository.aggregation_overview_ids()}\"\n",
    ")"
   ]
  },
  {
   "cell_type": "code",
   "execution_count": null,
   "metadata": {},
   "outputs": [],
   "source": [
    "aggregator = Aggregator(\n",
    "    evaluation_repository=evaluation_repository,\n",
    "    aggregation_repository=aggregation_repository,\n",
    "    description=\"ELO QA aggregation\",\n",
    "    aggregation_logic=MatchesAggregationLogic(),\n",
    ")\n",
    "\n",
    "aggregated_evaluation = aggregator.aggregate_evaluation(evaluation_overview.id)"
   ]
  },
  {
   "cell_type": "code",
   "execution_count": null,
   "metadata": {},
   "outputs": [],
   "source": [
    "# ensure that there are no failed (aggregated) evaluations\n",
    "assert (\n",
    "    aggregated_evaluation.crashed_during_evaluation_count == 0\n",
    "), f\"There are crashed evaluations for aggregated evaluation ID {aggregated_evaluation.id}\"\n",
    "assert (\n",
    "    aggregated_evaluation.failed_evaluation_count == 0\n",
    "), f\"There are failed evaluations for aggregated evaluation ID {aggregated_evaluation.id}\"\n",
    "# ensure that the result contains ELO scores\n",
    "assert hasattr(\n",
    "    aggregated_evaluation.statistics, \"scores\"\n",
    "), f\"There are no scores for aggregated evaluation ID {aggregated_evaluation.id}\""
   ]
  },
  {
   "cell_type": "markdown",
   "metadata": {},
   "source": [
    "We can get an overview of each aggregation from the aggregation repository as follows. Note that we need to provide the type of the aggregation to enable the deserialization. The given `statistics` field of the evaluation result contains only the aggregated metrics for each model. "
   ]
  },
  {
   "cell_type": "code",
   "execution_count": null,
   "metadata": {},
   "outputs": [],
   "source": [
    "for aggregation_overview in aggregation_repository.aggregation_overviews(\n",
    "    AggregatedEvaluation\n",
    "):\n",
    "    print(aggregation_overview)"
   ]
  },
  {
   "cell_type": "markdown",
   "metadata": {},
   "source": [
    "# Step 4 - Addition of New Models\n",
    "\n",
    "Now let us consider the case where we want to add new models to our existing evaluation.\n",
    "Since the comparison of answers is rather time-consuming, we want to avoid recalculating the evaluation for the previous models, and just compare the new models to the old ones. This is why we used the `IncrementalEvaluator` to begin with.\n",
    "\n",
    "For this example, we first define the new models and generate their answers."
   ]
  },
  {
   "cell_type": "code",
   "execution_count": null,
   "metadata": {},
   "outputs": [],
   "source": [
    "newly_added_models = [\n",
    "    LuminousControlModel(name=\"luminous-base-control-20230501\", client=aa_client),\n",
    "    LuminousControlModel(name=\"luminous-supreme-control-20230501\", client=aa_client),\n",
    "]\n",
    "\n",
    "for model in newly_added_models:\n",
    "    runner = Runner[\n",
    "        SingleChunkQaInput, SingleChunkQaOutput\n",
    "    ](\n",
    "        task=SingleChunkQa(model),\n",
    "        dataset_repository=dataset_repository,\n",
    "        run_repository=run_repository,\n",
    "        description=f\"New QA with model {model.name}\",  # used to query for new runs only later in the code\n",
    "    )\n",
    "    runner.run_dataset(dataset_id)"
   ]
  },
  {
   "cell_type": "code",
   "execution_count": null,
   "metadata": {},
   "outputs": [],
   "source": [
    "# ensure that all examples succeeded\n",
    "for run_overview in run_repository.run_overviews():\n",
    "    assert (\n",
    "        run_overview.failed_example_count == 0\n",
    "    ), f\"There are failed runs for run overview ID {run_overview.id}\""
   ]
  },
  {
   "cell_type": "code",
   "execution_count": null,
   "metadata": {},
   "outputs": [],
   "source": [
    "for run_overview in run_repository.run_overviews():\n",
    "    # skip runs done for previous models\n",
    "    if not run_overview.description.startswith(\"New\"):\n",
    "        continue\n",
    "    # print runs for the added models\n",
    "    print(run_overview)"
   ]
  },
  {
   "cell_type": "markdown",
   "metadata": {},
   "source": [
    "Thanks to the `IncrementalEvaluator`, we can now easily extend our existing evaluation with the comparisons of new model runs against the previous runs, without re-running the previous comparisons. To this end, we use the same evaluator instance as for our first evaluation, but use the `evaluate_additional_runs` method, which takes a list of previous evaluation_overview IDs and uses them to filter the resulting comparisons. In this case, only comparisons of new pairings will be performed."
   ]
  },
  {
   "cell_type": "code",
   "execution_count": null,
   "metadata": {},
   "outputs": [],
   "source": [
    "new_evaluation_overview = evaluator.evaluate_additional_runs(\n",
    "    *run_repository.run_overview_ids(), previous_evaluation_ids=[evaluation_overview.id]\n",
    ")"
   ]
  },
  {
   "cell_type": "code",
   "execution_count": null,
   "metadata": {},
   "outputs": [],
   "source": [
    "# ensure that for each example there are evaluated comparisons\n",
    "for example_evaluation in evaluation_repository.example_evaluations(\n",
    "    new_evaluation_overview.id, Matches\n",
    "):\n",
    "    assert isinstance(example_evaluation.result, Matches)\n",
    "    assert (\n",
    "        len(example_evaluation.result.comparison_evaluations) > 0\n",
    "    ), f\"There are no matches (comparisons) for example ID {example_evaluation.example_id}\""
   ]
  },
  {
   "cell_type": "markdown",
   "metadata": {},
   "source": [
    "In addition to the previous `evaluation_overview`, we now also have the newly generated `new_evaluation_overview` which includes our new model.\n",
    "Finally, the aggregated evaluation of all models is calculated by passing in the evaluation ids of both evaluations into `aggregate_evaluation`. By doing so, the previously calculated ELO scores will be updated with the comparisons to the new models' answers."
   ]
  },
  {
   "cell_type": "code",
   "execution_count": null,
   "metadata": {},
   "outputs": [],
   "source": [
    "# get the IDs of all the evaluation overviews which we created for the QA task\n",
    "evaluation_overview_ids = [\n",
    "    evaluation_overview.id\n",
    "    for evaluation_overview in evaluation_repository.evaluation_overviews()\n",
    "    if evaluation_overview.description.find(\"QA\")\n",
    "]\n",
    "print(f\"Evaluation overviews to aggregate: {evaluation_overview_ids}\")"
   ]
  },
  {
   "cell_type": "code",
   "execution_count": null,
   "metadata": {},
   "outputs": [],
   "source": [
    "# run the aggregation\n",
    "aggregated_evaluation_with_new_model = aggregator.aggregate_evaluation(\n",
    "    *evaluation_overview_ids\n",
    ")"
   ]
  },
  {
   "cell_type": "code",
   "execution_count": null,
   "metadata": {},
   "outputs": [],
   "source": [
    "# ensure that there are no failed (aggregated) evaluations\n",
    "assert (\n",
    "    aggregated_evaluation_with_new_model.crashed_during_evaluation_count == 0\n",
    "), f\"There are crashed evaluations for aggregated evaluation ID {aggregated_evaluation.id}\"\n",
    "assert (\n",
    "    aggregated_evaluation_with_new_model.failed_evaluation_count == 0\n",
    "), f\"There are failed evaluations for aggregated evaluation ID {aggregated_evaluation.id}\"\n",
    "# ensure that we result contains ELO scores\n",
    "assert hasattr(\n",
    "    aggregated_evaluation_with_new_model.statistics, \"scores\"\n",
    "), f\"There are no scores for aggregated evaluation ID {aggregated_evaluation.id}\""
   ]
  },
  {
   "cell_type": "markdown",
   "metadata": {},
   "source": [
    "A look at the new aggregated evaluation shows that the runs of the new models have been added to the evaluation:"
   ]
  },
  {
   "cell_type": "code",
   "execution_count": null,
   "metadata": {},
   "outputs": [],
   "source": [
    "print(aggregated_evaluation_with_new_model)"
   ]
  }
 ],
 "metadata": {
  "kernelspec": {
   "display_name": "intelligence-layer-tfT-HG2V-py3.11",
   "language": "python",
   "name": "python3"
  },
  "language_info": {
   "codemirror_mode": {
    "name": "ipython",
    "version": 3
   },
   "file_extension": ".py",
   "mimetype": "text/x-python",
   "name": "python",
   "nbconvert_exporter": "python",
   "pygments_lexer": "ipython3",
   "version": "3.12.2"
  }
 },
 "nbformat": 4,
 "nbformat_minor": 2
}
