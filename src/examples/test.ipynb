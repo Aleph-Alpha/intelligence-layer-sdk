{
 "cells": [
  {
   "cell_type": "code",
   "execution_count": null,
   "metadata": {},
   "outputs": [],
   "source": [
    "import requests\n",
    "\n",
    "result = requests.post(\"http://localhost:5173/trace\", json={\"a\": 1, \"b\": 2})"
   ]
  },
  {
   "cell_type": "code",
   "execution_count": null,
   "metadata": {},
   "outputs": [],
   "source": [
    "import json\n",
    "import requests\n",
    "\n",
    "trace = json.loads(\n",
    "    '{\"entries\":[{\"entries\":[],\"name\":\"test\",\"start_timestamp\":\"2024-03-07T14:38:34.431530Z\",\"end_timestamp\":null,\"trace_id\":\"7287488b-07c4-4340-b475-e5d50300a8c1\",\"input\":\"input\",\"output\":null},{\"entries\":[],\"name\":\"test\",\"start_timestamp\":\"2024-03-07T14:38:43.064119Z\",\"end_timestamp\":null,\"trace_id\":\"a188d64a-a7d3-4b4b-8c73-245c09d1a511\",\"input\":\"input\",\"output\":null},{\"entries\":[],\"name\":\"test\",\"start_timestamp\":\"2024-03-07T14:38:52.839496Z\",\"end_timestamp\":null,\"trace_id\":\"08561a77-41b6-4f3d-a052-8b36269203cc\",\"input\":\"input\",\"output\":null}]}'\n",
    ")\n",
    "\n",
    "\n",
    "result = requests.post(\"http://localhost:5173/trace\", json=trace)"
   ]
  },
  {
   "cell_type": "code",
   "execution_count": null,
   "metadata": {},
   "outputs": [],
   "source": [
    "result.content"
   ]
  },
  {
   "cell_type": "code",
   "execution_count": null,
   "metadata": {},
   "outputs": [],
   "source": []
  }
 ],
 "metadata": {
  "kernelspec": {
   "display_name": "intelligence-layer-WXd7Z3vu-py3.11",
   "language": "python",
   "name": "python3"
  },
  "language_info": {
   "codemirror_mode": {
    "name": "ipython",
    "version": 3
   },
   "file_extension": ".py",
   "mimetype": "text/x-python",
   "name": "python",
   "nbconvert_exporter": "python",
   "pygments_lexer": "ipython3",
   "version": "3.11.4"
  }
 },
 "nbformat": 4,
 "nbformat_minor": 2
}
