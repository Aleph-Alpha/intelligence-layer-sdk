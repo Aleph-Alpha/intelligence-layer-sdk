{
 "cells": [
  {
   "cell_type": "code",
   "execution_count": null,
   "metadata": {},
   "outputs": [],
   "source": [
    "%load_ext autoreload\n",
    "%autoreload 2"
   ]
  },
  {
   "cell_type": "code",
   "execution_count": null,
   "metadata": {},
   "outputs": [],
   "source": [
    "import os\n",
    "\n",
    "from dotenv import load_dotenv\n",
    "import wandb\n",
    "\n",
    "from intelligence_layer.connectors import LimitedConcurrencyClient\n",
    "from intelligence_layer.evaluation import (\n",
    "    Evaluator,\n",
    "    InMemoryEvaluationRepository,\n",
    "    InMemoryRunRepository,\n",
    "    InMemoryDatasetRepository,\n",
    "    InMemoryAggregationRepository,\n",
    "    Runner,\n",
    "    Aggregator,\n",
    ")\n",
    "from intelligence_layer.evaluation.data_storage.run_repository import WandbRunRepository\n",
    "from intelligence_layer.use_cases import (\n",
    "    PromptBasedClassify,\n",
    "    SingleLabelClassifyEvaluationLogic,\n",
    "    SingleLabelClassifyAggregationLogic,\n",
    ")\n",
    "\n",
    "load_dotenv()\n",
    "\n",
    "task = PromptBasedClassify()\n",
    "dataset_repository = InMemoryDatasetRepository()\n",
    "run_repository = WandbRunRepository()\n",
    "wandb_project_name = \"test\"\n",
    "\n",
    "\n",
    "from intelligence_layer.core import Chunk, NoOpTracer\n",
    "from intelligence_layer.use_cases import ClassifyInput\n",
    "from intelligence_layer.evaluation import Example\n",
    "\n",
    "classify_input = ClassifyInput(\n",
    "    chunk=Chunk(\"This is good\"),\n",
    "    labels=frozenset({\"positive\", \"negative\"}),\n",
    ")\n",
    "\n",
    "single_example_dataset = dataset_repository.create_dataset(\n",
    "    examples=[Example(input=classify_input, expected_output=\"positive\")]\n",
    ")\n",
    "\n",
    "\n",
    "runner = Runner(task, dataset_repository, run_repository, \"Run-test\")\n",
    "\n",
    "run = wandb.init(project=wandb_project_name, job_type=\"Runner\", name=\"run-test\")\n",
    "\n",
    "#artifact = run.use_artifact(\"my-project/artifact:alias\")\n",
    "runner.run_dataset(single_example_dataset, NoOpTracer())\n",
    "\n",
    "run.finish()"
   ]
  },
  {
   "cell_type": "code",
   "execution_count": null,
   "metadata": {},
   "outputs": [],
   "source": []
  },
  {
   "cell_type": "code",
   "execution_count": null,
   "metadata": {},
   "outputs": [],
   "source": []
  }
 ],
 "metadata": {
  "kernelspec": {
   "display_name": "intelligence-layer-d3iSWYpm-py3.10",
   "language": "python",
   "name": "python3"
  },
  "language_info": {
   "codemirror_mode": {
    "name": "ipython",
    "version": 3
   },
   "file_extension": ".py",
   "mimetype": "text/x-python",
   "name": "python",
   "nbconvert_exporter": "python",
   "pygments_lexer": "ipython3",
   "version": "3.10.12"
  }
 },
 "nbformat": 4,
 "nbformat_minor": 2
}
