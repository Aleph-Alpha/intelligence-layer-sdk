{
 "cells": [
  {
   "cell_type": "markdown",
   "metadata": {},
   "source": [
    "# Classification\n",
    "\n",
    "Language models offer unprecedented capabilities in understanding and generating human-like text.\n",
    "One of the pressing issues in their application is the classification of vast amounts of data.\n",
    "Traditional methods often require manual labeling and can be time-consuming and prone to errors.\n",
    "LLMs, on the other hand, can swiftly process and categorize enormous datasets with minimal human intervention.\n",
    "By leveraging LLMs for classification tasks, organizations can unlock insights from their data more efficiently, streamline their workflows, and harness the full potential of their information assets.\n",
    "\n",
    "In this notebook, we present to alternative ways for classifying text using Aleph Alpha's Luminous models.\n",
    "First, let's have a look at single-label classification using prompting.\n",
    "\n",
    "### Prompt-based single-label classification\n",
    "\n",
    "Single-label classification refers to the task of categorizing data points into one of n distinct categories or classes.\n",
    "In this type of classification, each input is assigned to only one class, ensuring that no overlap exists between categories.\n",
    "Common applications of single-label classification include email spam detection, where emails are classified as either \"spam\" or \"not spam\", or sentiment classification, where a text can be \"positive\", \"negative\" or \"neutral\".\n",
    "When trying to solve this issue in a prompt-based manner, our primary goal is to construct a prompt that instructs the model to accurately predict the correct class for any given input.\n",
    "\n",
    "### When should you use prompt-based classification?\n",
    "\n",
    "We recommend using this type of classification when...\n",
    "- ...the labels are easily understood (they don't require explanation or examples).\n",
    "- ...the labels cannot be recognized purely by their semantic meaning.\n",
    "- ...many examples for each label aren't readily available.\n",
    "\n",
    "### Example snippet\n",
    "\n",
    "Running the following code will instantiate a `PromptBasedClassify` that leverages a prompt for classification.\n",
    "We can now enter any `ClassifyInput` so that the task returns each label along with its probability.\n",
    "In addition, note the `tracer`, which will give a comprehensive overview of the result.\n"
   ]
  },
  {
   "cell_type": "code",
   "execution_count": 3,
   "metadata": {},
   "outputs": [
    {
     "name": "stdout",
     "output_type": "stream",
     "text": [
      "[InMemoryTaskSpan(entries=[InMemorySpan(entries=[InMemoryTaskSpan(entries=[InMemoryTaskSpan(entries=[], name='Complete', start_timestamp=datetime.datetime(2023, 11, 23, 15, 2, 34, 226949), end_timestamp=datetime.datetime(2023, 11, 23, 15, 2, 34, 311750), input=CompleteInput(request=CompletionRequest(prompt=Prompt(items=[Text(text='### Instruction:\\nIdentify a class that describes the text adequately.\\nReply with only the class label.\\n\\n### Input:\\nIn the distant future, a space exploration party embarked on a thrilling journey to the uncharted regions of the galaxy. \\nWith excitement in their hearts and the cosmos as their canvas, they ventured into the unknown, discovering breathtaking celestial wonders. \\nAs they gazed upon distant stars and nebulas, they forged unforgettable memories that would forever bind them as pioneers of the cosmos.\\n\\n### Response:', controls=[]), Tokens(tokens=[10117, 0], controls=[])]), maximum_tokens=0, temperature=0.0, top_k=0, top_p=0.0, presence_penalty=0.0, frequency_penalty=0.0, repetition_penalties_include_prompt=False, use_multiplicative_presence_penalty=False, penalty_bias=None, penalty_exceptions=None, penalty_exceptions_include_stop_sequences=None, best_of=None, n=1, logit_bias=None, log_probs=0, stop_sequences=None, tokens=True, disable_optimizations=False, minimum_tokens=0, echo=True, use_multiplicative_frequency_penalty=False, sequence_penalty=0.0, sequence_penalty_min_length=2, use_multiplicative_sequence_penalty=False, completion_bias_inclusion=None, completion_bias_inclusion_first_token_only=False, completion_bias_exclusion=None, completion_bias_exclusion_first_token_only=False, contextual_control_threshold=None, control_log_additive=True, repetition_penalties_include_completion=True, raw_completion=False), model='luminous-base-control'), output=CompleteOutput(response=CompletionResponse(model_version='2023-05', completions=[CompletionResult(log_probs=[{}, {'##': -12.929072}, {' Ins': -12.70949}, {'truction': -7.3491907}, {':': -0.98341286}, {'\\n': -8.9418}, {'Iden': -9.596436}, {'tify': -0.120634794}, {' a': -2.5162208}, {' class': -8.431898}, {' that': -2.1235962}, {' describes': -5.332705}, {' the': -1.0441067}, {' text': -7.947999}, {' adequately': -18.520462}, {'.': -0.0085005835}, {'\\n': -2.5954568}, {'Reply': -12.820669}, {' with': -9.742004}, {' only': -12.171108}, {' the': -0.67877173}, {' class': -0.9918394}, {' label': -8.507444}, {'.': -0.1834322}, {'\\n': -3.0496347}, {'\\n': -1.1163208}, {'##': -11.077049}, {'#': -8.847927}, {' Input': -8.843781}, {':': -1.5143658}, {'\\n': -5.829698}, {'In': -5.607432}, {' the': -0.73792654}, {' distant': -7.2780657}, {' future': -2.8152635}, {',': -0.0005395149}, {' a': -2.6690955}, {' space': -4.8150616}, {' exploration': -3.0297472}, {' party': -7.460091}, {' embar': -8.760582}, {'ked': -3.7768018}, {' on': -0.06565252}, {' a': -0.08700999}, {' thrilling': -9.296879}, {' journey': -0.1881662}, {' to': -0.53011674}, {' the': -1.9800382}, {' un': -8.992498}, {'char': -0.00017605662}, {'ted': -0.0086153485}, {' regions': -4.347113}, {' of': -0.0037189624}, {' the': -1.7034352}, {' galaxy': -0.9938128}, {'.': -0.0071110018}, {' ': -10.807108}, {'\\n': -0.00031811898}, {'With': -7.702553}, {' excitement': -6.4614453}, {' in': -4.442887}, {' their': -0.0013134195}, {' hearts': -0.0034307926}, {' and': -1.9129869}, {' the': -2.755248}, {' cosmos': -5.985958}, {' as': -2.7473934}, {' their': -0.00019345796}, {' canvas': -5.783127}, {',': -5.125868e-05}, {' they': -0.131105}, {' vent': -4.08521}, {'ured': -3.576278e-07}, {' into': -0.63110065}, {' the': -0.93874407}, {' unknown': -0.018585933}, {',': -1.0106134}, {' discovering': -3.2462125}, {' breathtaking': -4.7715254}, {' celestial': -9.013781}, {' wonders': -1.6732013}, {'.': -3.5507379}, {' ': -2.3083339}, {'\\n': -1.3232144e-05}, {'As': -1.6101662}, {' they': -0.32358423}, {' gaz': -3.7024875}, {'ed': -1.072883e-06}, {' upon': -0.4249526}, {' distant': -3.9016166}, {' stars': -2.9821956}, {' and': -0.47581768}, {' neb': -3.1331387}, {'ulas': -2.3519933}, {',': -0.021511218}, {' they': -0.20311086}, {' for': -8.810329}, {'ged': -0.0057481704}, {' unforgettable': -6.83219}, {' memories': -0.05615538}, {' that': -0.9824568}, {' would': -0.07577457}, {' forever': -3.5344446}, {' bind': -4.351788}, {' them': -0.008171223}, {' as': -5.0785832}, {' pione': -2.886833}, {'ers': -2.3841855e-07}, {' of': -0.22180675}, {' the': -0.66836685}, {' cosmos': -3.0072918}, {'.': -0.00050663034}, {'\\n': -4.5204706}, {'\\n': -1.3894156}, {'##': -11.060791}, {'#': -7.752856}, {' Response': -15.016751}, {':': -7.4097357}, {' happy': -16.924015}, {'<|endoftext|>': -0.02792891}], completion=' ### Instruction:\\nIdentify a class that describes the text adequately.\\nReply with only the class label.\\n\\n### Input:\\nIn the distant future, a space exploration party embarked on a thrilling journey to the uncharted regions of the galaxy. \\nWith excitement in their hearts and the cosmos as their canvas, they ventured into the unknown, discovering breathtaking celestial wonders. \\nAs they gazed upon distant stars and nebulas, they forged unforgettable memories that would forever bind them as pioneers of the cosmos.\\n\\n### Response: happy', completion_tokens=[' #', '##', ' Ins', 'truction', ':', '\\n', 'Iden', 'tify', ' a', ' class', ' that', ' describes', ' the', ' text', ' adequately', '.', '\\n', 'Reply', ' with', ' only', ' the', ' class', ' label', '.', '\\n', '\\n', '##', '#', ' Input', ':', '\\n', 'In', ' the', ' distant', ' future', ',', ' a', ' space', ' exploration', ' party', ' embar', 'ked', ' on', ' a', ' thrilling', ' journey', ' to', ' the', ' un', 'char', 'ted', ' regions', ' of', ' the', ' galaxy', '.', ' ', '\\n', 'With', ' excitement', ' in', ' their', ' hearts', ' and', ' the', ' cosmos', ' as', ' their', ' canvas', ',', ' they', ' vent', 'ured', ' into', ' the', ' unknown', ',', ' discovering', ' breathtaking', ' celestial', ' wonders', '.', ' ', '\\n', 'As', ' they', ' gaz', 'ed', ' upon', ' distant', ' stars', ' and', ' neb', 'ulas', ',', ' they', ' for', 'ged', ' unforgettable', ' memories', ' that', ' would', ' forever', ' bind', ' them', ' as', ' pione', 'ers', ' of', ' the', ' cosmos', '.', '\\n', '\\n', '##', '#', ' Response', ':', ' happy', '<|endoftext|>'], finish_reason='maximum_tokens', raw_completion=None)], optimized_prompt=None)))], name='EchoTask', start_timestamp=datetime.datetime(2023, 11, 23, 15, 2, 31, 387812), end_timestamp=datetime.datetime(2023, 11, 23, 15, 2, 34, 311783), input=EchoInput(prompt=Prompt(items=[Text(text='### Instruction:\\nIdentify a class that describes the text adequately.\\nReply with only the class label.\\n\\n### Input:\\nIn the distant future, a space exploration party embarked on a thrilling journey to the uncharted regions of the galaxy. \\nWith excitement in their hearts and the cosmos as their canvas, they ventured into the unknown, discovering breathtaking celestial wonders. \\nAs they gazed upon distant stars and nebulas, they forged unforgettable memories that would forever bind them as pioneers of the cosmos.\\n\\n### Response:', controls=[])]), expected_completion=' happy<|endoftext|>', model='luminous-base-control'), output=None), InMemoryTaskSpan(entries=[InMemoryTaskSpan(entries=[], name='Complete', start_timestamp=datetime.datetime(2023, 11, 23, 15, 2, 33, 137431), end_timestamp=datetime.datetime(2023, 11, 23, 15, 2, 33, 229454), input=CompleteInput(request=CompletionRequest(prompt=Prompt(items=[Text(text='### Instruction:\\nIdentify a class that describes the text adequately.\\nReply with only the class label.\\n\\n### Input:\\nIn the distant future, a space exploration party embarked on a thrilling journey to the uncharted regions of the galaxy. \\nWith excitement in their hearts and the cosmos as their canvas, they ventured into the unknown, discovering breathtaking celestial wonders. \\nAs they gazed upon distant stars and nebulas, they forged unforgettable memories that would forever bind them as pioneers of the cosmos.\\n\\n### Response:', controls=[]), Tokens(tokens=[19632, 0], controls=[])]), maximum_tokens=0, temperature=0.0, top_k=0, top_p=0.0, presence_penalty=0.0, frequency_penalty=0.0, repetition_penalties_include_prompt=False, use_multiplicative_presence_penalty=False, penalty_bias=None, penalty_exceptions=None, penalty_exceptions_include_stop_sequences=None, best_of=None, n=1, logit_bias=None, log_probs=0, stop_sequences=None, tokens=True, disable_optimizations=False, minimum_tokens=0, echo=True, use_multiplicative_frequency_penalty=False, sequence_penalty=0.0, sequence_penalty_min_length=2, use_multiplicative_sequence_penalty=False, completion_bias_inclusion=None, completion_bias_inclusion_first_token_only=False, completion_bias_exclusion=None, completion_bias_exclusion_first_token_only=False, contextual_control_threshold=None, control_log_additive=True, repetition_penalties_include_completion=True, raw_completion=False), model='luminous-base-control'), output=CompleteOutput(response=CompletionResponse(model_version='2023-05', completions=[CompletionResult(log_probs=[{}, {'##': -12.929072}, {' Ins': -12.70949}, {'truction': -7.3491907}, {':': -0.98341286}, {'\\n': -8.9418}, {'Iden': -9.596436}, {'tify': -0.120634794}, {' a': -2.5162208}, {' class': -8.431898}, {' that': -2.1235962}, {' describes': -5.332705}, {' the': -1.0441067}, {' text': -7.947999}, {' adequately': -18.520462}, {'.': -0.0085005835}, {'\\n': -2.5954568}, {'Reply': -12.820669}, {' with': -9.742004}, {' only': -12.171108}, {' the': -0.67877173}, {' class': -0.9918394}, {' label': -8.507444}, {'.': -0.1834322}, {'\\n': -3.0496347}, {'\\n': -1.1163208}, {'##': -11.077049}, {'#': -8.847927}, {' Input': -8.843781}, {':': -1.5143658}, {'\\n': -5.829698}, {'In': -5.607432}, {' the': -0.73792654}, {' distant': -7.2780657}, {' future': -2.8152635}, {',': -0.0005395149}, {' a': -2.6690955}, {' space': -4.8150616}, {' exploration': -3.0297472}, {' party': -7.460091}, {' embar': -8.760582}, {'ked': -3.7768018}, {' on': -0.06565252}, {' a': -0.08700999}, {' thrilling': -9.296879}, {' journey': -0.1881662}, {' to': -0.53011674}, {' the': -1.9800382}, {' un': -8.992498}, {'char': -0.00017605662}, {'ted': -0.0086153485}, {' regions': -4.347113}, {' of': -0.0037189624}, {' the': -1.7034352}, {' galaxy': -0.9938128}, {'.': -0.0071110018}, {' ': -10.807108}, {'\\n': -0.00031811898}, {'With': -7.702553}, {' excitement': -6.4614453}, {' in': -4.442887}, {' their': -0.0013134195}, {' hearts': -0.0034307926}, {' and': -1.9129869}, {' the': -2.755248}, {' cosmos': -5.985958}, {' as': -2.7473934}, {' their': -0.00019345796}, {' canvas': -5.783127}, {',': -5.125868e-05}, {' they': -0.131105}, {' vent': -4.08521}, {'ured': -3.576278e-07}, {' into': -0.63110065}, {' the': -0.93874407}, {' unknown': -0.018585933}, {',': -1.0106134}, {' discovering': -3.2462125}, {' breathtaking': -4.7715254}, {' celestial': -9.013781}, {' wonders': -1.6732013}, {'.': -3.5507379}, {' ': -2.3083339}, {'\\n': -1.3232144e-05}, {'As': -1.6101662}, {' they': -0.32358423}, {' gaz': -3.7024875}, {'ed': -1.072883e-06}, {' upon': -0.4249526}, {' distant': -3.9016166}, {' stars': -2.9821956}, {' and': -0.47581768}, {' neb': -3.1331387}, {'ulas': -2.3519933}, {',': -0.021511218}, {' they': -0.20311086}, {' for': -8.810329}, {'ged': -0.0057481704}, {' unforgettable': -6.83219}, {' memories': -0.05615538}, {' that': -0.9824568}, {' would': -0.07577457}, {' forever': -3.5344446}, {' bind': -4.351788}, {' them': -0.008171223}, {' as': -5.0785832}, {' pione': -2.886833}, {'ers': -2.3841855e-07}, {' of': -0.22180675}, {' the': -0.66836685}, {' cosmos': -3.0072918}, {'.': -0.00050663034}, {'\\n': -4.5204706}, {'\\n': -1.3894156}, {'##': -11.060791}, {'#': -7.752856}, {' Response': -15.016751}, {':': -7.4097357}, {' sad': -17.541203}, {'<|endoftext|>': -0.028770756}], completion=' ### Instruction:\\nIdentify a class that describes the text adequately.\\nReply with only the class label.\\n\\n### Input:\\nIn the distant future, a space exploration party embarked on a thrilling journey to the uncharted regions of the galaxy. \\nWith excitement in their hearts and the cosmos as their canvas, they ventured into the unknown, discovering breathtaking celestial wonders. \\nAs they gazed upon distant stars and nebulas, they forged unforgettable memories that would forever bind them as pioneers of the cosmos.\\n\\n### Response: sad', completion_tokens=[' #', '##', ' Ins', 'truction', ':', '\\n', 'Iden', 'tify', ' a', ' class', ' that', ' describes', ' the', ' text', ' adequately', '.', '\\n', 'Reply', ' with', ' only', ' the', ' class', ' label', '.', '\\n', '\\n', '##', '#', ' Input', ':', '\\n', 'In', ' the', ' distant', ' future', ',', ' a', ' space', ' exploration', ' party', ' embar', 'ked', ' on', ' a', ' thrilling', ' journey', ' to', ' the', ' un', 'char', 'ted', ' regions', ' of', ' the', ' galaxy', '.', ' ', '\\n', 'With', ' excitement', ' in', ' their', ' hearts', ' and', ' the', ' cosmos', ' as', ' their', ' canvas', ',', ' they', ' vent', 'ured', ' into', ' the', ' unknown', ',', ' discovering', ' breathtaking', ' celestial', ' wonders', '.', ' ', '\\n', 'As', ' they', ' gaz', 'ed', ' upon', ' distant', ' stars', ' and', ' neb', 'ulas', ',', ' they', ' for', 'ged', ' unforgettable', ' memories', ' that', ' would', ' forever', ' bind', ' them', ' as', ' pione', 'ers', ' of', ' the', ' cosmos', '.', '\\n', '\\n', '##', '#', ' Response', ':', ' sad', '<|endoftext|>'], finish_reason='maximum_tokens', raw_completion=None)], optimized_prompt=None)))], name='EchoTask', start_timestamp=datetime.datetime(2023, 11, 23, 15, 2, 31, 389890), end_timestamp=datetime.datetime(2023, 11, 23, 15, 2, 33, 229478), input=EchoInput(prompt=Prompt(items=[Text(text='### Instruction:\\nIdentify a class that describes the text adequately.\\nReply with only the class label.\\n\\n### Input:\\nIn the distant future, a space exploration party embarked on a thrilling journey to the uncharted regions of the galaxy. \\nWith excitement in their hearts and the cosmos as their canvas, they ventured into the unknown, discovering breathtaking celestial wonders. \\nAs they gazed upon distant stars and nebulas, they forged unforgettable memories that would forever bind them as pioneers of the cosmos.\\n\\n### Response:', controls=[])]), expected_completion=' sad<|endoftext|>', model='luminous-base-control'), output=None), InMemoryTaskSpan(entries=[InMemoryTaskSpan(entries=[], name='Complete', start_timestamp=datetime.datetime(2023, 11, 23, 15, 2, 33, 838419), end_timestamp=datetime.datetime(2023, 11, 23, 15, 2, 33, 931723), input=CompleteInput(request=CompletionRequest(prompt=Prompt(items=[Text(text='### Instruction:\\nIdentify a class that describes the text adequately.\\nReply with only the class label.\\n\\n### Input:\\nIn the distant future, a space exploration party embarked on a thrilling journey to the uncharted regions of the galaxy. \\nWith excitement in their hearts and the cosmos as their canvas, they ventured into the unknown, discovering breathtaking celestial wonders. \\nAs they gazed upon distant stars and nebulas, they forged unforgettable memories that would forever bind them as pioneers of the cosmos.\\n\\n### Response:', controls=[]), Tokens(tokens=[41503, 0], controls=[])]), maximum_tokens=0, temperature=0.0, top_k=0, top_p=0.0, presence_penalty=0.0, frequency_penalty=0.0, repetition_penalties_include_prompt=False, use_multiplicative_presence_penalty=False, penalty_bias=None, penalty_exceptions=None, penalty_exceptions_include_stop_sequences=None, best_of=None, n=1, logit_bias=None, log_probs=0, stop_sequences=None, tokens=True, disable_optimizations=False, minimum_tokens=0, echo=True, use_multiplicative_frequency_penalty=False, sequence_penalty=0.0, sequence_penalty_min_length=2, use_multiplicative_sequence_penalty=False, completion_bias_inclusion=None, completion_bias_inclusion_first_token_only=False, completion_bias_exclusion=None, completion_bias_exclusion_first_token_only=False, contextual_control_threshold=None, control_log_additive=True, repetition_penalties_include_completion=True, raw_completion=False), model='luminous-base-control'), output=CompleteOutput(response=CompletionResponse(model_version='2023-05', completions=[CompletionResult(log_probs=[{}, {'##': -12.929072}, {' Ins': -12.70949}, {'truction': -7.3491907}, {':': -0.98341286}, {'\\n': -8.9418}, {'Iden': -9.596436}, {'tify': -0.120634794}, {' a': -2.5162208}, {' class': -8.431898}, {' that': -2.1235962}, {' describes': -5.332705}, {' the': -1.0441067}, {' text': -7.947999}, {' adequately': -18.520462}, {'.': -0.0085005835}, {'\\n': -2.5954568}, {'Reply': -12.820669}, {' with': -9.742004}, {' only': -12.171108}, {' the': -0.67877173}, {' class': -0.9918394}, {' label': -8.507444}, {'.': -0.1834322}, {'\\n': -3.0496347}, {'\\n': -1.1163208}, {'##': -11.077049}, {'#': -8.847927}, {' Input': -8.843781}, {':': -1.5143658}, {'\\n': -5.829698}, {'In': -5.607432}, {' the': -0.73792654}, {' distant': -7.2780657}, {' future': -2.8152635}, {',': -0.0005395149}, {' a': -2.6690955}, {' space': -4.8150616}, {' exploration': -3.0297472}, {' party': -7.460091}, {' embar': -8.760582}, {'ked': -3.7768018}, {' on': -0.06565252}, {' a': -0.08700999}, {' thrilling': -9.296879}, {' journey': -0.1881662}, {' to': -0.53011674}, {' the': -1.9800382}, {' un': -8.992498}, {'char': -0.00017605662}, {'ted': -0.0086153485}, {' regions': -4.347113}, {' of': -0.0037189624}, {' the': -1.7034352}, {' galaxy': -0.9938128}, {'.': -0.0071110018}, {' ': -10.807108}, {'\\n': -0.00031811898}, {'With': -7.702553}, {' excitement': -6.4614453}, {' in': -4.442887}, {' their': -0.0013134195}, {' hearts': -0.0034307926}, {' and': -1.9129869}, {' the': -2.755248}, {' cosmos': -5.985958}, {' as': -2.7473934}, {' their': -0.00019345796}, {' canvas': -5.783127}, {',': -5.125868e-05}, {' they': -0.131105}, {' vent': -4.08521}, {'ured': -3.576278e-07}, {' into': -0.63110065}, {' the': -0.93874407}, {' unknown': -0.018585933}, {',': -1.0106134}, {' discovering': -3.2462125}, {' breathtaking': -4.7715254}, {' celestial': -9.013781}, {' wonders': -1.6732013}, {'.': -3.5507379}, {' ': -2.3083339}, {'\\n': -1.3232144e-05}, {'As': -1.6101662}, {' they': -0.32358423}, {' gaz': -3.7024875}, {'ed': -1.072883e-06}, {' upon': -0.4249526}, {' distant': -3.9016166}, {' stars': -2.9821956}, {' and': -0.47581768}, {' neb': -3.1331387}, {'ulas': -2.3519933}, {',': -0.021511218}, {' they': -0.20311086}, {' for': -8.810329}, {'ged': -0.0057481704}, {' unforgettable': -6.83219}, {' memories': -0.05615538}, {' that': -0.9824568}, {' would': -0.07577457}, {' forever': -3.5344446}, {' bind': -4.351788}, {' them': -0.008171223}, {' as': -5.0785832}, {' pione': -2.886833}, {'ers': -2.3841855e-07}, {' of': -0.22180675}, {' the': -0.66836685}, {' cosmos': -3.0072918}, {'.': -0.00050663034}, {'\\n': -4.5204706}, {'\\n': -1.3894156}, {'##': -11.060791}, {'#': -7.752856}, {' Response': -15.016751}, {':': -7.4097357}, {' angry': -21.830265}, {'<|endoftext|>': -0.30035385}], completion=' ### Instruction:\\nIdentify a class that describes the text adequately.\\nReply with only the class label.\\n\\n### Input:\\nIn the distant future, a space exploration party embarked on a thrilling journey to the uncharted regions of the galaxy. \\nWith excitement in their hearts and the cosmos as their canvas, they ventured into the unknown, discovering breathtaking celestial wonders. \\nAs they gazed upon distant stars and nebulas, they forged unforgettable memories that would forever bind them as pioneers of the cosmos.\\n\\n### Response: angry', completion_tokens=[' #', '##', ' Ins', 'truction', ':', '\\n', 'Iden', 'tify', ' a', ' class', ' that', ' describes', ' the', ' text', ' adequately', '.', '\\n', 'Reply', ' with', ' only', ' the', ' class', ' label', '.', '\\n', '\\n', '##', '#', ' Input', ':', '\\n', 'In', ' the', ' distant', ' future', ',', ' a', ' space', ' exploration', ' party', ' embar', 'ked', ' on', ' a', ' thrilling', ' journey', ' to', ' the', ' un', 'char', 'ted', ' regions', ' of', ' the', ' galaxy', '.', ' ', '\\n', 'With', ' excitement', ' in', ' their', ' hearts', ' and', ' the', ' cosmos', ' as', ' their', ' canvas', ',', ' they', ' vent', 'ured', ' into', ' the', ' unknown', ',', ' discovering', ' breathtaking', ' celestial', ' wonders', '.', ' ', '\\n', 'As', ' they', ' gaz', 'ed', ' upon', ' distant', ' stars', ' and', ' neb', 'ulas', ',', ' they', ' for', 'ged', ' unforgettable', ' memories', ' that', ' would', ' forever', ' bind', ' them', ' as', ' pione', 'ers', ' of', ' the', ' cosmos', '.', '\\n', '\\n', '##', '#', ' Response', ':', ' angry', '<|endoftext|>'], finish_reason='maximum_tokens', raw_completion=None)], optimized_prompt=None)))], name='EchoTask', start_timestamp=datetime.datetime(2023, 11, 23, 15, 2, 31, 391968), end_timestamp=datetime.datetime(2023, 11, 23, 15, 2, 33, 931762), input=EchoInput(prompt=Prompt(items=[Text(text='### Instruction:\\nIdentify a class that describes the text adequately.\\nReply with only the class label.\\n\\n### Input:\\nIn the distant future, a space exploration party embarked on a thrilling journey to the uncharted regions of the galaxy. \\nWith excitement in their hearts and the cosmos as their canvas, they ventured into the unknown, discovering breathtaking celestial wonders. \\nAs they gazed upon distant stars and nebulas, they forged unforgettable memories that would forever bind them as pioneers of the cosmos.\\n\\n### Response:', controls=[])]), expected_completion=' angry<|endoftext|>', model='luminous-base-control'), output=None)], name='Concurrent EchoTask tasks', start_timestamp=datetime.datetime(2023, 11, 23, 15, 2, 31, 387530), end_timestamp=datetime.datetime(2023, 11, 23, 15, 2, 34, 313084))], name='PromptBasedClassify', start_timestamp=datetime.datetime(2023, 11, 23, 15, 2, 31, 387267), end_timestamp=datetime.datetime(2023, 11, 23, 15, 2, 34, 313126), input=ClassifyInput(chunk='In the distant future, a space exploration party embarked on a thrilling journey to the uncharted regions of the galaxy. \\nWith excitement in their hearts and the cosmos as their canvas, they ventured into the unknown, discovering breathtaking celestial wonders. \\nAs they gazed upon distant stars and nebulas, they forged unforgettable memories that would forever bind them as pioneers of the cosmos.', labels=frozenset({'happy', 'sad', 'angry'})), output=None)]\n"
     ]
    },
    {
     "ename": "NameError",
     "evalue": "name 'output' is not defined",
     "output_type": "error",
     "traceback": [
      "\u001b[0;31m---------------------------------------------------------------------------\u001b[0m",
      "\u001b[0;31mNameError\u001b[0m                                 Traceback (most recent call last)",
      "\u001b[1;32m/home/rutgercap/repos/intelligence-layer/src/examples/classification.ipynb Cell 2\u001b[0m line \u001b[0;36m2\n\u001b[1;32m     <a href='vscode-notebook-cell://wsl%2Bubuntu/home/rutgercap/repos/intelligence-layer/src/examples/classification.ipynb#W1sdnNjb2RlLXJlbW90ZQ%3D%3D?line=22'>23</a>\u001b[0m     \u001b[39mprint\u001b[39m(tracer\u001b[39m.\u001b[39mentries)\n\u001b[1;32m     <a href='vscode-notebook-cell://wsl%2Bubuntu/home/rutgercap/repos/intelligence-layer/src/examples/classification.ipynb#W1sdnNjb2RlLXJlbW90ZQ%3D%3D?line=23'>24</a>\u001b[0m     exit()\n\u001b[0;32m---> <a href='vscode-notebook-cell://wsl%2Bubuntu/home/rutgercap/repos/intelligence-layer/src/examples/classification.ipynb#W1sdnNjb2RlLXJlbW90ZQ%3D%3D?line=24'>25</a>\u001b[0m \u001b[39mfor\u001b[39;00m label, score \u001b[39min\u001b[39;00m output\u001b[39m.\u001b[39mscores\u001b[39m.\u001b[39mitems():\n\u001b[1;32m     <a href='vscode-notebook-cell://wsl%2Bubuntu/home/rutgercap/repos/intelligence-layer/src/examples/classification.ipynb#W1sdnNjb2RlLXJlbW90ZQ%3D%3D?line=25'>26</a>\u001b[0m     \u001b[39mprint\u001b[39m(\u001b[39mf\u001b[39m\u001b[39m\"\u001b[39m\u001b[39m{\u001b[39;00mlabel\u001b[39m}\u001b[39;00m\u001b[39m: \u001b[39m\u001b[39m{\u001b[39;00m\u001b[39mround\u001b[39m(score,\u001b[39m \u001b[39m\u001b[39m4\u001b[39m)\u001b[39m}\u001b[39;00m\u001b[39m\"\u001b[39m)\n",
      "\u001b[0;31mNameError\u001b[0m: name 'output' is not defined"
     ]
    },
    {
     "ename": "",
     "evalue": "",
     "output_type": "error",
     "traceback": [
      "\u001b[1;31mThe Kernel crashed while executing code in the the current cell or a previous cell. Please review the code in the cell(s) to identify a possible cause of the failure. Click <a href='https://aka.ms/vscodeJupyterKernelCrash'>here</a> for more info. View Jupyter <a href='command:jupyter.viewOutput'>log</a> for further details."
     ]
    }
   ],
   "source": [
    "from os import getenv\n",
    "from intelligence_layer.connectors.limited_concurrency_client import LimitedConcurrencyClient\n",
    "\n",
    "from intelligence_layer.use_cases.classify.prompt_based_classify import ClassifyInput, PromptBasedClassify\n",
    "from intelligence_layer.core.chunk import Chunk\n",
    "from intelligence_layer.core.tracer import InMemoryTracer\n",
    "\n",
    "text_to_classify = Chunk(\"In the distant future, a space exploration party embarked on a thrilling journey to the uncharted regions of the galaxy. \\n\\\n",
    "With excitement in their hearts and the cosmos as their canvas, they ventured into the unknown, discovering breathtaking celestial wonders. \\n\\\n",
    "As they gazed upon distant stars and nebulas, they forged unforgettable memories that would forever bind them as pioneers of the cosmos.\")\n",
    "labels = [\"happy\", \"angry\", \"sad\"]\n",
    "client = LimitedConcurrencyClient.from_token(getenv(\"AA_TOKEN\"))\n",
    "task = PromptBasedClassify(client)\n",
    "input = ClassifyInput(\n",
    "    chunk=text_to_classify,\n",
    "    labels=labels\n",
    ")\n",
    "\n",
    "tracer = InMemoryTracer()\n",
    "try:\n",
    "    output = task.run(input, tracer)\n",
    "except:\n",
    "    print(tracer.entries)\n",
    "    exit()\n",
    "for label, score in output.scores.items():\n",
    "    print(f\"{label}: {round(score, 4)}\")\n"
   ]
  },
  {
   "cell_type": "markdown",
   "metadata": {},
   "source": [
    "### How does this implementation work?\n",
    "\n",
    "We prompt the model multiple times, each time supplying the text, or chunk, and one label at a time.\n",
    "Note that we also supply each label, rather than letting the model generate it.\n",
    "\n",
    "To further explain this, let's start with a more familiar case.\n",
    "Intuitively, one would probably prompt a model like so:"
   ]
  },
  {
   "cell_type": "code",
   "execution_count": null,
   "metadata": {},
   "outputs": [],
   "source": [
    "from aleph_alpha_client import PromptTemplate\n",
    "\n",
    "prompt_template = PromptTemplate(PromptBasedClassify.PROMPT_TEMPLATE)\n",
    "print(prompt_template.to_prompt(text=text_to_classify, label=\"\").items[0].text)\n"
   ]
  },
  {
   "cell_type": "markdown",
   "metadata": {},
   "source": [
    "The model would then complete our instruction, thus generating a matching label.\n",
    "\n",
    "In the case of single-label classification, however, we already know all possible classes beforehand.\n",
    "Because of this, all we are interested in is the probability that the model would have generated our specific classes.\n",
    "To get this probability, we can prompt the model with each of our classes and ask it to return the \"logprobs\" for the text.\n",
    "\n",
    "In the case of prompt-based classification, the base prompt looks something like this:"
   ]
  },
  {
   "cell_type": "code",
   "execution_count": null,
   "metadata": {},
   "outputs": [],
   "source": [
    "prompt_template = PromptTemplate(PromptBasedClassify.PROMPT_TEMPLATE)\n",
    "print(prompt_template.to_prompt(text=text_to_classify, label=\" \" +labels[0]).items[0].text)\n"
   ]
  },
  {
   "cell_type": "markdown",
   "metadata": {},
   "source": [
    "As you can see, we have the same prompt, but with a potential label candidate already filled in.\n",
    "Now, we will ask the model to evaluate the likelihood of this label, i.e. completion.\n",
    "\n",
    "Our request will not generate any tokens, but instead return the log probability of this completion given the previous tokens.\n",
    "This is called an `EchoTask`.\n",
    "Let's have a look at just one of these tasks triggered by our classification run.\n",
    "\n",
    "In particular, note the `expected_completion` in the `Input` and the `prob` for the token \" angry\" in the `Output`.\n",
    "Feel free to ignore the big `Complete` task dump in the middle."
   ]
  },
  {
   "cell_type": "code",
   "execution_count": null,
   "metadata": {},
   "outputs": [],
   "source": [
    "tracer.entries[-1].entries[0].entries[0]"
   ]
  },
  {
   "cell_type": "markdown",
   "metadata": {},
   "source": [
    "Now that we have the logprobs, we just need to do some calculations to turn them into a final score.\n",
    "\n",
    "To turn the logprobs into our end scores, we first normalize our probabilities.\n",
    "For this, we utilize a probability tree."
   ]
  },
  {
   "cell_type": "code",
   "execution_count": null,
   "metadata": {},
   "outputs": [],
   "source": [
    "from intelligence_layer.use_cases.classify.prompt_based_classify import TreeNode\n",
    "from intelligence_layer.core.tracer import LogEntry\n",
    "\n",
    "task_log = tracer.entries[-1]\n",
    "normalized_probs_logs = [log_entry.value for log_entry in task_log.entries if isinstance(log_entry, LogEntry) and log_entry.message == \"Normalized Probs\"]\n",
    "log = normalized_probs_logs[-1]\n",
    "\n",
    "root = TreeNode()\n",
    "for probs in log.values():\n",
    "    root.insert_without_calculation(probs)\n"
   ]
  },
  {
   "cell_type": "markdown",
   "metadata": {},
   "source": [
    "Finally, we take the product of all the paths to get the following results:"
   ]
  },
  {
   "cell_type": "code",
   "execution_count": null,
   "metadata": {},
   "outputs": [],
   "source": [
    "for label, score in output.scores.items():\n",
    "    print(f\"{label}: {round(score, 5)}\")\n"
   ]
  },
  {
   "cell_type": "markdown",
   "metadata": {},
   "source": [
    "The example mentioned before is rather straightforward, but there are some situations when it isn't as obvious as a single token.\n",
    "\n",
    "What if we take some labels that have overlapping tokens?\n",
    "This makes the calculation a bit more complicated:"
   ]
  },
  {
   "cell_type": "code",
   "execution_count": null,
   "metadata": {},
   "outputs": [],
   "source": [
    "from intelligence_layer.use_cases.classify.prompt_based_classify import PromptBasedClassify, ClassifyInput\n",
    "from intelligence_layer.core.tracer import LogEntry\n",
    "\n",
    "\n",
    "labels = [\"Space party\", \"Space exploration\", \"Space exploration party\"]\n",
    "task = PromptBasedClassify(client)\n",
    "input = ClassifyInput(\n",
    "    chunk=text_to_classify,\n",
    "    labels=labels\n",
    ")\n",
    "tracer = InMemoryTracer()\n",
    "output = task.run(input, tracer)\n",
    "task_log = tracer.entries[-1]\n",
    "normalized_probs_logs = [log_entry.value for log_entry in task_log.entries if isinstance(log_entry, LogEntry) and log_entry.message == \"Normalized Probs\"]\n",
    "log = normalized_probs_logs.pop()\n",
    "\n",
    "root = TreeNode()\n",
    "for probs in log.values():\n",
    "    root.insert_without_calculation(probs)\n",
    "\n",
    "print(\"End scores:\")\n",
    "for label, score in output.scores.items():\n",
    "    print(f\"{label}: {round(score, 4)}\")\n"
   ]
  },
  {
   "cell_type": "markdown",
   "metadata": {},
   "source": [
    "Here, the three classes have some overlapping tokens, namely \"Space\", and \"exploration\".\n",
    "\"party\" is not overlapping, because it occurs in two different places (after \"Space\" and after \"exploration\").\n",
    "\n",
    "Cool, so we now figured out how to do prompt-based classification.\n",
    "Let's have a look at another classification use-case!"
   ]
  },
  {
   "cell_type": "markdown",
   "metadata": {},
   "source": [
    "### Embedding-based multi-label classification\n",
    "\n",
    "Large language model embeddings offer a powerful approach to text classification.\n",
    "In particular, such embeddings can be seen as a numerical representation of the meaning of a text.\n",
    "Utilizing this, we can provide textual examples for each label and embed them to create a representations for each label in vector space.\n",
    "\n",
    "**Or, in more detail**:\n",
    "In this method, each example from various classes is transformed into a vector representation using the embeddings from the language model.\n",
    "These embedded vectors capture the semantic essence of the text.\n",
    "Once this is done, clusters of embeddings are formed for each class, representing the centroid or the average meaning of the examples within that class.\n",
    "When a new piece of text needs to be classified, it is first embedded using the same language model.\n",
    "This new embedded vector is then compared to the pre-defined clusters for each class using a cosine similarity.\n",
    "The class whose cluster is closest to the new text's embedding is then assigned to the text, thereby achieving classification.\n",
    "This method leverages the deep semantic understanding of large language models to classify texts with high accuracy and nuance.\n",
    "\n",
    "### When should you use embedding-based classification?\n",
    "\n",
    "We recommend using this type of classification when...\n",
    "- ...proper classification requires fine-grained control over the classes' definitions.\n",
    "- ...the labels can be defined mostly or purely by the semantic meaning of the examples.\n",
    "- ...examples for each label are readily available.\n",
    "\n",
    "### Example snippet\n",
    "\n",
    "Let's start by instantiating a classifier for sentiment classification."
   ]
  },
  {
   "cell_type": "code",
   "execution_count": null,
   "metadata": {},
   "outputs": [],
   "source": [
    "from intelligence_layer.use_cases.classify.embedding_based_classify import EmbeddingBasedClassify, LabelWithExamples\n",
    "\n",
    "\n",
    "labels_with_examples = [\n",
    "    LabelWithExamples(\n",
    "        name=\"positive\",\n",
    "        examples=[\n",
    "            \"I really like this.\",\n",
    "            \"Wow, your hair looks great!\",\n",
    "            \"We're so in love.\",\n",
    "            \"That truly was the best day of my life!\",\n",
    "            \"What a great movie.\"\n",
    "        ],\n",
    "    ),\n",
    "    LabelWithExamples(\n",
    "        name=\"negative\",\n",
    "        examples=[\n",
    "            \"I really dislike this.\",\n",
    "            \"Ugh, Your hair looks horrible!\",\n",
    "            \"We're not in love anymore.\",\n",
    "            \"My day was very bad, I did not have a good time.\",\n",
    "            \"They make terrible food.\"\n",
    "        ],\n",
    "    ),\n",
    "]\n",
    "classify = EmbeddingBasedClassify(labels_with_examples, client)\n"
   ]
  },
  {
   "cell_type": "markdown",
   "metadata": {},
   "source": [
    "There are several things to note here, in particular:\n",
    "- This time, we instantiated our classification task with a number of `LabelWithExamples`.\n",
    "- The examples provided should reflect the spectrum of texts expected in the intended usage domain of this classifier.\n",
    "- This cell took some time to run.\n",
    "This is because we instantiate a retriever in the background, which also requires us to embed the provided examples.\n",
    "\n",
    "With that being said, let's run an unknown example!"
   ]
  },
  {
   "cell_type": "code",
   "execution_count": null,
   "metadata": {},
   "outputs": [],
   "source": [
    "classify_input = ClassifyInput(\n",
    "    chunk=\"It was very awkward with him, I did not enjoy it.\",\n",
    "    labels=frozenset(l.name for l in labels_with_examples)\n",
    ")\n",
    "tracer = InMemoryTracer()\n",
    "result = classify.run(classify_input, tracer)\n",
    "result"
   ]
  },
  {
   "cell_type": "markdown",
   "metadata": {},
   "source": [
    "Nice, we correctly identified the new example.\n",
    "\n",
    "Again, let's appreciate the difference of this result compared to `PromptBasedClassify`'s result.\n",
    "- The probabilities do not add up to 1.\n",
    "In fact, we have no way of predicting what the sum of all scores will be.\n",
    "In some cases, individual scores may even be negative.\n",
    "All we know is that the highest score is likely to correspond to the best fitting label, provided we delivered good examples.\n",
    "- We were much quicker to obtain a result.\n",
    "\n",
    "Because all examples are pre-embedded, this classifier is much cheaper to operate as it only requires a single embedding-task to be sent to the Aleph Alpha API.\n",
    "\n",
    "Let's try another example. This time, we expect the outcome to be positive.\n"
   ]
  },
  {
   "cell_type": "code",
   "execution_count": null,
   "metadata": {},
   "outputs": [],
   "source": [
    "classify_input = ClassifyInput(\n",
    "    chunk=\"We used to be not like each other, but this changed a lot.\",\n",
    "    labels=frozenset(l.name for l in labels_with_examples)\n",
    ")\n",
    "tracer = InMemoryTracer()\n",
    "result = classify.run(classify_input, tracer)\n",
    "result"
   ]
  },
  {
   "cell_type": "markdown",
   "metadata": {},
   "source": [
    "Unfortunately, we wrongly classify this text as negative.\n",
    "To be fair, it is a difficult example.\n",
    "But no worries, let's simply include this failing example in our list of label examples and try again!"
   ]
  },
  {
   "cell_type": "code",
   "execution_count": null,
   "metadata": {},
   "outputs": [],
   "source": [
    "from intelligence_layer.use_cases.classify.embedding_based_classify import EmbeddingBasedClassify, LabelWithExamples\n",
    "\n",
    "\n",
    "labels_with_examples = [\n",
    "    LabelWithExamples(\n",
    "        name=\"positive\",\n",
    "        examples=[\n",
    "            \"I really like this.\",\n",
    "            \"Wow, your hair looks great!\",\n",
    "            \"We're so in love.\",\n",
    "            \"That truly was the best day of my life!\",\n",
    "            \"What a great movie.\",\n",
    "            \"We used to be not like each other, but this changed a lot.\" # failing example\n",
    "        ],\n",
    "    ),\n",
    "    LabelWithExamples(\n",
    "        name=\"negative\",\n",
    "        examples=[\n",
    "            \"I really dislike this.\",\n",
    "            \"Ugh, Your hair looks horrible!\",\n",
    "            \"We're not in love anymore.\",\n",
    "            \"My day was very bad, I did not have a good time.\",\n",
    "            \"They make terrible food.\"\n",
    "        ],\n",
    "    ),\n",
    "]\n",
    "classify = EmbeddingBasedClassify(labels_with_examples, client)\n",
    "\n",
    "tracer = InMemoryTracer()\n",
    "result = classify.run(classify_input, tracer)\n",
    "result"
   ]
  },
  {
   "cell_type": "markdown",
   "metadata": {},
   "source": [
    "Nice, we now correctly classify this example!\n",
    "\n",
    "One advantage of using the `EmbeddingBasedClassify`-approach is that we can easily tweak our labels by adding new examples.\n",
    "In essence, this guarantees that we never make the same mistake twice.\n",
    "As we increase the number of examples, this makes the method evermore precise.\n",
    "\n",
    "You now have an overview of these two main methods of classification!\n",
    "Feel free to tweak these method and play around with their parameters to finetune them to our specific use-case."
   ]
  }
 ],
 "metadata": {
  "kernelspec": {
   "display_name": "3.10-intelligence",
   "language": "python",
   "name": "python3"
  },
  "language_info": {
   "codemirror_mode": {
    "name": "ipython",
    "version": 3
   },
   "file_extension": ".py",
   "mimetype": "text/x-python",
   "name": "python",
   "nbconvert_exporter": "python",
   "pygments_lexer": "ipython3",
   "version": "3.10.6"
  }
 },
 "nbformat": 4,
 "nbformat_minor": 2
}
