{
 "cells": [
  {
   "cell_type": "markdown",
   "metadata": {},
   "source": [
    "# Summarization\n",
    "\n",
    "Large language models are adept at summarizing due to their sophisticated understanding of language structure, semantics, and context derived from the vast amounts of text they have been trained on. They analyze and comprehend the core elements and main ideas within a text, enabling them to distill complex and lengthy content into succinct summaries. Summaries produced by language models help users quickly grasp the essential points of voluminous texts, facilitating more efficient decision-making and knowledge acquisition without the necessity to delve into and navigate through exhaustive details.\n",
    "\n",
    "To start, we first need to instantiate an Aleph Alpha `Client` so that we can make calls to the Aleph Alpha API, which we use to get access to the Aleph Alpha family of models."
   ]
  },
  {
   "cell_type": "code",
   "execution_count": null,
   "metadata": {},
   "outputs": [],
   "source": [
    "from os import getenv\n",
    "from aleph_alpha_client import Client\n",
    "\n",
    "client = Client(getenv(\"AA_TOKEN\"))\n"
   ]
  },
  {
   "cell_type": "markdown",
   "metadata": {},
   "source": [
    "Let's start building a simple summarization workflow. There are two ways this can be approached:\n",
    "1. We provide only `text` as input and set all parameters for the actual task within the task's definition.\n",
    "2. We provide `text` as well as some configuration options as the input. Examples of such config options could be `length` (e.g., \"short\", \"long\"), `format` (e.g., \"body\", \"bullets\"), or `simplify` (e.g., True, False).\n",
    "\n",
    "As it could be argued that version 2 requires different implementations of version 1 to call for the different configurations, let's take a look at the first version."
   ]
  },
  {
   "cell_type": "code",
   "execution_count": null,
   "metadata": {},
   "outputs": [],
   "source": [
    "from intelligence_layer.core.detect_language import Language\n",
    "from intelligence_layer.use_cases.summarize.summarize import SingleChunkSummarizeInput\n",
    "from intelligence_layer.use_cases.summarize.single_chunk_medium_compression_summarize import SingleChunkMediumCompressionSummarize\n",
    "from intelligence_layer.core.chunk import Chunk\n",
    "from intelligence_layer.core.logger import InMemoryDebugLogger\n",
    "from IPython.display import Pretty\n",
    "\n",
    "chunk = Chunk(\"\"\"Plyscraper\n",
    "From Wikipedia, the free encyclopedia\n",
    "\n",
    "A plyscraper, or timber tower is a skyscraper made (at least partly) of wood. They may alternatively be known as mass timber buildings.\n",
    "\n",
    "Materials\n",
    "There are four main types of engineered wood used for mass timber including cross-laminated timber (CLT), glued laminated timber (glulam), laminated strand lumber (LSL), and laminated veneer lumber (LVL). Of these three wood systems, CLT is the most commonly used.[1]\n",
    "\n",
    "When other materials, such as concrete or steel, are used in conjunction with engineered wood, these plyscrapers are called “hybrids”. For hybrid buildings, there are some approaches to how different materials can be used including the “Cree’s System” which was developed by Cree Buildings, and the “Finding the Forest Through the Trees\" (FFTT) construction model” developed by Michael Green. Cree's System combines the use of concrete and wood mainly in its hybrid flooring systems. In some instances, concrete can also be used as a core or for the foundation of a building because wood is too light. The FFTT construction model incorporates a wooden core and wooden floor slabs mixed with steel beams to provide ductility to the building.[1][2]\n",
    "\n",
    "Advantages and disadvantages\n",
    "When considering which engineered wood system to use for a plyscraper the individual benefits of each must be compared. CLT has a high fire resistance due to the fire-resistant adhesive used and the surface char layer that forms when it is exposed to fire. The surface char layer protects the interior of the wood from further damage. Glulam is typically used for columns and beams as an alternative to commonly used steel and concrete.[1][3] This is because it has a greater tensile strength-to-weight ratio than steel and can resist compression better than concrete.  LVL also has the same strength as concrete.[4]  As plyscrapers are made from wood, they sequester carbon during construction and are renewable if the forests that they are sourced from are sustainably managed.[1][3]\n",
    "\n",
    "Despite these benefits, there are bound to be some drawbacks when using the various engineered woods.  Steel overall has a greater strength and durability for the same sized profile when compared to its wood counterpart.[5] Thus, a building made with steel beams would require smaller beams than the same building constructed with wooden beams.  Walls and columns in the interior spaces of these plyscrapers can get so thick that the size of said interior space gets heavily reduced. This issue however, does not occur within shorter buildings.\"\"\")\n",
    "summarize = SingleChunkMediumCompressionSummarize(client=client)\n",
    "summarize_input = SingleChunkSummarizeInput(chunk=chunk, language=Language(\"en\"))\n",
    "debug_log = InMemoryDebugLogger(name=\"summarization\")\n",
    "output = summarize.run(summarize_input, debug_log)\n",
    "\n",
    "Pretty(output.summary)\n"
   ]
  },
  {
   "cell_type": "markdown",
   "metadata": {},
   "source": [
    "If you want to understand the inner workings of the summarization, how it uses the LLM to do the summarization, what requests are sent, and at what part of the input text the model focuses, you can find out this in the `debug_log`."
   ]
  },
  {
   "cell_type": "code",
   "execution_count": null,
   "metadata": {},
   "outputs": [],
   "source": [
    "debug_log\n"
   ]
  }
 ],
 "metadata": {
  "kernelspec": {
   "display_name": "3.10-intelligence",
   "language": "python",
   "name": "python3"
  },
  "language_info": {
   "codemirror_mode": {
    "name": "ipython",
    "version": 3
   },
   "file_extension": ".py",
   "mimetype": "text/x-python",
   "name": "python",
   "nbconvert_exporter": "python",
   "pygments_lexer": "ipython3",
   "version": "3.11.4"
  }
 },
 "nbformat": 4,
 "nbformat_minor": 2
}
