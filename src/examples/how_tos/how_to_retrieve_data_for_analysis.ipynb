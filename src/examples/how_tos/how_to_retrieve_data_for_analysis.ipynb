{
 "cells": [
  {
   "cell_type": "code",
   "execution_count": null,
   "metadata": {},
   "outputs": [],
   "source": [
    "from example_data import DummyEvaluation, example_data\n",
    "\n",
    "from intelligence_layer.evaluation import (\n",
    "    RepositoryNavigator,\n",
    "    evaluation_lineages_to_pandas,\n",
    ")\n",
    "\n",
    "example_data = example_data()"
   ]
  },
  {
   "cell_type": "markdown",
   "metadata": {},
   "source": [
    "# How to retrieve data for analysis\n",
    "0. Initialize the relevant repositories for the data of interest\n",
    "1. Retrieve the data\n",
    "   - from the repositories directly for a quick overview of specific data of interest\n",
    "   - via the `RepositoryNavigator` to join data from different repositories together.\n",
    "   - via the `Runner`/`Evaluator`\n",
    "\n",
    "### Example"
   ]
  },
  {
   "cell_type": "code",
   "execution_count": null,
   "metadata": {},
   "outputs": [],
   "source": [
    "# Step 0\n",
    "dataset_repository = example_data.dataset_repository\n",
    "run_repository = example_data.run_repository\n",
    "evaluation_repository = example_data.evaluation_repository\n",
    "\n",
    "# Step 1 - direct access of data\n",
    "my_example_id = example_data.examples[0].id\n",
    "my_dataset_id = example_data.dataset.id\n",
    "\n",
    "# retrieve a dataset with all examples, and a single example\n",
    "my_dataset = dataset_repository.dataset(my_dataset_id)\n",
    "my_example = dataset_repository.example(\n",
    "    my_dataset_id, my_example_id, input_type=str, expected_output_type=str\n",
    ")\n",
    "\n",
    "# retrieve all outputs, and an output for an example\n",
    "my_run_id = example_data.run_overview_1.id\n",
    "my_outputs = run_repository.example_outputs(my_run_id, output_type=str)\n",
    "my_example_output = run_repository.example_output(\n",
    "    my_run_id, my_example_id, output_type=str\n",
    ")\n",
    "\n",
    "# retrieve all evaluations, and an evaluation for an example\n",
    "my_evaluation_id = example_data.evaluation_overview.id\n",
    "my_evaluations = evaluation_repository.example_evaluations(\n",
    "    my_evaluation_id, evaluation_type=DummyEvaluation\n",
    ")\n",
    "my_example_evaluation = evaluation_repository.example_evaluation(\n",
    "    my_evaluation_id, my_example_id, evaluation_type=DummyEvaluation\n",
    ")"
   ]
  },
  {
   "cell_type": "code",
   "execution_count": null,
   "metadata": {},
   "outputs": [],
   "source": [
    "# Step 1 - retrieve linked data across all repositories\n",
    "\n",
    "navigator = RepositoryNavigator(\n",
    "    dataset_repository=dataset_repository,\n",
    "    run_repository=run_repository,\n",
    "    evaluation_repository=evaluation_repository,\n",
    ")\n",
    "\n",
    "my_lineages = navigator.evaluation_lineages(\n",
    "    my_evaluation_id,\n",
    "    input_type=str,\n",
    "    expected_output_type=str,\n",
    "    output_type=str,\n",
    "    evaluation_type=DummyEvaluation,\n",
    ")\n",
    "display(evaluation_lineages_to_pandas(my_lineages))\n",
    "\n",
    "my_lineage = navigator.evaluation_lineage(\n",
    "    my_evaluation_id,\n",
    "    my_example_id,\n",
    "    input_type=str,\n",
    "    expected_output_type=str,\n",
    "    output_type=str,\n",
    "    evaluation_type=DummyEvaluation,\n",
    ")\n",
    "display(my_lineage)"
   ]
  },
  {
   "cell_type": "code",
   "execution_count": null,
   "metadata": {},
   "outputs": [],
   "source": [
    "# Step 1 - retrieve linked data via the `Runner`/`Evaluator`\n",
    "my_evaluator = example_data.evaluator\n",
    "\n",
    "my_lineages = my_evaluator.evaluation_lineages(my_evaluation_id)\n",
    "display(evaluation_lineages_to_pandas(my_lineages))\n",
    "\n",
    "my_lineage = my_evaluator.evaluation_lineage(my_evaluation_id, my_example_id)\n",
    "display(my_lineage)"
   ]
  },
  {
   "cell_type": "code",
   "execution_count": null,
   "metadata": {},
   "outputs": [],
   "source": []
  }
 ],
 "metadata": {
  "kernelspec": {
   "display_name": "intelligence-layer-d3iSWYpm-py3.10",
   "language": "python",
   "name": "python3"
  },
  "language_info": {
   "codemirror_mode": {
    "name": "ipython",
    "version": 3
   },
   "file_extension": ".py",
   "mimetype": "text/x-python",
   "name": "python",
   "nbconvert_exporter": "python",
   "pygments_lexer": "ipython3",
   "version": "3.11.8"
  }
 },
 "nbformat": 4,
 "nbformat_minor": 2
}
