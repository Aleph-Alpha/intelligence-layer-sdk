{
 "cells": [
  {
   "cell_type": "markdown",
   "metadata": {},
   "source": [
    "# How to aggregate evaluations\n",
    "0. Run the evaluations of all your tasks and datasets (see [here](./how_to_evaluate_runs.ipynb)).\n",
    "    - When aggregating multiple evaluations, all of them need the same data types \n",
    "1. Initialize all necessary repositories for the `Aggregator`, and an `AggregationLogic`\n",
    "2. Run the `Aggregator` to aggregate all examples and create a single `AggregationOverview`\n",
    "3. (Optional) Save the `AggregationOverview.id` for later retrieval\n",
    "\n",
    "### Example"
   ]
  },
  {
   "cell_type": "code",
   "execution_count": null,
   "metadata": {},
   "outputs": [],
   "source": [
    "%%script false --no-raise-error # the following code does not execute as the evaluations do not exist\n",
    "\n",
    "# Step 0\n",
    "evaluation_ids = [\"eval_of_interest\", \"other_eval_of_interest\"]\n",
    "\n",
    "# Step 1\n",
    "evaluation_repository = InMemoryEvaluationRepository()\n",
    "aggregation_repository = InMemoryAggregationRepository()\n",
    "aggregation_logic = SingleLabelClassifyAggregationLogic()\n",
    "\n",
    "# Step 2\n",
    "aggregator = Aggregator(\n",
    "    evaluation_repository,\n",
    "    aggregation_repository,\n",
    "    \"MyAggregationDescription\",\n",
    "    aggregation_logic,\n",
    ")\n",
    "aggregation_overview = aggregator.aggregate_evaluation(*evaluation_ids)\n",
    "\n",
    "# Step 3\n",
    "print(aggregation_overview.id)"
   ]
  },
  {
   "cell_type": "code",
   "execution_count": null,
   "metadata": {},
   "outputs": [],
   "source": []
  }
 ],
 "metadata": {
  "kernelspec": {
   "display_name": "intelligence-layer-d3iSWYpm-py3.10",
   "language": "python",
   "name": "python3"
  },
  "language_info": {
   "codemirror_mode": {
    "name": "ipython",
    "version": 3
   },
   "file_extension": ".py",
   "mimetype": "text/x-python",
   "name": "python",
   "nbconvert_exporter": "python",
   "pygments_lexer": "ipython3",
   "version": "3.10.12"
  }
 },
 "nbformat": 4,
 "nbformat_minor": 2
}
