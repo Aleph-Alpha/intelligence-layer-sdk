{
 "cells": [
  {
   "cell_type": "markdown",
   "metadata": {},
   "source": [
    "# Question and Answer\n",
    "\n",
    "A common use case for using large language models is to generate answers to questions based on a given piece of text.\n",
    "We will be focusing on the open-book Q&A use case, where we provide the model with a piece of text we think is relevant to the question and ask it to answer based on it.\n",
    "\n",
    "To start, we first need to instantiate an Aleph Alpha `Client` so that we can make calls to the Aleph Alpha API, which we use to get access to the Aleph Alpha family of models."
   ]
  },
  {
   "cell_type": "code",
   "execution_count": null,
   "metadata": {},
   "outputs": [],
   "source": [
    "from os import getenv\n",
    "from intelligence_layer.connectors import LimitedConcurrencyClient\n",
    "\n",
    "from dotenv import load_dotenv\n",
    "\n",
    "load_dotenv()\n",
    "\n",
    "client = LimitedConcurrencyClient.from_env(getenv(\"AA_TOKEN\"))"
   ]
  },
  {
   "cell_type": "markdown",
   "metadata": {},
   "source": [
    "Now, let's grab a piece of text we want to ask a question about. We can start with a random Wikipedia article about [\"Surface micromachining\"](https://en.wikipedia.org/wiki/Surface_micromachining)"
   ]
  },
  {
   "cell_type": "code",
   "execution_count": null,
   "metadata": {},
   "outputs": [],
   "source": [
    "text = \"\"\"Surface micromachining\n",
    "\n",
    "Surface micromachining builds microstructures by deposition and etching structural layers over a substrate.[1] This is different from Bulk micromachining, in which a silicon substrate wafer is selectively etched to produce structures.\n",
    "\n",
    "Layers\n",
    "\n",
    "Generally, polysilicon is used as one of the substrate layers while silicon dioxide is used as a sacrificial layer. The sacrificial layer is removed or etched out to create any necessary void in the thickness direction. Added layers tend to vary in size from 2-5 micrometres. The main advantage of this machining process is the ability to build electronic and mechanical components (functions) on the same substrate. Surface micro-machined components are smaller compared to their bulk micro-machined counterparts.\n",
    "\n",
    "As the structures are built on top of the substrate and not inside it, the substrate's properties are not as important as in bulk micro-machining. Expensive silicon wafers can be replaced by cheaper substrates, such as glass or plastic. The size of the substrates may be larger than a silicon wafer, and surface micro-machining is used to produce thin-film transistors on large area glass substrates for flat panel displays. This technology can also be used for the manufacture of thin film solar cells, which can be deposited on glass, polyethylene terepthalate substrates or other non-rigid materials.\n",
    "\n",
    "Fabrication process\n",
    "\n",
    "Micro-machining starts with a silicon wafer or other substrate upon which new layers are grown. These layers are selectively etched by photo-lithography; either a wet etch involving an acid, or a dry etch involving an ionized gas (or plasma). Dry etching can combine chemical etching with physical etching or ion bombardment. Surface micro-machining involves as many layers as are needed with a different mask (producing a different pattern) on each layer. Modern integrated circuit fabrication uses this technique and can use as many as 100 layers. Micro-machining is a younger technology and usually uses no more than 5 or 6 layers. Surface micro-machining uses developed technology (although sometimes not enough for demanding applications) which is easily repeatable for volume production.\"\"\""
   ]
  },
  {
   "cell_type": "markdown",
   "metadata": {},
   "source": [
    "Let's see if we can use the `SingleChunkQa`-task to answer questions about this text!\n",
    "This particular task is optimized for shorter texts that fit into the model's context window.\n",
    "The main things of interest are that you can provide a `QaInput`, which consists of a `question` you want to ask and a `text` to base that answer upon.\n",
    "We also have to provide a tracer, but disregard its output for now.\n",
    "\n",
    "The output will be a `QaOutput`, which will include an `answer` (if it can find one in the text) and `highlights`, which point to the source text's section where the results are from.\n"
   ]
  },
  {
   "cell_type": "code",
   "execution_count": null,
   "metadata": {},
   "outputs": [],
   "source": [
    "from intelligence_layer.core import LuminousControlModel\n",
    "from intelligence_layer.use_cases import SingleChunkQa, SingleChunkQaInput\n",
    "from intelligence_layer.core import NoOpTracer\n",
    "from IPython.display import Pretty\n",
    "\n",
    "question = \"What are some benefits of surface micro-machining?\"\n",
    "\n",
    "model = LuminousControlModel(name=\"luminous-supreme-control-20240215\", client=client)\n",
    "qa = SingleChunkQa(model=model)\n",
    "input = SingleChunkQaInput(chunk=text, question=question)\n",
    "output = qa.run(input, NoOpTracer())\n",
    "\n",
    "Pretty(output.answer)"
   ]
  },
  {
   "cell_type": "markdown",
   "metadata": {},
   "source": [
    "Nice, we extracted some advantages!\n",
    "Notice how the answer appears cut off.\n",
    "This may happen if the model \"wants\" to generate more tokens than we allow.\n",
    "To address this, we could consider raising the \"maximum_tokens\" (init-parameter of the `SingleChunkQa`-task) parameter.\n",
    "\n",
    "If you want to investigate based on which part of the input text was used to produce the answer, you can use the `highlights`.\n",
    "Under the hood, it uses the explainability feature of the Aleph Alpha inference stack."
   ]
  },
  {
   "cell_type": "code",
   "execution_count": null,
   "metadata": {},
   "outputs": [],
   "source": [
    "output.highlights"
   ]
  },
  {
   "cell_type": "markdown",
   "metadata": {},
   "source": [
    "## Language detection\n",
    "\n",
    "You can also ask questions about documents in languages other than English.\n",
    "Our models support 5 European languages 🇬🇧 🇩🇪 🇪🇸 🇫🇷 🇮🇹.\n",
    "We provide you with some tools making it easier to detect the language in the document."
   ]
  },
  {
   "cell_type": "code",
   "execution_count": null,
   "metadata": {},
   "outputs": [],
   "source": [
    "from intelligence_layer.core import DetectLanguage, DetectLanguageInput, Language\n",
    "\n",
    "my_i_have_no_idea_what_language_document = \"\"\"Oberflächenmikrobearbeitung\n",
    "\n",
    "Bei der Oberflächenmikrobearbeitung werden Mikrostrukturen durch das Abscheiden und Ätzen von Strukturschichten auf einem Substrat erzeugt[1]. Dies unterscheidet sich von der Bulk-Mikrobearbeitung, bei der ein Siliziumsubstratwafer selektiv geätzt wird, um Strukturen zu erzeugen.\n",
    "\n",
    "Schichten\n",
    "\n",
    "Im Allgemeinen wird Polysilizium als eine der Substratschichten verwendet, während Siliziumdioxid als Opferschicht dient. Die Opferschicht wird entfernt oder herausgeätzt, um die erforderliche Lücke in Dickenrichtung zu schaffen. Die Größe der hinzugefügten Schichten variiert in der Regel zwischen 2 und 5 Mikrometern. Der Hauptvorteil dieses Bearbeitungsverfahrens ist die Möglichkeit, elektronische und mechanische Komponenten (Funktionen) auf demselben Substrat aufzubauen. Oberflächenmikrobearbeitete Komponenten sind im Vergleich zu ihren mikrobearbeiteten Gegenstücken in der Masse kleiner.\n",
    "\n",
    "Da die Strukturen auf dem Substrat und nicht in ihm aufgebaut werden, sind die Eigenschaften des Substrats nicht so wichtig wie bei der Volumenmikrobearbeitung. Teure Siliziumwafer können durch billigere Substrate wie Glas oder Kunststoff ersetzt werden. Die Größe der Substrate kann größer sein als ein Siliziumwafer, und die Oberflächenmikrobearbeitung wird zur Herstellung von Dünnschichttransistoren auf großflächigen Glassubstraten für Flachbildschirme eingesetzt. Diese Technologie kann auch für die Herstellung von Dünnschicht-Solarzellen verwendet werden, die auf Glas, Polyethylenterepthalat-Substrate oder andere nicht starre Materialien aufgebracht werden können.\n",
    "\n",
    "Herstellungsverfahren\n",
    "\n",
    "Die Mikrobearbeitung beginnt mit einem Siliziumwafer oder einem anderen Substrat, auf dem neue Schichten aufgewachsen werden. Diese Schichten werden durch Fotolithografie selektiv geätzt, entweder nass mit einer Säure oder trocken mit einem ionisierten Gas (oder Plasma). Beim Trockenätzen kann chemisches Ätzen mit physikalischem Ätzen oder Ionenbeschuss kombiniert werden. Bei der Oberflächenmikrobearbeitung werden so viele Schichten wie nötig mit einer anderen Maske (die ein anderes Muster erzeugt) auf jeder Schicht angebracht. Bei der Herstellung moderner integrierter Schaltkreise wird diese Technik eingesetzt, wobei bis zu 100 Schichten verwendet werden können. Die Mikrobearbeitung ist eine jüngere Technologie, bei der normalerweise nicht mehr als 5 oder 6 Schichten verwendet werden. Bei der Oberflächen-Mikrobearbeitung kommt eine ausgereifte Technologie zum Einsatz (auch wenn sie für anspruchsvolle Anwendungen manchmal nicht ausreicht), die für die Massenproduktion leicht wiederholbar ist.\"\"\"\n",
    "\n",
    "lang_detection_input = DetectLanguageInput(\n",
    "    text=my_i_have_no_idea_what_language_document,\n",
    "    possible_languages=[Language(l) for l in [\"en\", \"de\", \"es\", \"fr\", \"it\"]],\n",
    ")\n",
    "language = DetectLanguage().run(lang_detection_input, NoOpTracer())\n",
    "language"
   ]
  },
  {
   "cell_type": "markdown",
   "metadata": {},
   "source": [
    "Ah, it seems that this document is written in German!\n",
    "Let's generate a German answer."
   ]
  },
  {
   "cell_type": "code",
   "execution_count": null,
   "metadata": {},
   "outputs": [],
   "source": [
    "question = \"Was sind die Vorteile der Oberflächen-Mikrobearbeitung?\"\n",
    "\n",
    "qa = SingleChunkQa(model=model)\n",
    "input = SingleChunkQaInput(\n",
    "    chunk=my_i_have_no_idea_what_language_document,\n",
    "    question=question,\n",
    "    language=language.best_fit,\n",
    ")\n",
    "output = qa.run(input, NoOpTracer())\n",
    "\n",
    "Pretty(output.answer)"
   ]
  },
  {
   "cell_type": "markdown",
   "metadata": {},
   "source": [
    "## Multi-chunk QA\n",
    "\n",
    "One of the problems with the approach above is that your input (text and question) have to fit into the context size of the LLM, which depends on the model being used.\n",
    "If your input exceeds this limit, you may want to use a `MultipleChunkQa`.\n",
    "\n",
    "In this case, out QA-workflow becomes slightly more complicated and consists of the following steps:\n",
    "First, the model generates an answer based on each chunk and the given question.\n",
    "Then all the intermediate answers are combined into a single answer.\n",
    "\n",
    "Let's have a look at an example where two chunks lead to different parts of the final answer.\n",
    "\n",
    "This time, let's also use a proper debug log, so that we can see what happens under the hood!"
   ]
  },
  {
   "cell_type": "code",
   "execution_count": null,
   "metadata": {},
   "outputs": [],
   "source": [
    "from intelligence_layer.core import InMemoryTracer\n",
    "from intelligence_layer.use_cases import MultipleChunkQa, MultipleChunkQaInput\n",
    "\n",
    "chunks = [\n",
    "    \"As the sun dipped below the horizon, the lively sounds of laughter and clinking beer steins filled the air at the 213th festival edition. The festival grounds were adorned with colorful banners and adorned tables, where people from all over the world gathered to celebrate. The aroma of sizzling sausages and freshly baked pretzels wafted from the food stalls, tempting hungry visitors.\",\n",
    "    \"Musicians played traditional Bavarian tunes, and couples twirled on the makeshift dance floor, lost in the joy of the moment. Under the starry sky, Oktoberfest was a testament to the enduring spirit of camaraderie and merriment.\",\n",
    "]\n",
    "\n",
    "question = \"What festival is the text about?\"\n",
    "\n",
    "qa = MultipleChunkQa(model=model)\n",
    "input = MultipleChunkQaInput(chunks=chunks, question=question)\n",
    "tracer = InMemoryTracer()\n",
    "output = qa.run(input, tracer)"
   ]
  },
  {
   "cell_type": "code",
   "execution_count": null,
   "metadata": {},
   "outputs": [],
   "source": [
    "print(output.answer)"
   ]
  },
  {
   "cell_type": "markdown",
   "metadata": {},
   "source": [
    "Furthermore, it is also possible to examine the inner workings of the QA mechanism by looking at the `tracer`. There, we track the inputs, outputs, and internal states used to calculate the mentioned outputs. You can also take a look at the parameters of the request sent to the API."
   ]
  },
  {
   "cell_type": "code",
   "execution_count": null,
   "metadata": {},
   "outputs": [],
   "source": [
    "tracer"
   ]
  },
  {
   "cell_type": "markdown",
   "metadata": {},
   "source": [
    "## Long context QA\n",
    "\n",
    "Sometimes you want to execute a QA request against a document that is really, really long.\n",
    "In such cases, the document will not fit into the context window of the model (e.g., 2048 tokens for Luminous) and not all parts of it will be relevant for the question at hand.\n",
    "We will first need to split the document into chunks and use semantic search to find the most relevant chunks (i.e., those most similar to the question).\n",
    "Then, we use these chunks to answer the question using the `MultipleChunkQa` functionality."
   ]
  },
  {
   "cell_type": "code",
   "execution_count": null,
   "metadata": {},
   "outputs": [],
   "source": [
    "# https://en.wikipedia.org/wiki/Robert_Moses\n",
    "long_text = \"\"\"Robert Moses''' (December 18, 1888 – July 29, 1981) was an American [[urban planner]] and public official who worked in the [[New York metropolitan area]] during the early to mid 20th century. Despite never being elected to any office, Moses is regarded as one of the most powerful and influential individuals in the history of New York City and New York State. The grand scale of his infrastructural projects and his philosophy of urban development influenced a generation of engineers, architects, and urban planners across the United States.<ref name=\":0\" />\n",
    "\n",
    "Moses held various positions throughout his more than forty-year long career. He at times held up to 12 titles simultaneously, including [[New York City Parks Commissioner]] and chairman of the [[Long Island State Park Commission]].<ref>{{Cite web|url=https://www.pbs.org/wnet/need-to-know/environment/the-legacy-of-robert-moses/16018/|title=The legacy of Robert Moses|last=Sarachan|first=Sydney|date=January 17, 2013|website=Need to Know {{!}} PBS|language=en-US|access-date=December 3, 2019}}</ref> Having worked closely with New York governor [[Al Smith]] early in his career, Moses became expert in writing laws and navigating and manipulating the inner workings of state government. He created and led numerous semi-autonomous [[Public authority|public authorities]], through which he controlled millions of dollars in revenue and directly issued [[Bond (finance)|bonds]] to fund new ventures with little outside input or oversight.\n",
    "\n",
    "Moses's projects transformed the New York area and revolutionized the way cities in the U.S. were designed and built. As Long Island State Park Commissioner, Moses oversaw the construction of [[Jones Beach State Park]], the most visited public beach in the United States,<ref name=\"Jones Beach\">{{cite news |url=http://www.longislandexchange.com/jones-beach.html |website=Long Island Exchange |title=Jones Beach |access-date=November 21, 2012 |archive-url=https://web.archive.org/web/20130121130008/http://www.longislandexchange.com/jones-beach.html |archive-date=January 21, 2013 |url-status=dead }}</ref> and was the primary architect of the [[Parkways in New York|New York State Parkway System]]. As head of the [[MTA Bridges and Tunnels|Triborough Bridge Authority]], Moses had near-complete control over bridges and tunnels in New York City as well as the tolls collected from them, and built, among others, the [[Robert F. Kennedy Bridge|Triborough Bridge]], the [[Brooklyn–Battery Tunnel]], and the [[Throgs Neck Bridge]], as well as several major highways. These roadways and bridges, alongside [[urban renewal]] efforts that saw the destruction of huge swaths of tenement housing and their replacement with large [[New York City Housing Authority|public housing projects]], transformed the physical fabric of New York and inspired other cities to undertake similar development endeavors.\n",
    "\n",
    "Moses's reputation declined following the publication of [[Robert Caro]]'s [[Pulitzer Prize]]-winning biography ''[[The Power Broker]]'' (1974), which cast doubt on the purported benefits of many of Moses's projects and further cast Moses as racist. In large part because of ''The Power Broker'', Moses is today considered a controversial figure in the history of New York City.\n",
    "\n",
    "==Early life and career==\n",
    "Moses was born in [[New Haven, Connecticut]], on December 18, 1888, to [[German Jewish]] parents, Bella (Silverman) and Emanuel Moses.<ref>{{cite news | url=https://www.nytimes.com/learning/general/onthisday/bday/1218.html | title=Robert Moses, Master Builder, is Dead at 92| newspaper=The New York Times |archive-url=https://web.archive.org/web/20160305003155/https://www.nytimes.com/learning/general/onthisday/bday/1218.html |archive-date=March 5, 2016 |url-status=dead}}</ref>{{sfn|Caro|1974|p=25}} He spent the first nine years of his life living at 83 Dwight Street in New Haven, two blocks from [[Yale University]]. In 1897, the Moses family moved to New York City,{{sfn|Caro|1974|pp=29}} where they lived on East 46th Street off Fifth Avenue.<ref>{{cite web |url=http://www.newsday.com/community/guide/lihistory/ny-history-hs722a,0,7092161.story |title=The Master Builder |access-date=April 4, 2007 |last=DeWan |first=George |year=2007 |website=Long Island History |publisher=Newsday |archive-url=https://web.archive.org/web/20061211045554/http://www.newsday.com/community/guide/lihistory/ny-history-hs722a%2C0%2C7092161.story |archive-date=December 11, 2006 |url-status=dead  }}</ref> Moses's father was a successful department store owner and [[real estate]] speculator in New Haven. In order for the family to move to New York City, he sold his real estate holdings and store, then retired.{{sfn|Caro|1974|pp=29}} Moses's mother was active in the [[settlement movement]], with her own love of building. Robert Moses and his brother Paul attended several schools for their elementary and [[secondary education]], including the [[Ethical Culture Fieldston School|Ethical Culture School]], the [[Dwight School]] and the [[Mohegan Lake, New York#Historic places|Mohegan Lake School]], a military academy near [[Peekskill, New York|Peekskill]].{{sfn|Caro|1974|pp=35}}\n",
    "\n",
    "After graduating from [[Yale College]] (B.A., 1909) and [[Wadham College]], [[Oxford University|Oxford]] (B.A., Jurisprudence, 1911; M.A., 1913), and earning a Ph.D. in [[political science]] from [[Columbia University]] in 1914, Moses became attracted to New York City reform politics.<ref>{{Cite web|url=http://c250.columbia.edu/c250_celebrates/remarkable_columbians/robert_moses.html|title = Robert Moses}}</ref> A committed [[idealism|idealist]], he developed several plans to rid New York of [[Patronage#Politics|patronage hiring]] practices, including being the lead author of a 1919 proposal to reorganize the New York state government. None went very far, but Moses, due to his intelligence, caught the notice of [[Belle Moskowitz]], a friend and trusted advisor to Governor [[Al Smith]].{{sfn|Caro|1974}}  When the state [[Secretary of State of New York|Secretary of State's]] position became appointive rather than elective, Smith named Moses. He served from 1927 to 1929.<ref>{{cite news |date=December 19, 1928 |title=Moses Resigns State Position |url=http://cdsun.library.cornell.edu/cgi-bin/cornell?a=d&d=CDS19281219.2.63.7# |newspaper=Cornell Daily Sun |location=Ithaca, NY |page=8}}</ref>\n",
    "\n",
    "Moses rose to power with Smith, who was elected as governor in 1918, and then again in 1922. With Smith's support, Moses set in motion a sweeping consolidation of the New York State government. During that period Moses began his first foray into large-scale public work initiatives, while drawing on Smith's political power to enact legislation. This helped create the new [[Long Island State Park Commission]] and the State Council of Parks.<ref>{{cite web|last=Gutfreund|first=Owen|title=Moses, Robert|url=http://www.anb.org/articles/07/07-00375.html|publisher=Anb.org|access-date=December 24, 2014}}</ref> In 1924, Governor Smith appointed Moses chairman of the State Council of Parks and president of the Long Island State Park Commission.<ref>{{Cite book|title=Encyclopedia of the City|url=https://archive.org/details/encyclopediacity00cave|url-access=limited|last=Caves|first=R. W.|publisher=Routledge|year=2004|isbn=978-0-415-25225-6|pages=[https://archive.org/details/encyclopediacity00cave/page/n512 472]}}</ref> This centralization allowed Smith to run a government later used as a model for Franklin D. Roosevelt's [[New Deal]] federal government.{{or|date=October 2022}} Moses also received numerous commissions that he carried out efficiently, such as the development of [[Jones Beach State Park]].{{cn|date=October 2022}} Displaying a strong command of [[law]] as well as matters of [[engineering]], Moses became known for his skill in drafting legislation, and was called \"the best bill drafter in [[Albany, New York|Albany]]\".<ref name=\":0\">{{cite news |title=Annals of Power |first=Robert A. |last=Caro |author-link=Robert Caro |url=http://archives.newyorker.com/?i=1974-07-22#folio=032 |magazine=[[The New Yorker]] |date=July 22, 1974 |access-date=September 1, 2011}}</ref> At a time when the public was accustomed to [[Tammany Hall]] corruption and incompetence, Moses was seen as a savior of government.{{sfn|Caro|1974}}\n",
    "\n",
    "Shortly after [[President of the United States|President]] [[Franklin Delano Roosevelt|Franklin D. Roosevelt's]] [[First inauguration of Franklin D. Roosevelt|inauguration]] in 1933, the [[United States federal government|federal government]] found itself with millions of [[New Deal]] dollars to spend, yet states and cities had few projects ready. Moses was one of the few local officials who had projects [[shovel ready]]. For that reason, New York City was able to obtain significant [[Works Progress Administration]] (WPA), [[Civilian Conservation Corps]] (CCC), and other Depression-era funding. One of his most influential and longest-lasting positions was that of Parks Commissioner of New York City, a role he served from January 18, 1934, to May 23, 1960.<ref>{{Cite web|url=https://www.nycgovparks.org/about/history/commissioners|title=New York City Parks Commissioners : NYC Parks|website=www.nycgovparks.org|language=en|access-date=March 29, 2018}}</ref>\n",
    "\n",
    "==Offices held==\n",
    "The many offices and professional titles that Moses held gave him unusually broad power to shape urban development in the New York metropolitan region. These include, according to the New York Preservation Archive Project:<ref>{{Cite web|url=http://www.nypap.org/preservation-history/robert-moses/|title=Robert Moses {{!}}|website=www.nypap.org|language=en-US|access-date=March 29, 2018}}</ref>\n",
    "*[[Long Island State Park Commission]] (President, 1924–1963)\n",
    "* New York State Council of Parks (Chairman, 1924–1963)\n",
    "*[[Secretary of State of New York|New York Secretary of State]] (1927–1928)\n",
    "* Bethpage State Park Authority (President, 1933–1963)\n",
    "* Emergency Public Works Commission (Chairman, 1933–1934)\n",
    "* Jones Beach Parkway Authority (President, 1933–1963)\n",
    "*[[New York City Department of Parks and Recreation|New York City Department of Parks]] (Commissioner, 1934–1960)\n",
    "* [[Triborough Bridge]] and Tunnel Authority (Chairman, 1934–1968)\n",
    "* New York City Planning Commission (Commissioner, 1942–1960)\n",
    "* New York State Power Authority (Chairman, 1954–1962)\n",
    "* [[1964 New York World's Fair|New York's World Fair]] (President, 1960–1966)\n",
    "* Office of the Governor of New York (Special Advisor on Housing, 1974–1975)\n",
    "\n",
    "==Influence==\n",
    "During the 1920s, Moses sparred with [[Franklin D. Roosevelt]], then head of the Taconic State Park Commission, who favored the prompt construction of a [[parkway]] through the [[Hudson Valley]]. Moses succeeded in diverting funds to his Long Island parkway projects (the [[Northern State Parkway]], the [[Southern State Parkway]] and the [[Wantagh State Parkway]]), although the [[Taconic State Parkway]] was later completed as well.<ref>{{cite web|url=http://www.nycroads.com/roads/taconic/ |title=Taconic State Parkway |website=NYCRoads.com |access-date=May 25, 2006}}</ref> Moses helped build Long Island's [[Meadowbrook State Parkway]]. It was the first fully divided limited access highway in the world.<ref name=\"Leonard 1991 339\">{{cite book|last=Leonard|first=Wallock|title=The Myth of The Master Builder|year=1991|publisher=Journal of Urban History|page=339}}</ref>\n",
    "\n",
    "Moses was a highly influential figure in the initiation of many of the reforms that restructured New York state's government during the 1920s. A 'Reconstruction Commission' headed by Moses produced a highly influential report that provided recommendations that would largely be adopted, including the consolidation of 187 existing agencies under 18 departments, a new executive budget system, and the four-year term limit for the governorship.{{sfn|Caro|1974|pp=106, 260}}\"\"\""
   ]
  },
  {
   "cell_type": "code",
   "execution_count": null,
   "metadata": {},
   "outputs": [],
   "source": [
    "from intelligence_layer.use_cases import LongContextQa, LongContextQaInput\n",
    "from intelligence_layer.core import InMemoryTracer\n",
    "\n",
    "question = \"What is the name of the book about Robert Moses?\"\n",
    "\n",
    "input = LongContextQaInput(text=long_text, question=question)\n",
    "\n",
    "long_context_qa = LongContextQa()\n",
    "tracer = InMemoryTracer()\n",
    "output = long_context_qa.run(input, tracer=tracer)"
   ]
  },
  {
   "cell_type": "code",
   "execution_count": null,
   "metadata": {},
   "outputs": [],
   "source": [
    "Pretty(output.answer)"
   ]
  },
  {
   "cell_type": "markdown",
   "metadata": {},
   "source": [
    "Let's have a look at the source chunk for this answer!"
   ]
  },
  {
   "cell_type": "code",
   "execution_count": null,
   "metadata": {},
   "outputs": [],
   "source": [
    "print(\n",
    "    \"Number of subanswers that contributed to the final answer:\", len(output.subanswers)\n",
    ")\n",
    "print(\"Subanswer:\", output.subanswers[0].answer)\n",
    "print(\"Chunk:\", output.subanswers[0].chunk)"
   ]
  }
 ],
 "metadata": {
  "kernelspec": {
   "display_name": "Python 3 (ipykernel)",
   "language": "python",
   "name": "python3"
  },
  "language_info": {
   "codemirror_mode": {
    "name": "ipython",
    "version": 3
   },
   "file_extension": ".py",
   "mimetype": "text/x-python",
   "name": "python",
   "nbconvert_exporter": "python",
   "pygments_lexer": "ipython3",
   "version": "3.10.12"
  }
 },
 "nbformat": 4,
 "nbformat_minor": 4
}
