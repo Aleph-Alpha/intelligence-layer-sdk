{
 "cells": [
  {
   "cell_type": "code",
   "execution_count": 1,
   "metadata": {},
   "outputs": [
    {
     "data": {
      "text/plain": [
       "True"
      ]
     },
     "execution_count": 1,
     "metadata": {},
     "output_type": "execute_result"
    }
   ],
   "source": [
    "from dotenv import load_dotenv\n",
    "from pydantic import BaseModel\n",
    "\n",
    "load_dotenv()"
   ]
  },
  {
   "cell_type": "markdown",
   "metadata": {},
   "source": [
    "# How to implement a task using an Aleph Alpha model\n",
    "0. Define the task (see [here](./how_to_define_a_task.ipynb))\n",
    "1. Decide which model best suits your use case (for a list of Aleph Alpha models see [here]())\n",
    "2. Define a `Task` subclass\n",
    "   1. Pass the Model to the constructor \n",
    "   2. Implement your domain logic in `do_run()`\n",
    "      1. Generate a `Prompt` via `ControlModel.to_instruct_prompt()`, `PromptTemplate.to_rich_prompt()` or `Prompt.from_text()`\n",
    "      2. Excute the Prompt with the model\n",
    "      3. Map the prompt output to the task output class\n",
    "3. Run and test it\n",
    "\n",
    "# How to log and debug a task\n",
    "1. Use `task_span.log()` to create custome logs in the trace. The task input and output are automatically logged.\n",
    "2. Pass the `task_span` to `subtask.run()` to ensure continous logging through out all steps. \n",
    "3. Use the trace viewer to view and debug the trace\n",
    "   1. Use and display the `InMemoryTracer` in a notebook to automatically send the trace data to the trace viewer\n",
    "   2. To create persistant traces use the `FileTracer` instead\n",
    "\n",
    "# How to use subtasks in your task\n",
    "1. Follow [How to implement a task using an Aleph Alpha model](#how-to-implement-a-task-using-an-aleph-alpha-model) and replace the model class with the appropriate subtask."
   ]
  },
  {
   "cell_type": "code",
   "execution_count": 12,
   "metadata": {},
   "outputs": [],
   "source": [
    "from intelligence_layer.core import Task\n",
    "from intelligence_layer.core.model import CompleteInput, LuminousControlModel\n",
    "from intelligence_layer.core.tracer.tracer import TaskSpan\n",
    "\n",
    "# Define the input and output types for your task\n",
    "\n",
    "class TellAJokeTaskInput(BaseModel):\n",
    "    \"\"\"This is the text we will extract keywords from\"\"\"\n",
    "\n",
    "    topic: str\n",
    "\n",
    "\n",
    "class TellAJokeTaskOutput(BaseModel):\n",
    "    \"\"\"The matching set of keywords we aim to extract\"\"\"\n",
    "\n",
    "    joke: str\n",
    "\n",
    "class TellAJoke(Task[TellAJokeTaskInput, TellAJokeTaskOutput]):\n",
    "    PROMPT_TEMPLATE: str = \"\"\"Tell me a joke about the following topic:\"\"\"\n",
    "\n",
    "    def __init__(\n",
    "        self, model: LuminousControlModel = LuminousControlModel()\n",
    "    ) -> None:\n",
    "        self._model = model\n",
    "\n",
    "    def do_run(\n",
    "        self, input: TellAJokeTaskInput, task_span: TaskSpan\n",
    "    ) -> TellAJokeTaskOutput:\n",
    "        prompt = self._model.to_instruct_prompt(self.PROMPT_TEMPLATE, input.topic)\n",
    "        completion_input = CompleteInput(prompt = prompt)\n",
    "        completion = self._model.complete(completion_input, task_span)\n",
    "        return TellAJokeTaskOutput(joke=completion.completions[0].completion)"
   ]
  },
  {
   "cell_type": "code",
   "execution_count": 15,
   "metadata": {},
   "outputs": [
    {
     "name": "stdout",
     "output_type": "stream",
     "text": [
      "model_version='20240215' completions=[CompletionResult(log_probs=None, completion=' Why did the dolphin go to the dentist? Because he wanted to keep his flipper!', completion_tokens=None, finish_reason='end_of_text', raw_completion=None)] num_tokens_prompt_total=20 num_tokens_generated=20 optimized_prompt=None\n"
     ]
    },
    {
     "data": {
      "text/plain": [
       "TellAJokeTaskOutput(joke=' Why did the dolphin go to the dentist? Because he wanted to keep his flipper!')"
      ]
     },
     "execution_count": 15,
     "metadata": {},
     "output_type": "execute_result"
    }
   ],
   "source": [
    "from intelligence_layer.core.tracer.tracer import NoOpTracer\n",
    "\n",
    "\n",
    "TellAJoke().run(TellAJokeTaskInput(topic=\"Dolphins\"), NoOpTracer())"
   ]
  },
  {
   "cell_type": "markdown",
   "metadata": {},
   "source": [
    "## Using existing tasks as subtasks in your own task \n",
    "\n",
    "- define a task as described [here](./how_to_define_a_task.ipynb)"
   ]
  },
  {
   "cell_type": "code",
   "execution_count": null,
   "metadata": {},
   "outputs": [],
   "source": []
  }
 ],
 "metadata": {
  "kernelspec": {
   "display_name": "Python 3 (ipykernel)",
   "language": "python",
   "name": "python3"
  },
  "language_info": {
   "codemirror_mode": {
    "name": "ipython",
    "version": 3
   },
   "file_extension": ".py",
   "mimetype": "text/x-python",
   "name": "python",
   "nbconvert_exporter": "python",
   "pygments_lexer": "ipython3",
   "version": "3.10.4"
  }
 },
 "nbformat": 4,
 "nbformat_minor": 2
}
