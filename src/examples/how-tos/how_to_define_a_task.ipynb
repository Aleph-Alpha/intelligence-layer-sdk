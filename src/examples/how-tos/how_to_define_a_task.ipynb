{
 "cells": [
  {
   "cell_type": "code",
   "execution_count": 3,
   "metadata": {},
   "outputs": [],
   "source": [
    "from pydantic import BaseModel"
   ]
  },
  {
   "cell_type": "markdown",
   "metadata": {},
   "source": [
    "# How to define a task\n",
    "\n",
    "1. Think about what you want to do and define the requirements for your task\n",
    "2. Define the corresponding input and output in the form of Python classes\n",
    "3. Check if any existing task can be used to fulfill these requirements (see the [Use-case index](../../../README.md#use-case-index))\n",
    "4. (Recommended) Write tests to simulate your use-case and see if you missed any important details \n"
   ]
  },
  {
   "cell_type": "markdown",
   "metadata": {},
   "source": [
    "# Example\n",
    "\n",
    "## Step 1 \n",
    "- I want the LLM to tell a joke about a specific topic\n",
    "- It should work for any topic\n",
    "- It should fail if there is no topic given by the user\n",
    "\n",
    "## Step 2"
   ]
  },
  {
   "cell_type": "code",
   "execution_count": 4,
   "metadata": {},
   "outputs": [],
   "source": [
    "class TellAJokeTaskInput(BaseModel):\n",
    "    topic: str\n",
    "\n",
    "\n",
    "class TellAJokeTaskOutput(BaseModel):\n",
    "    joke: str"
   ]
  },
  {
   "cell_type": "markdown",
   "metadata": {},
   "source": [
    "## Step 3\n",
    "- On first glance the question & answer tasks seem to fulfill the requirements. However, here only the topic for the joke should be specified by the user and the request to tell a joke should be handeled by the task itself. \n",
    "\n",
    "## Step 4\n",
    "\n",
    "```python\n",
    "import TellAJokeTask\n",
    "\n",
    "def test_tell_a_joke_task():\n",
    "    output = TellAJokeTask().run(TellAJokeTaskInput(topic='animals'), NoOpTracer())\n",
    "    assert len(output.joke) > 0 \n",
    "```\n"
   ]
  },
  {
   "cell_type": "code",
   "execution_count": null,
   "metadata": {},
   "outputs": [],
   "source": []
  }
 ],
 "metadata": {
  "kernelspec": {
   "display_name": "Python 3 (ipykernel)",
   "language": "python",
   "name": "python3"
  },
  "language_info": {
   "codemirror_mode": {
    "name": "ipython",
    "version": 3
   },
   "file_extension": ".py",
   "mimetype": "text/x-python",
   "name": "python",
   "nbconvert_exporter": "python",
   "pygments_lexer": "ipython3",
   "version": "3.10.4"
  }
 },
 "nbformat": 4,
 "nbformat_minor": 2
}
