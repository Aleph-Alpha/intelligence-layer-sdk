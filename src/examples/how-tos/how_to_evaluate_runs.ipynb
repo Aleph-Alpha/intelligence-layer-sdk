{
 "cells": [
  {
   "cell_type": "code",
   "execution_count": null,
   "metadata": {},
   "outputs": [],
   "source": [
    "from dotenv import load_dotenv\n",
    "\n",
    "from intelligence_layer.evaluation import (\n",
    "    Evaluator,\n",
    "    InMemoryEvaluationRepository,\n",
    "    InMemoryRunRepository,\n",
    "    InMemoryDatasetRepository,\n",
    ")\n",
    "from intelligence_layer.use_cases import (\n",
    "    SingleLabelClassifyEvaluationLogic,\n",
    ")\n",
    "\n",
    "load_dotenv()"
   ]
  },
  {
   "cell_type": "markdown",
   "metadata": {},
   "source": [
    "# How to perform an evaluation\n",
    "0. Run your tasks on the datasets where you want to evaluate them on. See (how-to-run-a-task)\n",
    "1. Initialize all necessary repositories for the `Evaluator`\n",
    "2. Choose ids of runs to evaluate\n",
    "3. Run the evaluator to evaluate all examples and create a single `EvaluationOverview`\n",
    "4. (Optional) Save the evaluation id for later use"
   ]
  },
  {
   "cell_type": "markdown",
   "metadata": {},
   "source": [
    "### Example"
   ]
  },
  {
   "cell_type": "code",
   "execution_count": null,
   "metadata": {},
   "outputs": [],
   "source": [
    "%%script false --no-raise-error\n",
    "\n",
    "# Step 1\n",
    "dataset_repository = InMemoryDatasetRepository()\n",
    "run_repository = InMemoryRunRepository()\n",
    "evaluation_repository = InMemoryEvaluationRepository()\n",
    "evaluation_logic = SingleLabelClassifyEvaluationLogic()\n",
    "\n",
    "# Step 2\n",
    "run_ids = [\"run_id_of_interest\", \"other_run_id_of_interest\"]\n",
    "\n",
    "# Step 3\n",
    "evaluator = Evaluator(dataset_repository, run_repository, evaluation_repository, \"My joke evaluation\", evaluation_logic)\n",
    "\n",
    "evaluation_overview = evaluator.evaluate_runs(*run_ids)\n",
    "\n",
    "# Step 4\n",
    "print(evaluation_overview.id)"
   ]
  },
  {
   "cell_type": "markdown",
   "metadata": {},
   "source": [
    "\n",
    "```python\n",
    "```"
   ]
  }
 ],
 "metadata": {
  "kernelspec": {
   "display_name": "intelligence-layer-d3iSWYpm-py3.10",
   "language": "python",
   "name": "python3"
  },
  "language_info": {
   "codemirror_mode": {
    "name": "ipython",
    "version": 3
   },
   "file_extension": ".py",
   "mimetype": "text/x-python",
   "name": "python",
   "nbconvert_exporter": "python",
   "pygments_lexer": "ipython3",
   "version": "3.10.12"
  }
 },
 "nbformat": 4,
 "nbformat_minor": 2
}
