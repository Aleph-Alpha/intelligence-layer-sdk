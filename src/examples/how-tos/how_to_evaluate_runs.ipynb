{
 "cells": [
  {
   "cell_type": "markdown",
   "metadata": {},
   "source": [
    "# How to evaluate runs\n",
    "0. Run your tasks on the datasets where you want to evaluate them on (see [here](./how_to_run_a_task_on_a_dataset.ipynb))\n",
    "   - When evaluating multiple runs, all of them need the same data types \n",
    "2. Initialize all necessary repositories for the `Evaluator`, and an `EvaluationLogic`.\n",
    "3. Run the evaluator to evaluate all examples and create a single `EvaluationOverview`\n",
    "4. (Optional) Save the evaluation id for later use"
   ]
  },
  {
   "cell_type": "markdown",
   "metadata": {},
   "source": [
    "### Example"
   ]
  },
  {
   "cell_type": "code",
   "execution_count": null,
   "metadata": {},
   "outputs": [],
   "source": [
    "%%script false --no-raise-error # the following code does not execute as the runs do not exist\n",
    "\n",
    "# Step 0\n",
    "run_ids = [\"run_id_of_interest\", \"other_run_id_of_interest\"]\n",
    "\n",
    "# Step 1\n",
    "dataset_repository = InMemoryDatasetRepository()\n",
    "run_repository = InMemoryRunRepository()\n",
    "evaluation_repository = InMemoryEvaluationRepository()\n",
    "evaluation_logic = SingleLabelClassifyEvaluationLogic()\n",
    "\n",
    "# Step 3\n",
    "evaluator = Evaluator(dataset_repository, run_repository, evaluation_repository, \"My joke evaluation\", evaluation_logic)\n",
    "\n",
    "evaluation_overview = evaluator.evaluate_runs(*run_ids)\n",
    "\n",
    "# Step 4\n",
    "print(evaluation_overview.id)"
   ]
  },
  {
   "cell_type": "markdown",
   "metadata": {},
   "source": [
    "\n",
    "```python\n",
    "```"
   ]
  }
 ],
 "metadata": {
  "kernelspec": {
   "display_name": "intelligence-layer-d3iSWYpm-py3.10",
   "language": "python",
   "name": "python3"
  },
  "language_info": {
   "codemirror_mode": {
    "name": "ipython",
    "version": 3
   },
   "file_extension": ".py",
   "mimetype": "text/x-python",
   "name": "python",
   "nbconvert_exporter": "python",
   "pygments_lexer": "ipython3",
   "version": "3.10.12"
  }
 },
 "nbformat": 4,
 "nbformat_minor": 2
}
