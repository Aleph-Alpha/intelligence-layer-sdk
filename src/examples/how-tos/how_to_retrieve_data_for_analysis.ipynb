{
 "cells": [
  {
   "cell_type": "markdown",
   "metadata": {},
   "source": [
    "# How to retrieve data for analysis\n",
    "1. Initialize the relevant repositories for the data of interest\n",
    "2. Retrieve the data\n",
    "   - from the repositories directly for a quick overview of specific data of interest\n",
    "   - via the RepositoryNavigator to join data from different repositories together.\n",
    "\n",
    "### Example"
   ]
  },
  {
   "cell_type": "code",
   "execution_count": null,
   "metadata": {},
   "outputs": [],
   "source": [
    "from collections.abc import Sequence\n",
    "from example_data import DummyEvaluation, example_repositories\n",
    "from intelligence_layer.evaluation import (\n",
    "    InMemoryDatasetRepository,\n",
    "    InMemoryRunRepository,\n",
    "    InMemoryEvaluationRepository,\n",
    ")\n",
    "from intelligence_layer.evaluation import RepositoryNavigator\n",
    "from intelligence_layer.evaluation import (\n",
    "    evaluation_lineages_to_pandas,\n",
    ")\n",
    "\n",
    "# Step 1\n",
    "dataset_repository, run_repository, evaluation_repository = example_repositories()\n",
    "# Step 2 - direct access of data\n",
    "\n",
    "dataset_repository.dataset(\"my-dataset-id\")\n",
    "dataset_repository.example(\n",
    "    \"my-dataset-id\", \"my-example-of-interest\", input_type=str, expected_output_type=str\n",
    ")\n",
    "\n",
    "run_repository.example_outputs(\"my-run-id\", output_type=str)\n",
    "run_repository.example_output(\"my-run-id\", \"my-example-of-interest\", output_type=str)\n",
    "\n",
    "evaluation_repository.example_evaluations(\n",
    "    \"my-evaluation-id\", evaluation_type=DummyEvaluation\n",
    ")\n",
    "evaluation_repository.example_evaluation(\n",
    "    \"my-evaluation-id\", \"my-example-of-interest\", evaluation_type=DummyEvaluation\n",
    ")\n",
    "\n",
    "# Step 2 - retrieve linked data across all repositories\n",
    "\n",
    "navigator = RepositoryNavigator(\n",
    "    dataset_repository=dataset_repository,\n",
    "    run_repository=run_repository,\n",
    "    evaluation_repository=evaluation_repository,\n",
    ")\n",
    "eval_id = \"my-evaluation-id\"\n",
    "\n",
    "lineages = navigator.evaluation_lineages(\n",
    "    eval_id,\n",
    "    input_type=str,\n",
    "    expected_output_type=str,\n",
    "    output_type=Sequence[str],\n",
    "    evaluation_type=str,\n",
    ")\n",
    "evaluation_lineages_to_pandas(lineages).head(2)"
   ]
  },
  {
   "cell_type": "code",
   "execution_count": null,
   "metadata": {},
   "outputs": [],
   "source": []
  },
  {
   "cell_type": "markdown",
   "metadata": {},
   "source": [
    "\n",
    "\n",
    "lineages = evaluator.evaluation_lineages(evaluation_id)\n",
    "\n",
    "evaluation_lineages_to_pandas(lineages)"
   ]
  }
 ],
 "metadata": {
  "kernelspec": {
   "display_name": "intelligence-layer-d3iSWYpm-py3.10",
   "language": "python",
   "name": "python3"
  },
  "language_info": {
   "codemirror_mode": {
    "name": "ipython",
    "version": 3
   },
   "file_extension": ".py",
   "mimetype": "text/x-python",
   "name": "python",
   "nbconvert_exporter": "python",
   "pygments_lexer": "ipython3",
   "version": "3.10.12"
  }
 },
 "nbformat": 4,
 "nbformat_minor": 2
}
