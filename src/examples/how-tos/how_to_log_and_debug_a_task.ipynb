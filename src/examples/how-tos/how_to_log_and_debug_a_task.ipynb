{
 "cells": [
  {
   "cell_type": "code",
   "execution_count": 18,
   "metadata": {},
   "outputs": [
    {
     "data": {
      "text/plain": [
       "True"
      ]
     },
     "execution_count": 18,
     "metadata": {},
     "output_type": "execute_result"
    }
   ],
   "source": [
    "from dotenv import load_dotenv\n",
    "from intelligence_layer.core import (\n",
    "    Task,\n",
    "    TaskSpan,\n",
    "    CompleteInput,\n",
    "    LuminousControlModel,\n",
    "    InMemoryTracer\n",
    "\n",
    ")\n",
    "from aleph_alpha_client import Prompt\n",
    "import random\n",
    "load_dotenv()"
   ]
  },
  {
   "cell_type": "markdown",
   "metadata": {},
   "source": [
    "# How to log and debug a task\n",
    "Apart from the normal python tools for logging (e.g. `print`) and debugging (e.g. debugger), the Intelligence Layer offers logging and debugging via the `Tracer`.  \n",
    "Here are several steps you can use to debug tasks with the trace feature:\n",
    "\n",
    "-----\n",
    "Most logging of a task (input, output, time) is done simply by inheriting from `Task`. This logs to a trace.\n",
    "\n",
    " - If you don't care about logging and tracing, use the `NoOpTracer`\n",
    " - To create custom logging messages in a trace use `task_span.log()`.\n",
    " - To map a complex execution flow of a task into a single trace, pass the `task_span` of the `do_run` to other execution methods (e.g. `Task.run()` or `model.complete()`). \n",
    "   - If the execution method is not provided by the intelligence layer, the tracing of input and output has to manually happen. See the implementation of `Task.run()` for an example.\n",
    " - Use the [trace viewer](../../../README.md#running-the-trace-viewer) to view and inspect the trace\n",
    "   - Use and display an `InMemoryTracer` in a notebook to automatically send the trace data to the trace viewer\n",
    "   - To create persistant traces use the `FileTracer` instead, which can manually be uploaded to the trace viewer"
   ]
  },
  {
   "cell_type": "markdown",
   "metadata": {},
   "source": [
    "# Example"
   ]
  },
  {
   "cell_type": "code",
   "execution_count": 17,
   "metadata": {},
   "outputs": [
    {
     "name": "stdout",
     "output_type": "stream",
     "text": [
      "Trace viewer not found under http://localhost:5173.\n",
      "Consider running it for a better viewing experience.\n",
      "If it is, set `TRACE_VIEWER_URL` in the environment.\n"
     ]
    },
    {
     "data": {
      "text/html": [
       "<pre style=\"white-space:pre;overflow-x:auto;line-height:normal;font-family:Menlo,'DejaVu Sans Mono',consolas,'Courier New',monospace\">Trace\n",
       "└── DummyTask\n",
       "    ├── ╭───────────────────────────────────────────────── Input ─────────────────────────────────────────────────╮\n",
       "    │   │ <span style=\"color: #e6db74; text-decoration-color: #e6db74; background-color: #272822\">\"\"</span><span style=\"background-color: #272822\">                                                                                                     </span> │\n",
       "    │   ╰─────────────────────────────────────────────────────────────────────────────────────────────────────────╯\n",
       "    ├── ╭──────────────────────── My very important log message that logs a random value ─────────────────────────╮\n",
       "    │   │ <span style=\"color: #ae81ff; text-decoration-color: #ae81ff; background-color: #272822\">0.9113332494061679</span><span style=\"background-color: #272822\">                                                                                     </span> │\n",
       "    │   ╰─────────────────────────────────────────────────────────────────────────────────────────────────────────╯\n",
       "    ├── _Complete\n",
       "    │   ├── ╭─────────────────────────────────────────────── Input ───────────────────────────────────────────────╮\n",
       "    │   │   │ <span style=\"color: #f8f8f2; text-decoration-color: #f8f8f2; background-color: #272822\">{</span><span style=\"background-color: #272822\">                                                                                                  </span> │\n",
       "    │   │   │ <span style=\"color: #f8f8f2; text-decoration-color: #f8f8f2; background-color: #272822\">  </span><span style=\"color: #ff4689; text-decoration-color: #ff4689; background-color: #272822\">\"prompt\"</span><span style=\"color: #f8f8f2; text-decoration-color: #f8f8f2; background-color: #272822\">: {</span><span style=\"background-color: #272822\">                                                                                      </span> │\n",
       "    │   │   │ <span style=\"color: #f8f8f2; text-decoration-color: #f8f8f2; background-color: #272822\">    </span><span style=\"color: #ff4689; text-decoration-color: #ff4689; background-color: #272822\">\"items\"</span><span style=\"color: #f8f8f2; text-decoration-color: #f8f8f2; background-color: #272822\">: [</span><span style=\"background-color: #272822\">                                                                                     </span> │\n",
       "    │   │   │ <span style=\"color: #f8f8f2; text-decoration-color: #f8f8f2; background-color: #272822\">      {</span><span style=\"background-color: #272822\">                                                                                            </span> │\n",
       "    │   │   │ <span style=\"color: #f8f8f2; text-decoration-color: #f8f8f2; background-color: #272822\">        </span><span style=\"color: #ff4689; text-decoration-color: #ff4689; background-color: #272822\">\"text\"</span><span style=\"color: #f8f8f2; text-decoration-color: #f8f8f2; background-color: #272822\">: </span><span style=\"color: #e6db74; text-decoration-color: #e6db74; background-color: #272822\">\"\"</span><span style=\"color: #f8f8f2; text-decoration-color: #f8f8f2; background-color: #272822\">,</span><span style=\"background-color: #272822\">                                                                                </span> │\n",
       "    │   │   │ <span style=\"color: #f8f8f2; text-decoration-color: #f8f8f2; background-color: #272822\">        </span><span style=\"color: #ff4689; text-decoration-color: #ff4689; background-color: #272822\">\"controls\"</span><span style=\"color: #f8f8f2; text-decoration-color: #f8f8f2; background-color: #272822\">: []</span><span style=\"background-color: #272822\">                                                                             </span> │\n",
       "    │   │   │ <span style=\"color: #f8f8f2; text-decoration-color: #f8f8f2; background-color: #272822\">      }</span><span style=\"background-color: #272822\">                                                                                            </span> │\n",
       "    │   │   │ <span style=\"color: #f8f8f2; text-decoration-color: #f8f8f2; background-color: #272822\">    ]</span><span style=\"background-color: #272822\">                                                                                              </span> │\n",
       "    │   │   │ <span style=\"color: #f8f8f2; text-decoration-color: #f8f8f2; background-color: #272822\">  },</span><span style=\"background-color: #272822\">                                                                                               </span> │\n",
       "    │   │   │ <span style=\"color: #f8f8f2; text-decoration-color: #f8f8f2; background-color: #272822\">  </span><span style=\"color: #ff4689; text-decoration-color: #ff4689; background-color: #272822\">\"temperature\"</span><span style=\"color: #f8f8f2; text-decoration-color: #f8f8f2; background-color: #272822\">: </span><span style=\"color: #ae81ff; text-decoration-color: #ae81ff; background-color: #272822\">0.2</span><span style=\"background-color: #272822\">                                                                               </span> │\n",
       "    │   │   │ <span style=\"color: #f8f8f2; text-decoration-color: #f8f8f2; background-color: #272822\">}</span><span style=\"background-color: #272822\">                                                                                                  </span> │\n",
       "    │   │   ╰─────────────────────────────────────────────────────────────────────────────────────────────────────╯\n",
       "    │   ├── ╭─────────────────────────────────────────────── Model ───────────────────────────────────────────────╮\n",
       "    │   │   │ <span style=\"color: #e6db74; text-decoration-color: #e6db74; background-color: #272822\">\"luminous-base-control\"</span><span style=\"background-color: #272822\">                                                                            </span> │\n",
       "    │   │   ╰─────────────────────────────────────────────────────────────────────────────────────────────────────╯\n",
       "    │   └── ╭────────────────────────────────────────────── Output ───────────────────────────────────────────────╮\n",
       "    │       │ <span style=\"color: #f8f8f2; text-decoration-color: #f8f8f2; background-color: #272822\">{</span><span style=\"background-color: #272822\">                                                                                                  </span> │\n",
       "    │       │ <span style=\"color: #f8f8f2; text-decoration-color: #f8f8f2; background-color: #272822\">  </span><span style=\"color: #ff4689; text-decoration-color: #ff4689; background-color: #272822\">\"model_version\"</span><span style=\"color: #f8f8f2; text-decoration-color: #f8f8f2; background-color: #272822\">: </span><span style=\"color: #e6db74; text-decoration-color: #e6db74; background-color: #272822\">\"20240215\"</span><span style=\"color: #f8f8f2; text-decoration-color: #f8f8f2; background-color: #272822\">,</span><span style=\"background-color: #272822\">                                                                     </span> │\n",
       "    │       │ <span style=\"color: #f8f8f2; text-decoration-color: #f8f8f2; background-color: #272822\">  </span><span style=\"color: #ff4689; text-decoration-color: #ff4689; background-color: #272822\">\"completions\"</span><span style=\"color: #f8f8f2; text-decoration-color: #f8f8f2; background-color: #272822\">: [</span><span style=\"background-color: #272822\">                                                                                 </span> │\n",
       "    │       │ <span style=\"color: #f8f8f2; text-decoration-color: #f8f8f2; background-color: #272822\">    {</span><span style=\"background-color: #272822\">                                                                                              </span> │\n",
       "    │       │ <span style=\"color: #f8f8f2; text-decoration-color: #f8f8f2; background-color: #272822\">      </span><span style=\"color: #ff4689; text-decoration-color: #ff4689; background-color: #272822\">\"completion\"</span><span style=\"color: #f8f8f2; text-decoration-color: #f8f8f2; background-color: #272822\">: </span><span style=\"color: #e6db74; text-decoration-color: #e6db74; background-color: #272822\">\" The point of this passage is to describe the process of creating a new </span><span style=\"background-color: #272822\">      </span> │\n",
       "    │       │ <span style=\"color: #e6db74; text-decoration-color: #e6db74; background-color: #272822\">product. The passage begins by stating that the company is creating a new product, and then goes on</span> │\n",
       "    │       │ <span style=\"color: #e6db74; text-decoration-color: #e6db74; background-color: #272822\">to describe the steps involved in the process. The passage also mentions that the company is using </span> │\n",
       "    │       │ <span style=\"color: #e6db74; text-decoration-color: #e6db74; background-color: #272822\">a new technology to create the product.\"</span><span style=\"color: #f8f8f2; text-decoration-color: #f8f8f2; background-color: #272822\">,</span><span style=\"background-color: #272822\">                                                          </span> │\n",
       "    │       │ <span style=\"color: #f8f8f2; text-decoration-color: #f8f8f2; background-color: #272822\">      </span><span style=\"color: #ff4689; text-decoration-color: #ff4689; background-color: #272822\">\"finish_reason\"</span><span style=\"color: #f8f8f2; text-decoration-color: #f8f8f2; background-color: #272822\">: </span><span style=\"color: #e6db74; text-decoration-color: #e6db74; background-color: #272822\">\"end_of_text\"</span><span style=\"background-color: #272822\">                                                               </span> │\n",
       "    │       │ <span style=\"color: #f8f8f2; text-decoration-color: #f8f8f2; background-color: #272822\">    }</span><span style=\"background-color: #272822\">                                                                                              </span> │\n",
       "    │       │ <span style=\"color: #f8f8f2; text-decoration-color: #f8f8f2; background-color: #272822\">  ],</span><span style=\"background-color: #272822\">                                                                                               </span> │\n",
       "    │       │ <span style=\"color: #f8f8f2; text-decoration-color: #f8f8f2; background-color: #272822\">  </span><span style=\"color: #ff4689; text-decoration-color: #ff4689; background-color: #272822\">\"num_tokens_prompt_total\"</span><span style=\"color: #f8f8f2; text-decoration-color: #f8f8f2; background-color: #272822\">: </span><span style=\"color: #ae81ff; text-decoration-color: #ae81ff; background-color: #272822\">1</span><span style=\"color: #f8f8f2; text-decoration-color: #f8f8f2; background-color: #272822\">,</span><span style=\"background-color: #272822\">                                                                    </span> │\n",
       "    │       │ <span style=\"color: #f8f8f2; text-decoration-color: #f8f8f2; background-color: #272822\">  </span><span style=\"color: #ff4689; text-decoration-color: #ff4689; background-color: #272822\">\"num_tokens_generated\"</span><span style=\"color: #f8f8f2; text-decoration-color: #f8f8f2; background-color: #272822\">: </span><span style=\"color: #ae81ff; text-decoration-color: #ae81ff; background-color: #272822\">61</span><span style=\"background-color: #272822\">                                                                       </span> │\n",
       "    │       │ <span style=\"color: #f8f8f2; text-decoration-color: #f8f8f2; background-color: #272822\">}</span><span style=\"background-color: #272822\">                                                                                                  </span> │\n",
       "    │       ╰─────────────────────────────────────────────────────────────────────────────────────────────────────╯\n",
       "    └── ╭──────────────────────────────────────────────── Output ─────────────────────────────────────────────────╮\n",
       "        │ <span style=\"color: #e6db74; text-decoration-color: #e6db74; background-color: #272822\">\" The point of this passage is to describe the process of creating a new product. The passage begins by</span> │\n",
       "        │ <span style=\"color: #e6db74; text-decoration-color: #e6db74; background-color: #272822\">stating that the company is creating a new product, and then goes on to describe the steps involved in </span> │\n",
       "        │ <span style=\"color: #e6db74; text-decoration-color: #e6db74; background-color: #272822\">the process. The passage also mentions that the company is using a new technology to create the </span><span style=\"background-color: #272822\">       </span> │\n",
       "        │ <span style=\"color: #e6db74; text-decoration-color: #e6db74; background-color: #272822\">product.\"</span><span style=\"background-color: #272822\">                                                                                              </span> │\n",
       "        ╰─────────────────────────────────────────────────────────────────────────────────────────────────────────╯\n",
       "</pre>\n"
      ],
      "text/plain": [
       "Trace\n",
       "└── DummyTask\n",
       "    ├── ╭───────────────────────────────────────────────── Input ─────────────────────────────────────────────────╮\n",
       "    │   │ \u001b[38;2;230;219;116;48;2;39;40;34m\"\"\u001b[0m\u001b[48;2;39;40;34m                                                                                                     \u001b[0m │\n",
       "    │   ╰─────────────────────────────────────────────────────────────────────────────────────────────────────────╯\n",
       "    ├── ╭──────────────────────── My very important log message that logs a random value ─────────────────────────╮\n",
       "    │   │ \u001b[38;2;174;129;255;48;2;39;40;34m0.9113332494061679\u001b[0m\u001b[48;2;39;40;34m                                                                                     \u001b[0m │\n",
       "    │   ╰─────────────────────────────────────────────────────────────────────────────────────────────────────────╯\n",
       "    ├── _Complete\n",
       "    │   ├── ╭─────────────────────────────────────────────── Input ───────────────────────────────────────────────╮\n",
       "    │   │   │ \u001b[38;2;248;248;242;48;2;39;40;34m{\u001b[0m\u001b[48;2;39;40;34m                                                                                                  \u001b[0m │\n",
       "    │   │   │ \u001b[38;2;248;248;242;48;2;39;40;34m  \u001b[0m\u001b[38;2;255;70;137;48;2;39;40;34m\"prompt\"\u001b[0m\u001b[38;2;248;248;242;48;2;39;40;34m:\u001b[0m\u001b[38;2;248;248;242;48;2;39;40;34m \u001b[0m\u001b[38;2;248;248;242;48;2;39;40;34m{\u001b[0m\u001b[48;2;39;40;34m                                                                                      \u001b[0m │\n",
       "    │   │   │ \u001b[38;2;248;248;242;48;2;39;40;34m    \u001b[0m\u001b[38;2;255;70;137;48;2;39;40;34m\"items\"\u001b[0m\u001b[38;2;248;248;242;48;2;39;40;34m:\u001b[0m\u001b[38;2;248;248;242;48;2;39;40;34m \u001b[0m\u001b[38;2;248;248;242;48;2;39;40;34m[\u001b[0m\u001b[48;2;39;40;34m                                                                                     \u001b[0m │\n",
       "    │   │   │ \u001b[38;2;248;248;242;48;2;39;40;34m      \u001b[0m\u001b[38;2;248;248;242;48;2;39;40;34m{\u001b[0m\u001b[48;2;39;40;34m                                                                                            \u001b[0m │\n",
       "    │   │   │ \u001b[38;2;248;248;242;48;2;39;40;34m        \u001b[0m\u001b[38;2;255;70;137;48;2;39;40;34m\"text\"\u001b[0m\u001b[38;2;248;248;242;48;2;39;40;34m:\u001b[0m\u001b[38;2;248;248;242;48;2;39;40;34m \u001b[0m\u001b[38;2;230;219;116;48;2;39;40;34m\"\"\u001b[0m\u001b[38;2;248;248;242;48;2;39;40;34m,\u001b[0m\u001b[48;2;39;40;34m                                                                                \u001b[0m │\n",
       "    │   │   │ \u001b[38;2;248;248;242;48;2;39;40;34m        \u001b[0m\u001b[38;2;255;70;137;48;2;39;40;34m\"controls\"\u001b[0m\u001b[38;2;248;248;242;48;2;39;40;34m:\u001b[0m\u001b[38;2;248;248;242;48;2;39;40;34m \u001b[0m\u001b[38;2;248;248;242;48;2;39;40;34m[]\u001b[0m\u001b[48;2;39;40;34m                                                                             \u001b[0m │\n",
       "    │   │   │ \u001b[38;2;248;248;242;48;2;39;40;34m      \u001b[0m\u001b[38;2;248;248;242;48;2;39;40;34m}\u001b[0m\u001b[48;2;39;40;34m                                                                                            \u001b[0m │\n",
       "    │   │   │ \u001b[38;2;248;248;242;48;2;39;40;34m    \u001b[0m\u001b[38;2;248;248;242;48;2;39;40;34m]\u001b[0m\u001b[48;2;39;40;34m                                                                                              \u001b[0m │\n",
       "    │   │   │ \u001b[38;2;248;248;242;48;2;39;40;34m  \u001b[0m\u001b[38;2;248;248;242;48;2;39;40;34m},\u001b[0m\u001b[48;2;39;40;34m                                                                                               \u001b[0m │\n",
       "    │   │   │ \u001b[38;2;248;248;242;48;2;39;40;34m  \u001b[0m\u001b[38;2;255;70;137;48;2;39;40;34m\"temperature\"\u001b[0m\u001b[38;2;248;248;242;48;2;39;40;34m:\u001b[0m\u001b[38;2;248;248;242;48;2;39;40;34m \u001b[0m\u001b[38;2;174;129;255;48;2;39;40;34m0.2\u001b[0m\u001b[48;2;39;40;34m                                                                               \u001b[0m │\n",
       "    │   │   │ \u001b[38;2;248;248;242;48;2;39;40;34m}\u001b[0m\u001b[48;2;39;40;34m                                                                                                  \u001b[0m │\n",
       "    │   │   ╰─────────────────────────────────────────────────────────────────────────────────────────────────────╯\n",
       "    │   ├── ╭─────────────────────────────────────────────── Model ───────────────────────────────────────────────╮\n",
       "    │   │   │ \u001b[38;2;230;219;116;48;2;39;40;34m\"luminous-base-control\"\u001b[0m\u001b[48;2;39;40;34m                                                                            \u001b[0m │\n",
       "    │   │   ╰─────────────────────────────────────────────────────────────────────────────────────────────────────╯\n",
       "    │   └── ╭────────────────────────────────────────────── Output ───────────────────────────────────────────────╮\n",
       "    │       │ \u001b[38;2;248;248;242;48;2;39;40;34m{\u001b[0m\u001b[48;2;39;40;34m                                                                                                  \u001b[0m │\n",
       "    │       │ \u001b[38;2;248;248;242;48;2;39;40;34m  \u001b[0m\u001b[38;2;255;70;137;48;2;39;40;34m\"model_version\"\u001b[0m\u001b[38;2;248;248;242;48;2;39;40;34m:\u001b[0m\u001b[38;2;248;248;242;48;2;39;40;34m \u001b[0m\u001b[38;2;230;219;116;48;2;39;40;34m\"20240215\"\u001b[0m\u001b[38;2;248;248;242;48;2;39;40;34m,\u001b[0m\u001b[48;2;39;40;34m                                                                     \u001b[0m │\n",
       "    │       │ \u001b[38;2;248;248;242;48;2;39;40;34m  \u001b[0m\u001b[38;2;255;70;137;48;2;39;40;34m\"completions\"\u001b[0m\u001b[38;2;248;248;242;48;2;39;40;34m:\u001b[0m\u001b[38;2;248;248;242;48;2;39;40;34m \u001b[0m\u001b[38;2;248;248;242;48;2;39;40;34m[\u001b[0m\u001b[48;2;39;40;34m                                                                                 \u001b[0m │\n",
       "    │       │ \u001b[38;2;248;248;242;48;2;39;40;34m    \u001b[0m\u001b[38;2;248;248;242;48;2;39;40;34m{\u001b[0m\u001b[48;2;39;40;34m                                                                                              \u001b[0m │\n",
       "    │       │ \u001b[38;2;248;248;242;48;2;39;40;34m      \u001b[0m\u001b[38;2;255;70;137;48;2;39;40;34m\"completion\"\u001b[0m\u001b[38;2;248;248;242;48;2;39;40;34m:\u001b[0m\u001b[38;2;248;248;242;48;2;39;40;34m \u001b[0m\u001b[38;2;230;219;116;48;2;39;40;34m\" The point of this passage is to describe the process of creating a new \u001b[0m\u001b[48;2;39;40;34m      \u001b[0m │\n",
       "    │       │ \u001b[38;2;230;219;116;48;2;39;40;34mproduct. The passage begins by stating that the company is creating a new product, and then goes on\u001b[0m │\n",
       "    │       │ \u001b[38;2;230;219;116;48;2;39;40;34mto describe the steps involved in the process. The passage also mentions that the company is using \u001b[0m │\n",
       "    │       │ \u001b[38;2;230;219;116;48;2;39;40;34ma new technology to create the product.\"\u001b[0m\u001b[38;2;248;248;242;48;2;39;40;34m,\u001b[0m\u001b[48;2;39;40;34m                                                          \u001b[0m │\n",
       "    │       │ \u001b[38;2;248;248;242;48;2;39;40;34m      \u001b[0m\u001b[38;2;255;70;137;48;2;39;40;34m\"finish_reason\"\u001b[0m\u001b[38;2;248;248;242;48;2;39;40;34m:\u001b[0m\u001b[38;2;248;248;242;48;2;39;40;34m \u001b[0m\u001b[38;2;230;219;116;48;2;39;40;34m\"end_of_text\"\u001b[0m\u001b[48;2;39;40;34m                                                               \u001b[0m │\n",
       "    │       │ \u001b[38;2;248;248;242;48;2;39;40;34m    \u001b[0m\u001b[38;2;248;248;242;48;2;39;40;34m}\u001b[0m\u001b[48;2;39;40;34m                                                                                              \u001b[0m │\n",
       "    │       │ \u001b[38;2;248;248;242;48;2;39;40;34m  \u001b[0m\u001b[38;2;248;248;242;48;2;39;40;34m],\u001b[0m\u001b[48;2;39;40;34m                                                                                               \u001b[0m │\n",
       "    │       │ \u001b[38;2;248;248;242;48;2;39;40;34m  \u001b[0m\u001b[38;2;255;70;137;48;2;39;40;34m\"num_tokens_prompt_total\"\u001b[0m\u001b[38;2;248;248;242;48;2;39;40;34m:\u001b[0m\u001b[38;2;248;248;242;48;2;39;40;34m \u001b[0m\u001b[38;2;174;129;255;48;2;39;40;34m1\u001b[0m\u001b[38;2;248;248;242;48;2;39;40;34m,\u001b[0m\u001b[48;2;39;40;34m                                                                    \u001b[0m │\n",
       "    │       │ \u001b[38;2;248;248;242;48;2;39;40;34m  \u001b[0m\u001b[38;2;255;70;137;48;2;39;40;34m\"num_tokens_generated\"\u001b[0m\u001b[38;2;248;248;242;48;2;39;40;34m:\u001b[0m\u001b[38;2;248;248;242;48;2;39;40;34m \u001b[0m\u001b[38;2;174;129;255;48;2;39;40;34m61\u001b[0m\u001b[48;2;39;40;34m                                                                       \u001b[0m │\n",
       "    │       │ \u001b[38;2;248;248;242;48;2;39;40;34m}\u001b[0m\u001b[48;2;39;40;34m                                                                                                  \u001b[0m │\n",
       "    │       ╰─────────────────────────────────────────────────────────────────────────────────────────────────────╯\n",
       "    └── ╭──────────────────────────────────────────────── Output ─────────────────────────────────────────────────╮\n",
       "        │ \u001b[38;2;230;219;116;48;2;39;40;34m\" The point of this passage is to describe the process of creating a new product. The passage begins by\u001b[0m │\n",
       "        │ \u001b[38;2;230;219;116;48;2;39;40;34mstating that the company is creating a new product, and then goes on to describe the steps involved in \u001b[0m │\n",
       "        │ \u001b[38;2;230;219;116;48;2;39;40;34mthe process. The passage also mentions that the company is using a new technology to create the \u001b[0m\u001b[48;2;39;40;34m       \u001b[0m │\n",
       "        │ \u001b[38;2;230;219;116;48;2;39;40;34mproduct.\"\u001b[0m\u001b[48;2;39;40;34m                                                                                              \u001b[0m │\n",
       "        ╰─────────────────────────────────────────────────────────────────────────────────────────────────────────╯\n"
      ]
     },
     "metadata": {},
     "output_type": "display_data"
    }
   ],
   "source": [
    "class DummyTask(Task[str, str]):\n",
    "    def __init__(self, model: LuminousControlModel = LuminousControlModel()) -> None:\n",
    "        self._model = model\n",
    "\n",
    "    def do_run(self, input: str, task_span: TaskSpan) -> str:\n",
    "        should_output = random.random()\n",
    "        # log a custom message and value\n",
    "        task_span.log(\n",
    "            \"My very important log message that logs a random value\", should_output\n",
    "        )\n",
    "        if should_output > 0.5:\n",
    "            model_input = CompleteInput(prompt=Prompt.from_text(input), temperature=0.2)\n",
    "            # Create a trace tree by passing task_span to .run or .complete methods.\n",
    "            completion = self._model.complete(model_input, task_span)\n",
    "            return completion.completions[0].completion\n",
    "        else:\n",
    "            return \"Nope!\"\n",
    "\n",
    "\n",
    "tracer = InMemoryTracer()\n",
    "DummyTask().run(\"\", tracer)\n",
    "\n",
    "# display an InMemoryTracer in a notebook and send the data to the trace viewer\n",
    "display(tracer)\n",
    "\n",
    "pass"
   ]
  },
  {
   "cell_type": "code",
   "execution_count": null,
   "metadata": {},
   "outputs": [],
   "source": []
  }
 ],
 "metadata": {
  "kernelspec": {
   "display_name": "intelligence-layer-d3iSWYpm-py3.10",
   "language": "python",
   "name": "python3"
  },
  "language_info": {
   "codemirror_mode": {
    "name": "ipython",
    "version": 3
   },
   "file_extension": ".py",
   "mimetype": "text/x-python",
   "name": "python",
   "nbconvert_exporter": "python",
   "pygments_lexer": "ipython3",
   "version": "3.10.12"
  }
 },
 "nbformat": 4,
 "nbformat_minor": 2
}
