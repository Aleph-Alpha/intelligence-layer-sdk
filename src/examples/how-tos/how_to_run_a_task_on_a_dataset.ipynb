{
 "cells": [
  {
   "cell_type": "code",
   "execution_count": null,
   "metadata": {},
   "outputs": [],
   "source": [
    "from intelligence_layer.core import Task, TaskSpan\n",
    "from intelligence_layer.evaluation import (\n",
    "    InMemoryRunRepository,\n",
    "    Runner,\n",
    "    InMemoryDatasetRepository,\n",
    ")"
   ]
  },
  {
   "cell_type": "markdown",
   "metadata": {},
   "source": [
    "# How to run a task on a dataset\n",
    "0. Create a suitable dataset (see [here](./how_to_create_a_dataset.ipynb)) and a task (see [here](./how_to_implement_a_task.ipynb)).\n",
    "1. Initialize the task, a `DatasetRepository` and a `RunRepository`\n",
    "    - The `DatasetRepository` needs to contain the dataset.\n",
    "    - The `RunRepository` stores results.\n",
    "2. Use the `Runner` to run the task on the given dataset via `run_dataset`\n",
    "3. Save the id of the resulting `RunOverview`\n",
    "\n",
    "### Example"
   ]
  },
  {
   "cell_type": "code",
   "execution_count": null,
   "metadata": {},
   "outputs": [],
   "source": [
    "# Step 1\n",
    "class DummyTask(Task[None, None]):\n",
    "    def do_run(self, input: None, task_span: TaskSpan) -> None:\n",
    "        return None\n",
    "\n",
    "\n",
    "dataset_id = \"my-dataset-id\"\n",
    "dataset_repository = InMemoryDatasetRepository()\n",
    "run_repository = InMemoryRunRepository()\n",
    "task = DummyTask()\n",
    "\n",
    "# Step 2\n",
    "runner = Runner(task, dataset_repository, run_repository, \"MyRunDescription\")\n",
    "run_overview = runner.run_dataset(dataset_id)\n",
    "\n",
    "# Step 3\n",
    "print(run_overview.id)"
   ]
  }
 ],
 "metadata": {
  "kernelspec": {
   "display_name": "intelligence-layer-d3iSWYpm-py3.10",
   "language": "python",
   "name": "python3"
  },
  "language_info": {
   "codemirror_mode": {
    "name": "ipython",
    "version": 3
   },
   "file_extension": ".py",
   "mimetype": "text/x-python",
   "name": "python",
   "nbconvert_exporter": "python",
   "pygments_lexer": "ipython3",
   "version": "3.10.12"
  }
 },
 "nbformat": 4,
 "nbformat_minor": 2
}
